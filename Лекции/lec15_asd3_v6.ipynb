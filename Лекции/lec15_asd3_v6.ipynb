{
 "cells": [
  {
   "cell_type": "markdown",
   "metadata": {},
   "source": [
    "# Лекция 15 \"Структуры данных: деревья\"\n",
    "\n",
    "### Финансовый университет при Правительстве РФ, лектор С.В. Макрушин\n",
    "\n",
    "v 0.6 20.04.2022"
   ]
  },
  {
   "cell_type": "markdown",
   "metadata": {},
   "source": [
    "## Разделы: <a class=\"anchor\" id=\"разделы\"></a>\n",
    "\n",
    "* [Деревья](#деревья)\n",
    "* [Знакомство с бинарными деревьями](#бинарные)\n",
    "* [Использование бинарных деревьев в прикладных задачах](#прикладные)\n",
    "* [Обход бинарных деревьев](#обход)\n",
    "* [Двоичное дерево поиска](#поиска)\n",
    "\n",
    "-\n",
    "\n",
    "* [к оглавлению](#разделы)"
   ]
  },
  {
   "cell_type": "code",
   "execution_count": 1,
   "metadata": {},
   "outputs": [
    {
     "data": {
      "text/html": [
       "﻿<style>\r\n",
       "\r\n",
       "\r\n",
       "b.n {\r\n",
       "    font-weight: normal;        \r\n",
       "}\r\n",
       "\r\n",
       "b.grbg {\r\n",
       "    background-color: #a0a0a0;      \r\n",
       "}\r\n",
       "\r\n",
       "b.r {\r\n",
       "    color: #ff0000;    \r\n",
       "}\r\n",
       "\r\n",
       "\r\n",
       "b.b {    \r\n",
       "    color: #0000ff;    \r\n",
       "}\r\n",
       "\r\n",
       "b.g {\r\n",
       "    color: #00ff00;    \r\n",
       "}\r\n",
       "\r\n",
       "\r\n",
       "// add your CSS styling here\r\n",
       "\r\n",
       "list-style: none;\r\n",
       "\r\n",
       "ul.s {\r\n",
       "//    list-style-type: none;\r\n",
       "    list-style: none;\r\n",
       "//    background-color: #ff0000;  \r\n",
       "//    color: #ffff00;\r\n",
       "//  padding-left: 1.2em;\r\n",
       "//  text-indent: -1.2em;\r\n",
       "}\r\n",
       "\r\n",
       "li.t {\r\n",
       "    list-style: none;\r\n",
       "//  padding-left: 1.2em;\r\n",
       "//  text-indent: -1.2em;    \r\n",
       "}\r\n",
       "\r\n",
       "\r\n",
       "*.r {\r\n",
       "    color: #ff0000;    \r\n",
       "}\r\n",
       "\r\n",
       "li.t:before {\r\n",
       "    content: \"\\21D2\";    \r\n",
       "//    content: \"►\";\r\n",
       "//    padding-left: -1.2em;    \r\n",
       "    text-indent: -1.2em;    \r\n",
       "    display: block;\r\n",
       "    float: left;\r\n",
       "    \r\n",
       "    \r\n",
       "//    width: 1.2em;\r\n",
       "//    color: #ff0000;\r\n",
       "}\r\n",
       "\r\n",
       "i.m:before {\r\n",
       "    font-style: normal;    \r\n",
       "    content: \"\\21D2\";  \r\n",
       "}\r\n",
       "i.m {\r\n",
       "    font-style: normal; \r\n",
       "}    \r\n",
       "\r\n",
       "/*--------------------*/\r\n",
       "/* em {\r\n",
       "    font-style: normal; \r\n",
       "} */\r\n",
       "\r\n",
       "\r\n",
       "em.bl {\r\n",
       "    font-style: normal;     \r\n",
       "    font-weight: bold;        \r\n",
       "}\r\n",
       "\r\n",
       "/* em.grbg {\r\n",
       "    font-style: normal;         \r\n",
       "    background-color: #a0a0a0;      \r\n",
       "} */\r\n",
       "\r\n",
       "em.cr {\r\n",
       "    font-style: normal;         \r\n",
       "    color: #ff0000;    \r\n",
       "}\r\n",
       "\r\n",
       "em.cb {    \r\n",
       "    font-style: normal;         \r\n",
       "    color: #0000ff;    \r\n",
       "}\r\n",
       "\r\n",
       "em.cg {\r\n",
       "    font-style: normal;         \r\n",
       "    color: #00ff00;    \r\n",
       "}\r\n",
       "\r\n",
       "/*--------------------*/\r\n",
       "\r\n",
       "em.qs {\r\n",
       "    font-style: normal; \r\n",
       "}\r\n",
       "\r\n",
       "em.qs::before {\r\n",
       "    font-weight: bold;    \r\n",
       "    color: #ff0000;    \r\n",
       "    content: \"Q:\";  \r\n",
       "}\r\n",
       "\r\n",
       "em.an {\r\n",
       "    font-style: normal; \r\n",
       "}\r\n",
       "\r\n",
       "em.an:before {\r\n",
       "    font-weight: bold;    \r\n",
       "    color: #0000ff;    \r\n",
       "    content: \"A:\";  \r\n",
       "}\r\n",
       "    \r\n",
       "em.nt {\r\n",
       "    font-style: normal; \r\n",
       "}\r\n",
       "\r\n",
       "em.nt:before {\r\n",
       "    font-weight: bold;    \r\n",
       "    color: #0000ff;    \r\n",
       "    content: \"Note:\";  \r\n",
       "}    \r\n",
       "    \r\n",
       "em.ex {\r\n",
       "    font-style: normal; \r\n",
       "}\r\n",
       "\r\n",
       "em.ex:before {\r\n",
       "    font-weight: bold;    \r\n",
       "    color: #00ff00;    \r\n",
       "    content: \"Ex:\";  \r\n",
       "} \r\n",
       "    \r\n",
       "em.df {\r\n",
       "    font-style: normal; \r\n",
       "}\r\n",
       "\r\n",
       "em.df:before {\r\n",
       "    font-weight: bold;    \r\n",
       "    color: #0000ff;    \r\n",
       "    content: \"Def:\";  \r\n",
       "}    \r\n",
       "\r\n",
       "em.pl {\r\n",
       "    font-style: normal; \r\n",
       "}\r\n",
       "\r\n",
       "em.pl:before {\r\n",
       "    font-weight: bold;    \r\n",
       "    color: #0000ff;    \r\n",
       "    content: \"+\";  \r\n",
       "}    \r\n",
       "\r\n",
       "em.mn {\r\n",
       "    font-style: normal; \r\n",
       "}\r\n",
       "\r\n",
       "em.mn:before {\r\n",
       "    font-weight: bold;    \r\n",
       "    color: #0000ff;    \r\n",
       "    content: \"-\";  \r\n",
       "}        \r\n",
       "\r\n",
       "em.plmn {\r\n",
       "    font-style: normal; \r\n",
       "}\r\n",
       "\r\n",
       "em.plmn:before {\r\n",
       "    font-weight: bold;    \r\n",
       "    color: #0000ff;    \r\n",
       "    content: \"\\00B1\";\\\\\"&plusmn;\";  \r\n",
       "}\r\n",
       "    \r\n",
       "em.hn {\r\n",
       "    font-style: normal; \r\n",
       "}\r\n",
       "\r\n",
       "em.hn:before {\r\n",
       "    font-weight: bold;    \r\n",
       "    color: #0000ff;    \r\n",
       "    content: \"\\21D2\";\\\\\"&rArr;\";  \r\n",
       "}     \r\n",
       "    \r\n",
       "</style>"
      ],
      "text/plain": [
       "<IPython.core.display.HTML object>"
      ]
     },
     "execution_count": 1,
     "metadata": {},
     "output_type": "execute_result"
    }
   ],
   "source": [
    "# загружаем стиль для оформления презентации\n",
    "from IPython.display import HTML\n",
    "from urllib.request import urlopen\n",
    "html = urlopen(\"file:./lec_v1.css\")\n",
    "HTML(html.read().decode('utf-8'))"
   ]
  },
  {
   "cell_type": "markdown",
   "metadata": {},
   "source": [
    "---\n",
    "\n",
    "## Деревья <a class=\"anchor\" id=\"деревья\"></a>\n",
    "* [к оглавлению](#разделы)"
   ]
  },
  {
   "cell_type": "markdown",
   "metadata": {},
   "source": [
    "Дерево - связный ациклический граф."
   ]
  },
  {
   "cell_type": "markdown",
   "metadata": {},
   "source": [
    "<center> \n",
    "    <img src=\"./img/tree_1.png\" alt=\"Пример случайного блуждания в сети\" style=\"width: 500px;\"/>\n",
    "    <strong>Представление деревьев: а – иерархическая структура, б – множества, в – линейное представление</strong>\n",
    "</center>"
   ]
  },
  {
   "cell_type": "markdown",
   "metadata": {},
   "source": [
    "* __Граф__ (или сеть) состоит из: вершин или узлов (vertice, node) и ребер или дуг или связей (edge, arc, link).\n",
    "\n",
    "* __Путь__ - упорядоченный список узлов, связанных друг с другом.\n",
    "\n",
    "* __Дочерние узлы__ (children) - все узлы имеющие входящие связи от некоторого узла, называются дочерними узлами данного узла.\n",
    "\n",
    "* __Родитель__ (parent) - узел, исходящая связь которого соединена с данным узлом.\n",
    "\n",
    "* __Сиблинги__ (sibling) - узлы, являющиеся дочерними узлами родителя данного узла.\n",
    "\n",
    "* __Корень__ (root) — узел дерева, не имеющий родитетеля.\n",
    "\n",
    "* __Лист__ (leaf node) (или терминальный узел) — узел, не имеющий дочерних узлов.\n",
    "\n",
    "* __Внутренний узел__ — любой узел дерева, имеющий дочерние узлы, и таким образом, не являющийся листовым узлом.\n",
    "\n",
    "* __Уровень (level) узла__ - длина пути от корня до данного узла. Уровень корня по определению равен 0.\n",
    "\n",
    "* __Высота дерева__ (height) - максимальный уровень среди узлов дерева.\n",
    "\n",
    "* __Поддерво__ (subtree) - множество узлов и связей включающее родителя и всех его потомков."
   ]
  },
  {
   "cell_type": "markdown",
   "metadata": {},
   "source": [
    "---\n",
    "\n",
    "## Знакомство с бинарными деревьями <a class=\"anchor\" id=\"бинарные\"></a>\n",
    "* [к оглавлению](#разделы)"
   ]
  },
  {
   "cell_type": "markdown",
   "metadata": {},
   "source": [
    "Двоичное (бинарное) дерево (binary tree) — иерархическая структура данных, в которой каждый узел имеет не более двух потомков (детей). Обычно, первый называется родительским узлом, а дети называются левым и правым наследниками."
   ]
  },
  {
   "cell_type": "markdown",
   "metadata": {},
   "source": [
    "<center> \n",
    "    <img src=\"./img/tree_2.png\" alt=\"Пример случайного блуждания в сети\" style=\"width: 500px;\"/>\n",
    "    <strong>Пример небольшого бинарного дерева</strong>\n",
    "</center>"
   ]
  },
  {
   "cell_type": "markdown",
   "metadata": {},
   "source": [
    "Среди бинарных деревьев отдельно выделяют __полные бинарные деревья__, все вершины которых имеют по две дочерних, кроме листьев, которые расположены на одинаковой глубине:\n",
    "\n",
    "<center> \n",
    "    <img src=\"./img/tree_4.png\" alt=\"Пример случайного блуждания в сети\" style=\"width: 500px;\"/>\n",
    "    <strong>Пример полного бинарного дерева</strong>\n",
    "</center>"
   ]
  },
  {
   "cell_type": "markdown",
   "metadata": {},
   "source": [
    "Также полными часто называют бинарные деревья, у которых полностью заполнены _все уровни, кроме последнего_ :\n",
    "\n",
    "<center> \n",
    "    <img src=\"./img/tree_5.png\" alt=\"Пример случайного блуждания в сети\" style=\"width: 500px;\"/>\n",
    "    <strong>Пример полного бинарного дерева с не полностью заполненным бинарным деревом</strong>\n",
    "</center>"
   ]
  },
  {
   "cell_type": "code",
   "execution_count": 2,
   "metadata": {},
   "outputs": [],
   "source": [
    "# Представление бинарного дерева в виде списка списков:\n",
    "my_tree = \\\n",
    "['a', #root\n",
    "    ['b', #left subtree\n",
    "        ['d', [], []],\n",
    "        ['e', [], []] ],\n",
    "    ['c', #right subtree\n",
    "        ['f', [], []],\n",
    "        [] ]\n",
    "]"
   ]
  },
  {
   "cell_type": "markdown",
   "metadata": {},
   "source": [
    "Пример API (application programming interface) для работы с двоичными деревьями:\n",
    "* `BinaryTree()` - создание нового экземпляра бинарного дерева.\n",
    "* `get_left_child()` - возвращает бинарное дерево связанное с левым дочерним узлом рассматриваемого узла.\n",
    "* `get_right_child()` - возвращает бинарное дерево связанное с правым дочерним узлом рассматриваемого узла. \n",
    "* `get_root_val()` - возвращает объект, хранящийся в данном узле.\n",
    "* `set_root_val(val)` - сохраняет объект, хранящийся в данном узле.\n",
    "* `insert_left(val)` - создает новое бинарное дерево связанное с левым дочерним узлом рассматриваемого узла.\n",
    "* `insert_right(val)` - создает новое бинарное дерево связанное с правым дочерним узлом рассматриваемого узла."
   ]
  },
  {
   "cell_type": "code",
   "execution_count": 3,
   "metadata": {},
   "outputs": [
    {
     "name": "stdout",
     "output_type": "stream",
     "text": [
      "['a', ['b', ['d', [], []], ['e', [], []]], ['c', ['f', [], []], []]]\n",
      "left subtree =  ['b', ['d', [], []], ['e', [], []]]\n",
      "root =  a\n",
      "right subtree =  ['c', ['f', [], []], []]\n"
     ]
    }
   ],
   "source": [
    "print(my_tree)\n",
    "print('left subtree = ', my_tree[1])\n",
    "print('root = ', my_tree[0])\n",
    "print('right subtree = ', my_tree[2])"
   ]
  },
  {
   "cell_type": "code",
   "execution_count": 4,
   "metadata": {},
   "outputs": [],
   "source": [
    "# Пример реализации функции insert_left для представления бинарного дерева в виде списка списков:\n",
    "def insert_left(root, new_branch):\n",
    "    t = root.pop(1)\n",
    "    if len(t) > 1:\n",
    "        root.insert(1, [new_branch, t, []])\n",
    "    else:\n",
    "        root.insert(1, [new_branch, [], []])\n",
    "    return root"
   ]
  },
  {
   "cell_type": "code",
   "execution_count": 5,
   "metadata": {},
   "outputs": [
    {
     "data": {
      "text/plain": [
       "['c', ['H', ['f', [], []], []], []]"
      ]
     },
     "execution_count": 5,
     "metadata": {},
     "output_type": "execute_result"
    }
   ],
   "source": [
    "insert_left(my_tree[2], 'H')"
   ]
  },
  {
   "cell_type": "markdown",
   "metadata": {},
   "source": [
    "<center> \n",
    "    <img src=\"./img/tree_3.png\" alt=\"Пример случайного блуждания в сети\" style=\"width: 400px;\"/>\n",
    "    <strong>Пример представления бинарного дерева в виде узлов и ссылок</strong>\n",
    "</center>"
   ]
  },
  {
   "cell_type": "code",
   "execution_count": 6,
   "metadata": {},
   "outputs": [],
   "source": [
    "# Фрагмент реализации бинарного дерева с помощью представления в виде узлов и ссылок:\n",
    "class BinaryTree:\n",
    "    def __init__(self, root):\n",
    "        self.key = root\n",
    "        self.left_child = None\n",
    "        self.right_child = None\n",
    "        \n",
    "    def insert_left(self,new_node):\n",
    "        if self.left_child == None:\n",
    "            self.left_child = BinaryTree(new_node)\n",
    "        else:\n",
    "            t = BinaryTree(new_node)\n",
    "            t.left_child = self.left_child\n",
    "            self.left_child = t\n",
    "            \n",
    "    def insert_right(self,new_node):\n",
    "        if self.right_child == None:\n",
    "            self.right_child = BinaryTree(new_node)\n",
    "        else:\n",
    "            t = BinaryTree(new_node)\n",
    "            t.right_child = self.right_child\n",
    "            self.right_child = t\n",
    "    \n",
    "    def get_right_child(self):\n",
    "        return self.right_child\n",
    "\n",
    "    def get_left_child(self):\n",
    "        return self.left_child\n",
    "\n",
    "    def set_root_val(self,obj):\n",
    "        self.key = obj\n",
    "\n",
    "    def get_root_val(self):\n",
    "        return self.key\n",
    "    \n",
    "    def __str__(self):\n",
    "        return '{} ({}, {})'.format(self.get_root_val(), str(self.get_left_child()), str(self.get_right_child()))"
   ]
  },
  {
   "cell_type": "code",
   "execution_count": 7,
   "metadata": {},
   "outputs": [
    {
     "name": "stdout",
     "output_type": "stream",
     "text": [
      "a (None, None)\n"
     ]
    }
   ],
   "source": [
    "r = BinaryTree('a')\n",
    "print(r)"
   ]
  },
  {
   "cell_type": "code",
   "execution_count": 8,
   "metadata": {},
   "outputs": [
    {
     "name": "stdout",
     "output_type": "stream",
     "text": [
      "a (b (None, None), None)\n",
      "b (None, None)\n",
      "b\n"
     ]
    }
   ],
   "source": [
    "r.insert_left('b')\n",
    "print(r)\n",
    "print(r.get_left_child())\n",
    "print(r.get_left_child().get_root_val())"
   ]
  },
  {
   "cell_type": "code",
   "execution_count": 9,
   "metadata": {},
   "outputs": [
    {
     "name": "stdout",
     "output_type": "stream",
     "text": [
      "a (b (None, None), c (None, None))\n",
      "c (None, None)\n",
      "c\n"
     ]
    }
   ],
   "source": [
    "r.insert_right('c')\n",
    "print(r)\n",
    "print(r.get_right_child())\n",
    "print(r.get_right_child().get_root_val())"
   ]
  },
  {
   "cell_type": "code",
   "execution_count": 10,
   "metadata": {},
   "outputs": [
    {
     "name": "stdout",
     "output_type": "stream",
     "text": [
      "hello\n"
     ]
    }
   ],
   "source": [
    "r.get_right_child().set_root_val('hello')\n",
    "print(r.get_right_child().get_root_val())"
   ]
  },
  {
   "cell_type": "code",
   "execution_count": 11,
   "metadata": {},
   "outputs": [
    {
     "name": "stdout",
     "output_type": "stream",
     "text": [
      "a (b (None, None), hello (None, None))\n"
     ]
    }
   ],
   "source": [
    "print(r)"
   ]
  },
  {
   "cell_type": "code",
   "execution_count": 12,
   "metadata": {},
   "outputs": [
    {
     "name": "stdout",
     "output_type": "stream",
     "text": [
      "a (b (None, None), f (None, hello (None, None)))\n"
     ]
    }
   ],
   "source": [
    "r.insert_right('f')\n",
    "print(r)"
   ]
  },
  {
   "cell_type": "markdown",
   "metadata": {},
   "source": [
    "---\n",
    "\n",
    "## Использование бинарных деревьев в прикладных задачах <a class=\"anchor\" id=\"прикладные\"></a>\n",
    "* [к оглавлению](#разделы)"
   ]
  },
  {
   "cell_type": "markdown",
   "metadata": {},
   "source": [
    "Двоичные деревья можно использовать для разбора (parsing) различных выражений. Рассмотрим, например, представления математического выражения ((7 + 3) * (5 − 2)) в виде двоичного дерева."
   ]
  },
  {
   "cell_type": "markdown",
   "metadata": {},
   "source": [
    "<center> \n",
    "    <img src=\"./img/m_tree_1.png\" alt=\"Пример случайного блуждания в сети\" style=\"width: 500px;\"/>\n",
    "    <strong>Представление математического выражения ((7 + 3) * (5 − 2)) в виде двоичного дерева</strong>\n",
    "</center>"
   ]
  },
  {
   "cell_type": "markdown",
   "metadata": {},
   "source": [
    "Представление выражения (предложения) в виде дерева позволяет удобно работать с частями выражения как с поддервеьями или родительским и дочерним узлов (пример на рис.):\n",
    "\n",
    "<center> \n",
    "    <img src=\"./img/m_tree_2.png\" alt=\"Пример случайного блуждания в сети\" style=\"width: 300px;\"/>\n",
    "    <strong>Пример представление математического выражения в виде дерева</strong>\n",
    "</center>"
   ]
  },
  {
   "cell_type": "markdown",
   "metadata": {
    "collapsed": true
   },
   "source": [
    "Для испльзования древовидного представления выражения необходимо решить следующие задачи:\n",
    "\n",
    "* построить древововидное представление выражения в результате разбора математического выражения.\n",
    "* вычислить математиченское выражение, представленное в виде двоичного дерева.\n",
    "* восстановить исходное математическое выражение из дрвеовидного представления."
   ]
  },
  {
   "cell_type": "markdown",
   "metadata": {},
   "source": [
    "Алгоритм разбора математического выражения для получения его древовидного представления:\n",
    "1. Если текущий токен ‘(’, то добавляем новый узел в качестве левого дочернего узла текущего узла и спускаемся в новый узел.\n",
    "2. Если текущий токен содержится в списке [‘+’,‘−’,‘/’,‘*’], то устанавливаем значение в текущем узле, соответствующее оператору, представленному в токене. Добавляем новый узел в качестве правого дочернего узла текущего узла и спускаемся в него.\n",
    "3. Если текущий токен является числом, то устанавливаем значение в текущем узле соответствующее числу в токене и переходим к родительскому узлу. \n",
    "4. Если текущий токен ‘)’, то переходим к родителю текущего узла. "
   ]
  },
  {
   "cell_type": "markdown",
   "metadata": {},
   "source": [
    "Разбор математического выражения (3 + (4 \\* 5)) или [‘(’, ‘3’, ‘+’, ‘(’, ‘4’, ‘*’, ‘5’ ,‘)’, ‘)’] и построение на его основе двоичного дерева:\n",
    "\n",
    "<center> \n",
    "    <img src=\"./img/m_tree_3.png\" alt=\"Пример случайного блуждания в сети\" style=\"width: 400px;\"/>\n",
    "    <strong>Разбор математического выражения (3 + (4 \\* 5))</strong>\n",
    "</center>"
   ]
  },
  {
   "cell_type": "markdown",
   "metadata": {},
   "source": [
    "Для вычисления значения выражения имеющего древовидное представление достаточно реализовать простую рекурсивную функцию."
   ]
  },
  {
   "cell_type": "markdown",
   "metadata": {},
   "source": [
    "<center> \n",
    "    <img src=\"./img/m_tree_4.png\" alt=\"Пример случайного блуждания в сети\" style=\"width: 500px;\"/>\n",
    "    <strong>Представление документа (книги) как дерева</strong>\n",
    "</center>"
   ]
  },
  {
   "cell_type": "code",
   "execution_count": null,
   "metadata": {},
   "outputs": [],
   "source": []
  },
  {
   "cell_type": "markdown",
   "metadata": {},
   "source": [
    "---\n",
    "\n",
    "## Обход бинарных деревьев <a class=\"anchor\" id=\"обход\"></a>\n",
    "* [к оглавлению](#разделы)\n",
    "\n",
    "\n",
    "\n",
    "* Обход (traversing/walk)  бинарных деревьев"
   ]
  },
  {
   "cell_type": "markdown",
   "metadata": {},
   "source": [
    "Прямой (preorder) порядок обхода дерева:\n",
    "\n",
    "1. Первым просматривается корневой узел\n",
    "2. Затем производится рекурсивный прямой обход левого поддерева.\n",
    "3. Затем производится рекурсивный прямой обход правого поддерева.\n",
    "\n",
    "<center> \n",
    "    <img src=\"./img/t_tree_1.png\" alt=\"Пример случайного блуждания в сети\" style=\"width: 500px;\"/>\n",
    "    <strong>Прямой (preorder) порядок обхода дерева</strong>\n",
    "</center>"
   ]
  },
  {
   "cell_type": "markdown",
   "metadata": {},
   "source": [
    "Обратный (postorder) порядок обхода дерева:\n",
    "\n",
    "1. Первым производится рекурсивный обратный обход левого поддерева.\n",
    "2. Затем производится рекурсивный обратный обход правого поддерева.\n",
    "3. Затем просматривается корневой узел\n",
    "\n",
    "<center> \n",
    "    <img src=\"./img/t_tree_2.png\" alt=\"Пример случайного блуждания в сети\" style=\"width: 500px;\"/>\n",
    "    <strong>Обратный (postorder) порядок обхода дерева</strong>\n",
    "</center>"
   ]
  },
  {
   "cell_type": "markdown",
   "metadata": {},
   "source": [
    "Симметричный (inorder) порядок обхода дерева:\n",
    "\n",
    "1. Первым производится рекурсивный симметричный обход левого поддерева. \n",
    "2. Затем просматривается корневой узел\n",
    "3. Затем производится рекурсивный симметричный обход правого поддерева.\n",
    "\n",
    "\n",
    "![](t_tree_3.png)"
   ]
  },
  {
   "cell_type": "markdown",
   "metadata": {},
   "source": [
    "---\n",
    "\n",
    "## Двоичное дерево поиска <a class=\"anchor\" id=\"поиска\"></a>\n",
    "* [к оглавлению](#разделы)"
   ]
  },
  {
   "cell_type": "markdown",
   "metadata": {},
   "source": [
    "Двоичное дерево поиска (binary search tree, BST) — это двоичное дерево, для которого выполняются следующие дополнительные условия (свойства дерева поиска):\n",
    "\n",
    "1. Оба поддерева — левое и правое — являются двоичными деревьями поиска.\n",
    "2. У всех узлов левого поддерева произвольного узла X значения ключей данных меньше, нежели значение ключа данных самого узла X.\n",
    "3. У всех узлов правого поддерева произвольного узла X значения ключей данных больше либо равно, нежели значение ключа данных самого узла X.\n",
    "\n",
    "Очевидно, данные в каждом узле должны обладать ключами, на которых определена операция сравнения (например, операция меньше)."
   ]
  },
  {
   "cell_type": "markdown",
   "metadata": {},
   "source": [
    "<center> \n",
    "    <img src=\"./img/bst_tree_1.png\" alt=\"Пример случайного блуждания в сети\" style=\"width: 500px;\"/>\n",
    "    <strong>Пример двоичного дерва поиска</strong>\n",
    "</center>"
   ]
  },
  {
   "cell_type": "markdown",
   "metadata": {},
   "source": [
    "Основные операции в бинарном дереве поиска выполняются за время, __пропорциональное его высоте__. Для полного бинарного дерева с $n$ узлами эти операции выполняются за время $O(\\ln n)$ в наихудшем \n",
    "случае. Математическое ожидание высоты построенного случайным образом бинарного дерева равно $О (\\ln n)$, так что все основные операции динамическим множеством в таком дереве выполняются в среднем за \n",
    "время $\\Theta (\\ln n)$."
   ]
  },
  {
   "cell_type": "markdown",
   "metadata": {},
   "source": [
    "На практике мы не всегда можем гарантировать случайность построения бинарного дерева поиска, однако имеются версии деревьев, в \n",
    "которых гарантируется хорошее время работы в наихудшем случае. \n",
    "\n",
    "Речь идет о деревьях сбалансированных по высоте по определенным критериям, это:\n",
    "* АВЛ –деревья\n",
    "* 2-3, 3-4 деревья\n",
    "* красно-черные деревья\n",
    "\n",
    "высота которых определяется как $О (\\ln n)$. "
   ]
  },
  {
   "cell_type": "markdown",
   "metadata": {},
   "source": [
    "Алгоритм вставки нового узла в двоичное дерево поиска:\n",
    "\n",
    "1. Начинаем просмотр с корня деерва (первый текущий узел - корень).\n",
    "2. Сравниваем значение нового узла со значением в текущем узле. Если значение в новом узле меньше, то продолжаем поиск в левом поддереве (текущим узлом становется левый дочерений узел предыдущего текущего узла). Если значение в новом узле больше чем в текущем узле, то продолжаем поиск в правом поддереве.\n",
    "3. Если левого или правого поддерва не существует, то мы обнаружили место для вставки нвого элемента. На это место вставляется новый узел дерева. "
   ]
  },
  {
   "cell_type": "markdown",
   "metadata": {},
   "source": [
    "<center> \n",
    "    <img src=\"./img/bst_tree_2.png\" alt=\"Пример случайного блуждания в сети\" style=\"width: 600px;\"/>\n",
    "    <strong>Пример вставки узла в двоичное дерево поиска</strong>\n",
    "</center>"
   ]
  },
  {
   "cell_type": "code",
   "execution_count": 13,
   "metadata": {},
   "outputs": [],
   "source": [
    "# Приер реализации поика элемента в двоичном дереве поиска:\n",
    "def get(self,key):\n",
    "    if self.root:\n",
    "        res = self._get(key, self.root)\n",
    "        if res:\n",
    "            return res.payload\n",
    "        else:\n",
    "            return None\n",
    "    else:\n",
    "        return None\n",
    "\n",
    "def _get(self, key, current_node):\n",
    "    if not current_node:\n",
    "        return None\n",
    "    elif current_node.key == key:\n",
    "        return current_node    \n",
    "    elif key < current_node.key:\n",
    "        return self._get(key, current_node.left_child)\n",
    "    else:\n",
    "        return self._get(key, current_node.right_child)  "
   ]
  },
  {
   "cell_type": "code",
   "execution_count": 14,
   "metadata": {},
   "outputs": [],
   "source": [
    "def __getitem__(self, key):\n",
    "    return self.get(key)  \n",
    "\n",
    "def __contains__(self, key):\n",
    "    if self._get(key, self.root):\n",
    "        return True\n",
    "    else:\n",
    "        return False"
   ]
  },
  {
   "cell_type": "markdown",
   "metadata": {},
   "source": [
    "Наиболее сложной операцией является удаление узла из дерева:\n",
    "\n",
    "Шаг 1. При помощи поиска по дереву найти узел который нужно удалить.\n",
    "\n",
    "Шаг 2. После обнаружения узла существует три случая, которые требуют специфической реализации операции удаления узла."
   ]
  },
  {
   "cell_type": "markdown",
   "metadata": {},
   "source": [
    "<center> \n",
    "    <img src=\"./img/bst_tree_3.png\" alt=\"Пример случайного блуждания в сети\" style=\"width: 800px;\"/>\n",
    "    <strong>Случай 1. Удаляемый узел не имеет потомков</strong>\n",
    "</center>"
   ]
  },
  {
   "cell_type": "markdown",
   "metadata": {},
   "source": [
    "<center> \n",
    "    <img src=\"./img/bst_tree_4.png\" alt=\"Пример случайного блуждания в сети\" style=\"width: 800px;\"/>\n",
    "    <strong>Случай 2. Удаляемый узел имеет только одного потомка</strong>\n",
    "</center>"
   ]
  },
  {
   "cell_type": "markdown",
   "metadata": {},
   "source": [
    "1. Если текущий узел является левым дочерним узлом, то у его дочернего узла нужно обновить ссылку на родителя, так, чтобы она вела на родителя текущего узла. Связь родителя текущего узла с левым дочерним узлом изменится так, что он будет ссылался на дочерний узел текущего узла.\n",
    "\n",
    "2. Если текущий узел является правым дочерним узлом, то у его дочернего узла нужно обновить ссылку на родителя, так, чтобы она вела на родителя текущего узла. Связь родителя текущего узла с правым дочерним узлом изменится так, что он будет ссылался на дочерний узел текущего узла.\n",
    "\n",
    "3. Если у текущего узла нет родительского узла (т.е. он является корневым узлом), то его единственный потомок станет новым корневым узлом."
   ]
  },
  {
   "cell_type": "markdown",
   "metadata": {},
   "source": [
    "<center> \n",
    "    <img src=\"./img/bst_tree_5.png\" alt=\"Пример случайного блуждания в сети\" style=\"width: 800px;\"/>\n",
    "    <strong>Случай 3. Удаляемый узел имеет двух потомков</strong>\n",
    "</center>"
   ]
  },
  {
   "cell_type": "markdown",
   "metadata": {},
   "source": [
    "Если у удаляемого узла Z два дочерних узла, то мы находим следующий за ним по величине узел Y, у которого не более одного дочернего узла и убираем его из позиции, где он находился ранее, путем создания новой связи между его родителем и потомком, и заменяем им узел Z.\n",
    "\n",
    "Поиск Y осуществляется следующим образом:\n",
    "1. Переходим из Z в его правое поддерево.\n",
    "2. Двигаемся вниз по левому поддерву, пока не встретим узел Y, у котрого нет левого дочернего узла (у Y может быть только один правый дочерний элемент, либо может не быть дочерних элементов вовсе). Y - искомый узел."
   ]
  },
  {
   "cell_type": "markdown",
   "metadata": {},
   "source": [
    "<center> \n",
    "    <img src=\"./img/bst_tree_6.png\" alt=\"Пример случайного блуждания в сети\" style=\"width: 600px;\"/>\n",
    "    <strong>Пример неэффективного двоичного дерева поиска</strong>\n",
    "</center>"
   ]
  },
  {
   "cell_type": "markdown",
   "metadata": {},
   "source": [
    "Алгоритм вставки в бинарное дерево, который мы только что \n",
    "рассмотрели, дает хорошие результаты при использовании случайных \n",
    "входных данных, но все же существует неприятная возможность того, \n",
    "что при этом будет построено вырожденное дерево. Можно было бы \n",
    "разработать алгоритм, поддерживающий дерево в оптимальном состоянии все время, где под оптимальностью мы в данном случае понимаем сбалансированность дерева. \n",
    "\n",
    "Идеально сбалансированным \n",
    "называется дерево, у которого для каждой вершины выполняется требование: число вершин в левом и правом поддеревьях различается не \n",
    "более чем на 1. \n",
    "\n",
    "Поддержка идеальной сбалансированности, к сожалению, очень сложная задача. Другая идея заключается в том, чтобы \n",
    "ввести менее жесткие критерии сбалансированности и на их основе \n",
    "предложить достаточно простые алгоритмы обеспечения этих критериев. "
   ]
  },
  {
   "cell_type": "markdown",
   "metadata": {},
   "source": [
    "## Двоичные кучи и очереди с приоритетом"
   ]
  },
  {
   "cell_type": "markdown",
   "metadata": {},
   "source": [
    "Двоичная куча (пирамида) (binary heap) — такое двоичное дерево, для которого выполнены три условия:\n",
    "\n",
    "1. Значение в любой вершине не больше, чем значения её потомков.\n",
    "2. Уровень всех листьев (расстояние до корня) отличается не более чем на 1.\n",
    "3. Последний уровень заполняется слева направо без «дырок»."
   ]
  },
  {
   "cell_type": "markdown",
   "metadata": {},
   "source": [
    "<center> \n",
    "    <img src=\"./img/bh_tree_1.png\" alt=\"Пример случайного блуждания в сети\" style=\"width: 800px;\"/>\n",
    "    <strong>Пример двоичной кучи</strong>\n",
    "</center>"
   ]
  },
  {
   "cell_type": "markdown",
   "metadata": {},
   "source": [
    "Для гарантированной логарифмической производительности мы дложны поддержвать двоичную кучу в виде сбалансированного дерева. Для этого мы будем строить двоичную кучу в виде полного бинарного дерева - дерева в котором каждый уровень кроме последнего содержит все возможные узлы, а последний уровень заполняется с лева на право без пропусков. "
   ]
  },
  {
   "cell_type": "markdown",
   "metadata": {},
   "source": [
    "<center> \n",
    "    <img src=\"./img/bh_tree_2.png\" alt=\"Пример случайного блуждания в сети\" style=\"width: 800px;\"/>\n",
    "    <strong>Пример двоичной кучи и ее представления в виде списка</strong>\n",
    "</center>"
   ]
  },
  {
   "cell_type": "markdown",
   "metadata": {},
   "source": [
    "Важным свойством полного бинарного дерева является то, что такое дерево может быть представленно в виде одного списка. Левый потомок родителя (имеющего индекс p) является элеменотом списка с индексом 2p. Аналогично, правый потомок является элеменотом списка с индексом 2p + 1. Для того, чтобы найти индекс родительского узла нужно взять целую часть от индекса элемента, разделенного на 2."
   ]
  },
  {
   "cell_type": "markdown",
   "metadata": {},
   "source": [
    "Базовые операции для двоичной кучи:\n",
    "\n",
    "* `BinaryHeap()` - создает новую пустую бинарную кучу\n",
    "* `insert(k)` - добавить элемент в кучу, cложность $ O(\\log {n})$\n",
    "* `find_min()` - возввратить минимальный элемент в куче, сложность $ O(1)$\n",
    "* `del_min()` - возввратить минимальный элемент и исключить его из кучи, cложность $ O(\\log {n})$\n",
    "* `is_empty()` - возвращает True если куча пуста и False в обратном случае\n",
    "* `size()` - количество элементов в куче \n",
    "* `build_heap(list)` - создает новую кучу на основе произвольного (не упроядоченного) массива, сложность $O(n)$\n",
    "\n",
    "Отсортировать массив путём превращения его в кучу, а кучи в отсортированный массив. Время работы $O(n\\log {n})$"
   ]
  },
  {
   "cell_type": "code",
   "execution_count": 15,
   "metadata": {},
   "outputs": [],
   "source": [
    "class BinHeap:\n",
    "    def __init__(self):\n",
    "        self.heap_list = [0]\n",
    "        self.current_size = 0"
   ]
  },
  {
   "cell_type": "markdown",
   "metadata": {},
   "source": [
    "<center> \n",
    "    <img src=\"./img/bh_tree_3.png\" alt=\"Пример случайного блуждания в сети\" style=\"width: 400px;\"/>\n",
    "    <strong>Вставка нового узла и просачивание его наверх</strong>\n",
    "</center>"
   ]
  },
  {
   "cell_type": "code",
   "execution_count": 16,
   "metadata": {},
   "outputs": [],
   "source": [
    "class BinHeap:\n",
    "    def __init__(self):\n",
    "        self.heap_list = [0]\n",
    "        self.current_size = 0\n",
    "        \n",
    "    def insert(self, k):\n",
    "        self.heap_list.append(k)\n",
    "        self.current_size = self.current_size + 1\n",
    "        perc_up(self, self.current_size)"
   ]
  },
  {
   "cell_type": "code",
   "execution_count": 17,
   "metadata": {},
   "outputs": [],
   "source": [
    "def perc_up(self, i):\n",
    "    while i // 2 > 0:\n",
    "        if self.heap_list[i] < self.heap_list[i // 2]:\n",
    "            tmp = self.heap_list[i // 2]\n",
    "            self.heap_list[i // 2] = self.heap_list[i]\n",
    "            self.heap_list[i] = tmp\n",
    "        else:\n",
    "            break\n",
    "        i = i // 2"
   ]
  },
  {
   "cell_type": "markdown",
   "metadata": {},
   "source": [
    "Реализация метода `del_min`:  \n",
    "\n",
    "Свойства кучи требуют, чтобы корень дерева был наименьшим элементом в дереве. Таким образом найти наименьший элемент просто.\n",
    "\n",
    "Сложной частью операции `del_min` является восстановление корректной структуры кучи и ее свойств после удаления корневого элемента.\n",
    "\n",
    "1. Мы восстановим корневой элемент установив на его место элемент, изъятый из последней позиции кучи (последний элемент в представлении кучи в виде списка). Таким образом будет получена корректная структура дерева для кучи, но при этом может быть нарушено правило порядка расположения элементов в куче. \n",
    "\n",
    "2. Восстановление порядка элементов в куче будет выполнено за счет \"проталкивания\" нового корневого элемента на корректную позицию. При \"проталкивании\" элемент при необходимости будет опускаться на место своего наименьшего потомка."
   ]
  },
  {
   "cell_type": "markdown",
   "metadata": {},
   "source": [
    "<center> \n",
    "    <img src=\"./img/bh_tree_4.png\" alt=\"Пример случайного блуждания в сети\" style=\"width: 400px;\"/>\n",
    "    <strong>Удаление корневого элемента и просачивание нового значения вниз</strong>\n",
    "</center>"
   ]
  },
  {
   "cell_type": "code",
   "execution_count": 18,
   "metadata": {},
   "outputs": [],
   "source": [
    "def perc_down(self, i):\n",
    "    while (i * 2) <= self.current_size:\n",
    "        mc = min_child(self, i)\n",
    "        if self.heap_list[i] > self.heap_list[mc]:\n",
    "            tmp = self.heap_list[i]\n",
    "            self.heap_list[i] = self.heap_list[mc]\n",
    "            self.heap_list[mc] = tmp\n",
    "        else:\n",
    "            break\n",
    "        i = mc"
   ]
  },
  {
   "cell_type": "code",
   "execution_count": 19,
   "metadata": {},
   "outputs": [],
   "source": [
    "def min_child(self, i):\n",
    "    if i * 2 + 1 > self.current_size:\n",
    "        return i * 2\n",
    "    else:\n",
    "        if self.heap_list[i * 2] < self.heap_list[i * 2 + 1]:\n",
    "            return i * 2\n",
    "        else:\n",
    "            return i * 2 + 1"
   ]
  },
  {
   "cell_type": "code",
   "execution_count": 20,
   "metadata": {},
   "outputs": [],
   "source": [
    "class BinHeap:\n",
    "    def __init__(self):\n",
    "        self.heap_list = [0]\n",
    "        self.current_size = 0\n",
    "        \n",
    "    def insert(self, k):\n",
    "        self.heap_list.append(k)\n",
    "        self.current_size = self.current_size + 1\n",
    "        perc_up(self, self.current_size)\n",
    "        \n",
    "    def del_min(self):\n",
    "        ret_val = self.heap_list[1]\n",
    "        self.heap_list[1] = self.heap_list[self.current_size]\n",
    "        self.current_size = self.current_size - 1\n",
    "        self.heap_list.pop()\n",
    "        perc_down(self, 1)\n",
    "        return ret_val        \n",
    "    \n",
    "    def build_heap(self, a_list):\n",
    "        i = len(a_list) // 2\n",
    "        self.current_size = len(a_list)\n",
    "        self.heap_list = [0] + a_list[:]\n",
    "        while (i > 0):\n",
    "            self.perc_down(i)\n",
    "            i = i - 1"
   ]
  },
  {
   "cell_type": "code",
   "execution_count": null,
   "metadata": {},
   "outputs": [],
   "source": []
  },
  {
   "cell_type": "code",
   "execution_count": null,
   "metadata": {},
   "outputs": [],
   "source": []
  },
  {
   "cell_type": "code",
   "execution_count": null,
   "metadata": {},
   "outputs": [],
   "source": []
  },
  {
   "cell_type": "code",
   "execution_count": null,
   "metadata": {},
   "outputs": [],
   "source": []
  },
  {
   "cell_type": "code",
   "execution_count": null,
   "metadata": {},
   "outputs": [],
   "source": []
  },
  {
   "cell_type": "code",
   "execution_count": null,
   "metadata": {},
   "outputs": [],
   "source": []
  },
  {
   "cell_type": "code",
   "execution_count": null,
   "metadata": {},
   "outputs": [],
   "source": []
  },
  {
   "cell_type": "code",
   "execution_count": null,
   "metadata": {},
   "outputs": [],
   "source": []
  },
  {
   "cell_type": "code",
   "execution_count": null,
   "metadata": {},
   "outputs": [],
   "source": []
  },
  {
   "cell_type": "code",
   "execution_count": null,
   "metadata": {},
   "outputs": [],
   "source": []
  },
  {
   "cell_type": "code",
   "execution_count": null,
   "metadata": {},
   "outputs": [],
   "source": []
  },
  {
   "cell_type": "code",
   "execution_count": null,
   "metadata": {},
   "outputs": [],
   "source": []
  },
  {
   "cell_type": "code",
   "execution_count": null,
   "metadata": {},
   "outputs": [],
   "source": []
  },
  {
   "cell_type": "code",
   "execution_count": null,
   "metadata": {},
   "outputs": [],
   "source": []
  },
  {
   "cell_type": "code",
   "execution_count": null,
   "metadata": {},
   "outputs": [],
   "source": []
  },
  {
   "cell_type": "code",
   "execution_count": null,
   "metadata": {},
   "outputs": [],
   "source": []
  }
 ],
 "metadata": {
  "anaconda-cloud": {},
  "kernelspec": {
   "display_name": "Python 3",
   "language": "python",
   "name": "python3"
  },
  "language_info": {
   "codemirror_mode": {
    "name": "ipython",
    "version": 3
   },
   "file_extension": ".py",
   "mimetype": "text/x-python",
   "name": "python",
   "nbconvert_exporter": "python",
   "pygments_lexer": "ipython3",
   "version": "3.8.5"
  }
 },
 "nbformat": 4,
 "nbformat_minor": 1
}
