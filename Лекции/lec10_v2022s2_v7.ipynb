{
 "cells": [
  {
   "cell_type": "markdown",
   "metadata": {},
   "source": [
    "\n",
    "# Лекция 10\n",
    "## Объектно-ориентированное программирование (продолжение)"
   ]
  },
  {
   "cell_type": "markdown",
   "metadata": {},
   "source": [
    "\n",
    "__Автор: Сергей Вячеславович Макрушин__ e-mail: SVMakrushin@fa.ru \n",
    "\n",
    "Финансовый универсиет, 2021 г.  \n",
    "\n",
    "v 0.7 15.02.2022"
   ]
  },
  {
   "cell_type": "markdown",
   "metadata": {},
   "source": [
    "## Разделы: <a class=\"anchor\" id=\"разделы\"></a>\n",
    "\n",
    "* [Методы классов и статические переменные и методы](#методы-классов)    \n",
    "* [Управление доступом к атрибутам класса](#управление-доступом)    \n",
    "* [Динамические операции с атрибутами и интроспекция](#интроспекция)    \n",
    "* [Специальные методы](#специальные)                 \n",
    "-\n",
    "\n",
    "* [к оглавлению](#разделы)"
   ]
  },
  {
   "cell_type": "code",
   "execution_count": 1,
   "metadata": {},
   "outputs": [
    {
     "data": {
      "text/html": [
       "﻿<style>\r\n",
       "\r\n",
       "\r\n",
       "b.n {\r\n",
       "    font-weight: normal;        \r\n",
       "}\r\n",
       "\r\n",
       "b.grbg {\r\n",
       "    background-color: #a0a0a0;      \r\n",
       "}\r\n",
       "\r\n",
       "b.r {\r\n",
       "    color: #ff0000;    \r\n",
       "}\r\n",
       "\r\n",
       "\r\n",
       "b.b {    \r\n",
       "    color: #0000ff;    \r\n",
       "}\r\n",
       "\r\n",
       "b.g {\r\n",
       "    color: #00ff00;    \r\n",
       "}\r\n",
       "\r\n",
       "\r\n",
       "// add your CSS styling here\r\n",
       "\r\n",
       "list-style: none;\r\n",
       "\r\n",
       "ul.s {\r\n",
       "//    list-style-type: none;\r\n",
       "    list-style: none;\r\n",
       "//    background-color: #ff0000;  \r\n",
       "//    color: #ffff00;\r\n",
       "//  padding-left: 1.2em;\r\n",
       "//  text-indent: -1.2em;\r\n",
       "}\r\n",
       "\r\n",
       "li.t {\r\n",
       "    list-style: none;\r\n",
       "//  padding-left: 1.2em;\r\n",
       "//  text-indent: -1.2em;    \r\n",
       "}\r\n",
       "\r\n",
       "\r\n",
       "*.r {\r\n",
       "    color: #ff0000;    \r\n",
       "}\r\n",
       "\r\n",
       "li.t:before {\r\n",
       "    content: \"\\21D2\";    \r\n",
       "//    content: \"►\";\r\n",
       "//    padding-left: -1.2em;    \r\n",
       "    text-indent: -1.2em;    \r\n",
       "    display: block;\r\n",
       "    float: left;\r\n",
       "    \r\n",
       "    \r\n",
       "//    width: 1.2em;\r\n",
       "//    color: #ff0000;\r\n",
       "}\r\n",
       "\r\n",
       "i.m:before {\r\n",
       "    font-style: normal;    \r\n",
       "    content: \"\\21D2\";  \r\n",
       "}\r\n",
       "i.m {\r\n",
       "    font-style: normal; \r\n",
       "}    \r\n",
       "\r\n",
       "/*--------------------*/\r\n",
       "/* em {\r\n",
       "    font-style: normal; \r\n",
       "} */\r\n",
       "\r\n",
       "\r\n",
       "em.bl {\r\n",
       "    font-style: normal;     \r\n",
       "    font-weight: bold;        \r\n",
       "}\r\n",
       "\r\n",
       "/* em.grbg {\r\n",
       "    font-style: normal;         \r\n",
       "    background-color: #a0a0a0;      \r\n",
       "} */\r\n",
       "\r\n",
       "em.cr {\r\n",
       "    font-style: normal;         \r\n",
       "    color: #ff0000;    \r\n",
       "}\r\n",
       "\r\n",
       "em.cb {    \r\n",
       "    font-style: normal;         \r\n",
       "    color: #0000ff;    \r\n",
       "}\r\n",
       "\r\n",
       "em.cg {\r\n",
       "    font-style: normal;         \r\n",
       "    color: #00ff00;    \r\n",
       "}\r\n",
       "\r\n",
       "/*--------------------*/\r\n",
       "\r\n",
       "em.qs {\r\n",
       "    font-style: normal; \r\n",
       "}\r\n",
       "\r\n",
       "em.qs::before {\r\n",
       "    font-weight: bold;    \r\n",
       "    color: #ff0000;    \r\n",
       "    content: \"Q:\";  \r\n",
       "}\r\n",
       "\r\n",
       "em.an {\r\n",
       "    font-style: normal; \r\n",
       "}\r\n",
       "\r\n",
       "em.an:before {\r\n",
       "    font-weight: bold;    \r\n",
       "    color: #0000ff;    \r\n",
       "    content: \"A:\";  \r\n",
       "}\r\n",
       "    \r\n",
       "em.nt {\r\n",
       "    font-style: normal; \r\n",
       "}\r\n",
       "\r\n",
       "em.nt:before {\r\n",
       "    font-weight: bold;    \r\n",
       "    color: #0000ff;    \r\n",
       "    content: \"Note:\";  \r\n",
       "}    \r\n",
       "    \r\n",
       "em.ex {\r\n",
       "    font-style: normal; \r\n",
       "}\r\n",
       "\r\n",
       "em.ex:before {\r\n",
       "    font-weight: bold;    \r\n",
       "    color: #00ff00;    \r\n",
       "    content: \"Ex:\";  \r\n",
       "} \r\n",
       "    \r\n",
       "em.df {\r\n",
       "    font-style: normal; \r\n",
       "}\r\n",
       "\r\n",
       "em.df:before {\r\n",
       "    font-weight: bold;    \r\n",
       "    color: #0000ff;    \r\n",
       "    content: \"Def:\";  \r\n",
       "}    \r\n",
       "\r\n",
       "em.pl {\r\n",
       "    font-style: normal; \r\n",
       "}\r\n",
       "\r\n",
       "em.pl:before {\r\n",
       "    font-weight: bold;    \r\n",
       "    color: #0000ff;    \r\n",
       "    content: \"+\";  \r\n",
       "}    \r\n",
       "\r\n",
       "em.mn {\r\n",
       "    font-style: normal; \r\n",
       "}\r\n",
       "\r\n",
       "em.mn:before {\r\n",
       "    font-weight: bold;    \r\n",
       "    color: #0000ff;    \r\n",
       "    content: \"-\";  \r\n",
       "}        \r\n",
       "\r\n",
       "em.plmn {\r\n",
       "    font-style: normal; \r\n",
       "}\r\n",
       "\r\n",
       "em.plmn:before {\r\n",
       "    font-weight: bold;    \r\n",
       "    color: #0000ff;    \r\n",
       "    content: \"\\00B1\";\\\\\"&plusmn;\";  \r\n",
       "}\r\n",
       "    \r\n",
       "em.hn {\r\n",
       "    font-style: normal; \r\n",
       "}\r\n",
       "\r\n",
       "em.hn:before {\r\n",
       "    font-weight: bold;    \r\n",
       "    color: #0000ff;    \r\n",
       "    content: \"\\21D2\";\\\\\"&rArr;\";  \r\n",
       "}     \r\n",
       "    \r\n",
       "</style>"
      ],
      "text/plain": [
       "<IPython.core.display.HTML object>"
      ]
     },
     "execution_count": 1,
     "metadata": {},
     "output_type": "execute_result"
    }
   ],
   "source": [
    "# загружаем стиль для оформления презентации\n",
    "from IPython.display import HTML\n",
    "from urllib.request import urlopen\n",
    "html = urlopen(\"file:./lec_v1.css\")\n",
    "HTML(html.read().decode('utf-8'))"
   ]
  },
  {
   "cell_type": "markdown",
   "metadata": {},
   "source": [
    "\n",
    "## Методы классов и статические переменные и методы <a class=\"anchor\" id=\"методы-классов\"></a>\n",
    "* [к оглавлению](#разделы)"
   ]
  },
  {
   "cell_type": "code",
   "execution_count": 2,
   "metadata": {},
   "outputs": [],
   "source": [
    "class Ship(object):\n",
    "    next_index = 0  # переменная класса (статическая переменная)\n",
    "    \n",
    "    @classmethod\n",
    "    def generate_next_index(cls): # в classmethod первый обязательный параметр: cls - переменная, ссылающаяся на КЛАСС\n",
    "        index = cls.next_index\n",
    "        cls.next_index += 1\n",
    "        return index\n",
    "    \n",
    "    def __init__(self):\n",
    "        self.index = Ship.generate_next_index()\n",
    "        \n",
    "    @staticmethod\n",
    "    def is_from_same_epoch(sh1, sh2): # не имеет доступа ни к объекту ни к классу\n",
    "        return abs(sh1.index - sh2.index) < 10"
   ]
  },
  {
   "cell_type": "code",
   "execution_count": 3,
   "metadata": {},
   "outputs": [
    {
     "data": {
      "text/plain": [
       "0"
      ]
     },
     "execution_count": 3,
     "metadata": {},
     "output_type": "execute_result"
    }
   ],
   "source": [
    "s1 = Ship()\n",
    "s1.index"
   ]
  },
  {
   "cell_type": "code",
   "execution_count": 4,
   "metadata": {},
   "outputs": [],
   "source": [
    "fleet = [Ship() for _ in range(15)]"
   ]
  },
  {
   "cell_type": "code",
   "execution_count": 5,
   "metadata": {},
   "outputs": [
    {
     "name": "stdout",
     "output_type": "stream",
     "text": [
      "1\n",
      "2\n",
      "3\n",
      "4\n",
      "5\n",
      "6\n",
      "7\n",
      "8\n",
      "9\n",
      "10\n",
      "11\n",
      "12\n",
      "13\n",
      "14\n",
      "15\n"
     ]
    }
   ],
   "source": [
    "for sh in fleet:\n",
    "    print(sh.index)"
   ]
  },
  {
   "cell_type": "code",
   "execution_count": 6,
   "metadata": {
    "scrolled": true
   },
   "outputs": [
    {
     "data": {
      "text/plain": [
       "16"
      ]
     },
     "execution_count": 6,
     "metadata": {},
     "output_type": "execute_result"
    }
   ],
   "source": [
    "Ship.next_index # доступ к переменной класса через имя класса"
   ]
  },
  {
   "cell_type": "code",
   "execution_count": 7,
   "metadata": {},
   "outputs": [
    {
     "data": {
      "text/plain": [
       "16"
      ]
     },
     "execution_count": 7,
     "metadata": {},
     "output_type": "execute_result"
    }
   ],
   "source": [
    "s1.next_index # доступ к переменной класса через объект"
   ]
  },
  {
   "cell_type": "code",
   "execution_count": 8,
   "metadata": {},
   "outputs": [
    {
     "name": "stdout",
     "output_type": "stream",
     "text": [
      "[16, 16, 16, 16, 16, 16, 16, 16, 16, 16, 16, 16, 16, 16, 16]\n"
     ]
    }
   ],
   "source": [
    "print([s.next_index for s in fleet])"
   ]
  },
  {
   "cell_type": "code",
   "execution_count": 9,
   "metadata": {},
   "outputs": [
    {
     "name": "stdout",
     "output_type": "stream",
     "text": [
      "[100, 16, 16, 16, 16, 16, 16, 16, 16, 16, 16, 16, 16, 16, 16] 16\n"
     ]
    }
   ],
   "source": [
    "fleet[0].next_index = 100 # приводит не к изменению в переменной класса, а к появлнию нового атрибута у данного объкта!\n",
    "print([s.next_index for s in fleet], Ship.next_index)"
   ]
  },
  {
   "cell_type": "code",
   "execution_count": 10,
   "metadata": {
    "scrolled": true
   },
   "outputs": [
    {
     "name": "stdout",
     "output_type": "stream",
     "text": [
      "[100, 50, 50, 50, 50, 50, 50, 50, 50, 50, 50, 50, 50, 50, 50] 50\n"
     ]
    }
   ],
   "source": [
    "Ship.next_index = 50 # изменяем значение переменной класса\n",
    "print([s.next_index for s in fleet], Ship.next_index)"
   ]
  },
  {
   "cell_type": "code",
   "execution_count": 11,
   "metadata": {
    "scrolled": true
   },
   "outputs": [
    {
     "data": {
      "text/plain": [
       "50"
      ]
     },
     "execution_count": 11,
     "metadata": {},
     "output_type": "execute_result"
    }
   ],
   "source": [
    "Ship.generate_next_index() # доступ к методу класса через имя класса"
   ]
  },
  {
   "cell_type": "code",
   "execution_count": 12,
   "metadata": {},
   "outputs": [
    {
     "data": {
      "text/plain": [
       "51"
      ]
     },
     "execution_count": 12,
     "metadata": {},
     "output_type": "execute_result"
    }
   ],
   "source": [
    "Ship.next_index"
   ]
  },
  {
   "cell_type": "markdown",
   "metadata": {},
   "source": [
    "Статический метод"
   ]
  },
  {
   "cell_type": "code",
   "execution_count": 13,
   "metadata": {
    "scrolled": true
   },
   "outputs": [
    {
     "data": {
      "text/plain": [
       "False"
      ]
     },
     "execution_count": 13,
     "metadata": {},
     "output_type": "execute_result"
    }
   ],
   "source": [
    "Ship.is_from_same_epoch(fleet[0], fleet[-1])"
   ]
  },
  {
   "cell_type": "code",
   "execution_count": 14,
   "metadata": {},
   "outputs": [
    {
     "data": {
      "text/plain": [
       "True"
      ]
     },
     "execution_count": 14,
     "metadata": {},
     "output_type": "execute_result"
    }
   ],
   "source": [
    "s1.is_from_same_epoch(s1, fleet[0])"
   ]
  },
  {
   "cell_type": "code",
   "execution_count": 15,
   "metadata": {
    "scrolled": true
   },
   "outputs": [
    {
     "name": "stdout",
     "output_type": "stream",
     "text": [
      "<__main__.Ship object at 0x0000027AF0B935E0>\n",
      "<__main__.Ship object at 0x0000027AF0B93700>\n",
      "<__main__.Ship object at 0x0000027AF0B93790>\n",
      "<__main__.Ship object at 0x0000027AF0B937C0>\n",
      "<__main__.Ship object at 0x0000027AF0B93850>\n",
      "<__main__.Ship object at 0x0000027AF0B938E0>\n",
      "<__main__.Ship object at 0x0000027AF0B93970>\n",
      "<__main__.Ship object at 0x0000027AF0B939D0>\n",
      "<__main__.Ship object at 0x0000027AF0B93A00>\n",
      "<__main__.Ship object at 0x0000027AF0B93A90>\n",
      "<__main__.Ship object at 0x0000027AF0B93AF0>\n",
      "<__main__.Ship object at 0x0000027AF0B93B50>\n",
      "<__main__.Ship object at 0x0000027AF0B93BB0>\n",
      "<__main__.Ship object at 0x0000027AF0B93910>\n",
      "<__main__.Ship object at 0x0000027AF0B93C40>\n"
     ]
    }
   ],
   "source": [
    "for s in fleet:\n",
    "    print(s, )"
   ]
  },
  {
   "cell_type": "markdown",
   "metadata": {},
   "source": [
    "## Управление доступом к атрибутам класса <a class=\"anchor\" id=\"управление-доступом\"></a>\n",
    "* [к оглавлению](#разделы)"
   ]
  },
  {
   "cell_type": "code",
   "execution_count": 17,
   "metadata": {},
   "outputs": [
    {
     "ename": "NameError",
     "evalue": "name 'cc_1' is not defined",
     "output_type": "error",
     "traceback": [
      "\u001b[1;31m---------------------------------------------------------------------------\u001b[0m",
      "\u001b[1;31mNameError\u001b[0m                                 Traceback (most recent call last)",
      "\u001b[1;32m<ipython-input-17-1805d468a890>\u001b[0m in \u001b[0;36m<module>\u001b[1;34m\u001b[0m\n\u001b[1;32m----> 1\u001b[1;33m \u001b[0mcc_1\u001b[0m\u001b[1;33m.\u001b[0m\u001b[0mload\u001b[0m\u001b[1;33m,\u001b[0m \u001b[0mcc_1\u001b[0m\u001b[1;33m.\u001b[0m\u001b[0mmax_load\u001b[0m\u001b[1;33m,\u001b[0m \u001b[0mcc_1\u001b[0m\u001b[1;33m.\u001b[0m\u001b[0mis_overloaded\u001b[0m\u001b[1;33m(\u001b[0m\u001b[1;33m)\u001b[0m\u001b[1;33m\u001b[0m\u001b[1;33m\u001b[0m\u001b[0m\n\u001b[0m",
      "\u001b[1;31mNameError\u001b[0m: name 'cc_1' is not defined"
     ]
    }
   ],
   "source": [
    "cc_1.load, cc_1.max_load, cc_1.is_overloaded()"
   ]
  },
  {
   "cell_type": "code",
   "execution_count": 18,
   "metadata": {},
   "outputs": [
    {
     "ename": "NameError",
     "evalue": "name 'cc_1' is not defined",
     "output_type": "error",
     "traceback": [
      "\u001b[1;31m---------------------------------------------------------------------------\u001b[0m",
      "\u001b[1;31mNameError\u001b[0m                                 Traceback (most recent call last)",
      "\u001b[1;32m<ipython-input-18-20050c28a59d>\u001b[0m in \u001b[0;36m<module>\u001b[1;34m\u001b[0m\n\u001b[0;32m      1\u001b[0m \u001b[1;31m# нарушаем правила загрузки грузового автомобиля:\u001b[0m\u001b[1;33m\u001b[0m\u001b[1;33m\u001b[0m\u001b[1;33m\u001b[0m\u001b[0m\n\u001b[1;32m----> 2\u001b[1;33m \u001b[0mcc_1\u001b[0m\u001b[1;33m.\u001b[0m\u001b[0mload\u001b[0m \u001b[1;33m=\u001b[0m \u001b[1;36m12\u001b[0m\u001b[1;33m\u001b[0m\u001b[1;33m\u001b[0m\u001b[0m\n\u001b[0m\u001b[0;32m      3\u001b[0m \u001b[0mcc_1\u001b[0m\u001b[1;33m.\u001b[0m\u001b[0mis_overloaded\u001b[0m\u001b[1;33m(\u001b[0m\u001b[1;33m)\u001b[0m\u001b[1;33m\u001b[0m\u001b[1;33m\u001b[0m\u001b[0m\n",
      "\u001b[1;31mNameError\u001b[0m: name 'cc_1' is not defined"
     ]
    }
   ],
   "source": [
    "# нарушаем правила загрузки грузового автомобиля:\n",
    "cc_1.load = 12\n",
    "cc_1.is_overloaded()"
   ]
  },
  {
   "cell_type": "code",
   "execution_count": null,
   "metadata": {},
   "outputs": [],
   "source": [
    "cc_1.max_load = 20"
   ]
  },
  {
   "cell_type": "code",
   "execution_count": null,
   "metadata": {},
   "outputs": [],
   "source": [
    "cc_1.is_overloaded()"
   ]
  },
  {
   "cell_type": "code",
   "execution_count": null,
   "metadata": {},
   "outputs": [],
   "source": []
  },
  {
   "cell_type": "code",
   "execution_count": null,
   "metadata": {},
   "outputs": [],
   "source": [
    "# Класс CargoCar с контролем доступа к значениям загрузки и максимального предела загрузки \n",
    "class CargoCar2(Car): \n",
    "    def __init__(self, x, max_load, load):\n",
    "        self.x = x\n",
    "        self.__max_load = max_load\n",
    "        self.__load = load\n",
    "        assert not(self.is_overloaded()), 'При создании автомобиля превышено ограничение загрузки!'\n",
    "    \n",
    "    def is_overloaded(self):\n",
    "        return self.__load > self.__max_load\n",
    "    \n",
    "    def get_load(self):\n",
    "        return self.__load\n",
    "    \n",
    "    def set_load(self, load): # проверка при изменении значения\n",
    "        assert load < self.__max_load, \"Превышен предел загрузки!\"\n",
    "        self.__load = load\n",
    "        \n",
    "    def get_max_load(self): # для max_load есть только возможность получения значения\n",
    "        return self.__max_load"
   ]
  },
  {
   "cell_type": "code",
   "execution_count": null,
   "metadata": {},
   "outputs": [],
   "source": [
    "сс2_1 = CargoCar2(5.0, 10, 11)"
   ]
  },
  {
   "cell_type": "code",
   "execution_count": null,
   "metadata": {},
   "outputs": [],
   "source": [
    "cc2_2 = CargoCar2(5.0, 10, 9)"
   ]
  },
  {
   "cell_type": "code",
   "execution_count": null,
   "metadata": {},
   "outputs": [],
   "source": [
    "cc2_2.__load #приватная переменная защищена от доступа извне класса"
   ]
  },
  {
   "cell_type": "code",
   "execution_count": null,
   "metadata": {},
   "outputs": [],
   "source": [
    "cc2_2.get_load()"
   ]
  },
  {
   "cell_type": "code",
   "execution_count": null,
   "metadata": {},
   "outputs": [],
   "source": [
    "cc2_2.set_load(8)\n",
    "cc2_2.get_load()"
   ]
  },
  {
   "cell_type": "code",
   "execution_count": null,
   "metadata": {},
   "outputs": [],
   "source": [
    "cc2_2.set_load(11)"
   ]
  },
  {
   "cell_type": "code",
   "execution_count": null,
   "metadata": {},
   "outputs": [],
   "source": [
    "# Класс CargoCar с контролем доступа к значениям, выполненным в стиле Python\n",
    "class CargoCar3(Car): \n",
    "    def __init__(self, x, max_load, load):\n",
    "        self.x = x\n",
    "        self.__max_load = max_load\n",
    "        self.__load = load\n",
    "        assert not(self.is_overloaded()), 'При создании автомобиля превышено ограничение загрузки!'\n",
    "    \n",
    "    def is_overloaded(self):\n",
    "        return self.__load > self.__max_load\n",
    "    \n",
    "    @property # Декоратор функции, оформляющий функцию как функцию доступа\n",
    "    def load(self):\n",
    "        return self.__load\n",
    "    \n",
    "    @load.setter # Декоратор функции, оформляющий функцию как функцию-сеттер\n",
    "    def load(self, val): # проверка при изменении значения\n",
    "        assert val < self.__max_load, \"Превышен предел загрузки!\"\n",
    "        self.__load = val\n",
    "        \n",
    "    # при необходимости, есть декоратор вида: @load.deletter\n",
    "        \n",
    "    @property \n",
    "    def max_load(self): # для max_load есть только возможность получения значения\n",
    "        return self.__max_load"
   ]
  },
  {
   "cell_type": "code",
   "execution_count": null,
   "metadata": {},
   "outputs": [],
   "source": [
    "cc3_1 = CargoCar3(5.0, 10, 9)"
   ]
  },
  {
   "cell_type": "code",
   "execution_count": null,
   "metadata": {},
   "outputs": [],
   "source": [
    "cc3_1.__load"
   ]
  },
  {
   "cell_type": "code",
   "execution_count": null,
   "metadata": {},
   "outputs": [],
   "source": [
    "cc3_1.load"
   ]
  },
  {
   "cell_type": "code",
   "execution_count": null,
   "metadata": {},
   "outputs": [],
   "source": [
    "cc3_1.load = 8\n",
    "cc3_1.load"
   ]
  },
  {
   "cell_type": "code",
   "execution_count": null,
   "metadata": {
    "scrolled": true
   },
   "outputs": [],
   "source": [
    "cc3_1.load = 11"
   ]
  },
  {
   "cell_type": "code",
   "execution_count": null,
   "metadata": {},
   "outputs": [],
   "source": [
    "cc3_1.max_load"
   ]
  },
  {
   "cell_type": "code",
   "execution_count": null,
   "metadata": {
    "scrolled": true
   },
   "outputs": [],
   "source": [
    "cc3_1.max_load = 7"
   ]
  },
  {
   "cell_type": "markdown",
   "metadata": {},
   "source": [
    "## Динамические операции с атрибутами и интроспекция <a class=\"anchor\" id=\"интроспекция\"></a>\n",
    "* [к оглавлению](#разделы)"
   ]
  },
  {
   "cell_type": "code",
   "execution_count": null,
   "metadata": {},
   "outputs": [],
   "source": [
    "# создаем объект, при создании передаем параметр конструктора:\n",
    "ob_1 = Car(3.1)\n",
    "ob_2 = Car(4.1)\n",
    "ob_3 = CargoCar3(5.0, 10, 9)\n",
    "my_objects = [ob_1, ob_2, ob_3]"
   ]
  },
  {
   "cell_type": "code",
   "execution_count": null,
   "metadata": {},
   "outputs": [],
   "source": [
    "ob_1.x"
   ]
  },
  {
   "cell_type": "code",
   "execution_count": null,
   "metadata": {},
   "outputs": [],
   "source": [
    "ob_1.length"
   ]
  },
  {
   "cell_type": "code",
   "execution_count": null,
   "metadata": {},
   "outputs": [],
   "source": [
    "# присваиваем объекту значение для нового атрибута\n",
    "ob_1.length = 11"
   ]
  },
  {
   "cell_type": "code",
   "execution_count": null,
   "metadata": {},
   "outputs": [],
   "source": [
    "ob_1.length"
   ]
  },
  {
   "cell_type": "code",
   "execution_count": null,
   "metadata": {},
   "outputs": [],
   "source": [
    "# у других объектов этого же типа данный атрибут отсутствует:\n",
    "ob_2.length"
   ]
  },
  {
   "cell_type": "code",
   "execution_count": null,
   "metadata": {},
   "outputs": [],
   "source": [
    "# атрибут у объекта можно не только создать, но и удалить:\n",
    "del ob_1.length"
   ]
  },
  {
   "cell_type": "code",
   "execution_count": null,
   "metadata": {},
   "outputs": [],
   "source": [
    "ob_1.length"
   ]
  },
  {
   "cell_type": "markdown",
   "metadata": {},
   "source": [
    "Получать значения атрибутов, задвать значения атрибутов и удалять их можно по их имени, хранящемуся в виде строки при помощи встроенных функций: \n",
    "\n",
    "getattr()\n",
    "\n",
    "setattr()\n",
    "\n",
    "delattr()"
   ]
  },
  {
   "cell_type": "code",
   "execution_count": null,
   "metadata": {},
   "outputs": [],
   "source": [
    "new_attr = 'number'\n",
    "for i, o in enumerate(my_objects):\n",
    "    setattr(o, new_attr, i)"
   ]
  },
  {
   "cell_type": "code",
   "execution_count": null,
   "metadata": {},
   "outputs": [],
   "source": [
    "ob_2.number"
   ]
  },
  {
   "cell_type": "code",
   "execution_count": null,
   "metadata": {},
   "outputs": [],
   "source": [
    "getattr(ob_2, new_attr)"
   ]
  },
  {
   "cell_type": "code",
   "execution_count": null,
   "metadata": {},
   "outputs": [],
   "source": [
    "getattr?"
   ]
  },
  {
   "cell_type": "markdown",
   "metadata": {},
   "source": [
    "Данные функции позволяют обращаться к атрибутам, имена которых заранее неизвестны. Это особенно важно для реализации интроспекции. Интроспекция (type introspection) в программировании — возможность в объектно-ориентированных языках определить тип и структуру объекта во время выполнения программы. Эта возможность присуща языкам, позволяющих манипулировать типами объектов как объектами первого класса (first class citizens). "
   ]
  },
  {
   "cell_type": "code",
   "execution_count": null,
   "metadata": {},
   "outputs": [],
   "source": [
    "dir(ob_3)"
   ]
  },
  {
   "cell_type": "code",
   "execution_count": null,
   "metadata": {},
   "outputs": [],
   "source": [
    "?dir"
   ]
  },
  {
   "cell_type": "code",
   "execution_count": null,
   "metadata": {},
   "outputs": [],
   "source": [
    "# получаем значения и тип всех незащищенных переменных объекта:\n",
    "for v_name in dir(ob_3):\n",
    "    if v_name[0] == '_':\n",
    "        continue\n",
    "    attr = getattr(ob_3, v_name)\n",
    "    print(v_name, attr, type(attr))"
   ]
  },
  {
   "cell_type": "code",
   "execution_count": null,
   "metadata": {},
   "outputs": [],
   "source": [
    "# получаем значения и тип всех незащищенных переменных объекта:\n",
    "import types\n",
    "\n",
    "for v_name in dir(ob_3):\n",
    "    if v_name[0] == '_':\n",
    "        continue\n",
    "    attr = getattr(ob_3, v_name)\n",
    "    attr_t = type(attr)\n",
    "    if attr_t is types.MethodType:\n",
    "        print(v_name, '(method)', attr_t)\n",
    "    else:\n",
    "        print(v_name, attr, attr_t)"
   ]
  },
  {
   "cell_type": "code",
   "execution_count": null,
   "metadata": {},
   "outputs": [],
   "source": [
    "# Возвращает только аттрибуты объекта для которых можно и получить и задать значения:\n",
    "vars(ob_3)"
   ]
  },
  {
   "cell_type": "code",
   "execution_count": null,
   "metadata": {},
   "outputs": [],
   "source": [
    "# наличие атрибута можно проверить с помощью функции hasattr():\n",
    "for o in my_objects:\n",
    "    if hasattr(o, 'load'):\n",
    "        print(o.number, o.load)"
   ]
  },
  {
   "cell_type": "markdown",
   "metadata": {},
   "source": [
    "Встроенные функции для выполнения задач объектно-ориентированного программирования:\n",
    "\n",
    "http://python-reference.readthedocs.io/en/latest/docs/functions/#object-oriented-functions\n",
    "\n",
    "\n",
    "https://docs.python.org/3/library/functions.html\n"
   ]
  },
  {
   "cell_type": "markdown",
   "metadata": {},
   "source": [
    "## Специальные методы <a class=\"anchor\" id=\"специальные\"></a>\n",
    "* [к оглавлению](#разделы)"
   ]
  },
  {
   "cell_type": "markdown",
   "metadata": {},
   "source": [
    "\\__repr\\__(self) и \\__str\\__(self) - служат для nреобразования объекта в строку. Метод \\__repr\\__()  вызывается nри выводе в интерактивной оболочке, а также nри исnользовании функции repr(). Метод \\__str\\__() вызывается nри выводе с nомощью функции print(), а также nри исnользовании функции str(). Если метод \\__str\\__() отсутствует, то будет вызван метод \\__repr\\__(). В качестве значения методы \\__repr\\__() и \\__str\\__() должны возвращать строку. Причем, значение возвращаемое \\__repr\\__() по возможности должно возврващать строку имеющую вид конструктора аналогичного объекта. Т.е. должно быть истинно выражание: eval(repr(obj)) == obj. "
   ]
  },
  {
   "cell_type": "code",
   "execution_count": 21,
   "metadata": {},
   "outputs": [
    {
     "data": {
      "text/plain": [
       "[11, 22, 33]"
      ]
     },
     "execution_count": 21,
     "metadata": {},
     "output_type": "execute_result"
    }
   ],
   "source": [
    "eval('[11, 22]+[33]')"
   ]
  },
  {
   "cell_type": "code",
   "execution_count": 22,
   "metadata": {},
   "outputs": [
    {
     "name": "stdout",
     "output_type": "stream",
     "text": [
      "<__main__.Ship object at 0x0000027AF0B935E0>\n",
      "<__main__.Ship object at 0x0000027AF0B93700>\n",
      "<__main__.Ship object at 0x0000027AF0B93790>\n",
      "<__main__.Ship object at 0x0000027AF0B937C0>\n",
      "<__main__.Ship object at 0x0000027AF0B93850>\n",
      "<__main__.Ship object at 0x0000027AF0B938E0>\n",
      "<__main__.Ship object at 0x0000027AF0B93970>\n",
      "<__main__.Ship object at 0x0000027AF0B939D0>\n",
      "<__main__.Ship object at 0x0000027AF0B93A00>\n",
      "<__main__.Ship object at 0x0000027AF0B93A90>\n",
      "<__main__.Ship object at 0x0000027AF0B93AF0>\n",
      "<__main__.Ship object at 0x0000027AF0B93B50>\n",
      "<__main__.Ship object at 0x0000027AF0B93BB0>\n",
      "<__main__.Ship object at 0x0000027AF0B93910>\n",
      "<__main__.Ship object at 0x0000027AF0B93C40>\n"
     ]
    }
   ],
   "source": [
    "for s in fleet:\n",
    "    print(s)"
   ]
  },
  {
   "cell_type": "code",
   "execution_count": 23,
   "metadata": {},
   "outputs": [],
   "source": [
    "class ShipS(Ship):\n",
    "    def __str__(self):\n",
    "        return f'Ship with index {self.index}'"
   ]
  },
  {
   "cell_type": "code",
   "execution_count": null,
   "metadata": {},
   "outputs": [],
   "source": [
    "fleet2 = [ShipS() for _ in range(5)]\n",
    "for s in fleet2:\n",
    "    print(s)"
   ]
  },
  {
   "cell_type": "markdown",
   "metadata": {},
   "source": [
    "Когда объект используется в строке формата, вызывается метод \\__format\\__(self, format_spec) объекта с самим объектом и  спецификацией формата в виде аргументов. Метод возвращает строку с экземпляром, отформатированным  соответствующим образом."
   ]
  },
  {
   "cell_type": "markdown",
   "metadata": {},
   "source": [
    "Специальные методы для поддержки преобразования типов:\n",
    "\n",
    "* \\__bооl__(self) - вызывается при исnользовании функции bool() \n",
    "* \\__int__(self) - вызывается nри преобразовании объекта в целое число с nомощью функции int ()\n",
    "* \\__float__(self) - вызывается nри nреобразовании объекта в вещественное число с nомощью функции float (); \n",
    "* \\__complex__(self) -вызывается nри исnользовании функции complex ()"
   ]
  },
  {
   "cell_type": "markdown",
   "metadata": {},
   "source": [
    "Специальные мтоды для поддержки операций сравнения:\n",
    "\n",
    "* х == у - равно - х.\\__еq\\__(у) \n",
    "* х != у - неравно - х.\\__nе\\__(у)\n",
    "* х < у - меньше - х.\\__lt\\__(y) \n",
    "* х > y - бoльwe - x.\\__gt\\__(y)\n",
    "* х <= у - меньшеилиравно - х.\\__lе\\__(у)\n",
    "* х >= у - больше или равно - x.\\__ge\\__(y)\n",
    "* у in х - nроверка на вхождение - х.\\__contains__(у)"
   ]
  },
  {
   "cell_type": "markdown",
   "metadata": {},
   "source": [
    "Интерпретатор Python будет автоматически подставлять метод \\__ne\\__() (not equal - не равно), реализующий действие оператора неравенства (!=), если в классе присутствует реализация метода \\__eq\\__(), но отсутствует реализация метода \\__ne__() . \n"
   ]
  },
  {
   "cell_type": "markdown",
   "metadata": {},
   "source": [
    "По умолчанию экземпляры наших собственных классов поддерживают оператор == (который всегда возвращает False) и являются хешируемыми (поэтому они могут использоваться в качестве ключей словаря или добавляться в множества). Но если реализовать специальный метод \\__eq\\__(), выполняющий корректную проверку на равенство, экземпляры перестанут быть хешируемыми. Это можно исправить, реализовав специальный метод \\__hash\\__(). Язык Python предоставляет функцию хеширования строк, чисел, фиксированных множеств и других классов. "
   ]
  },
  {
   "cell_type": "markdown",
   "metadata": {},
   "source": [
    "Специальный метод \\__del\\__(self) вызывается при уничтожении объекта - по крайней мере в теории. На практике метод \\__del\\__() может не вызываться никогда, даже при завершении программы. "
   ]
  },
  {
   "cell_type": "markdown",
   "metadata": {},
   "source": [
    "### Материалы для подготовки к следующей лекции:\n",
    "\n",
    "Прохоренок: Глава 11 \"Пользовательские функции\"\n",
    "\n",
    "Саммерфильд: Глава 8 \"Улучшенные приемы программирования\" (разделы: Улучшенные приемы процедурного программирования; Функциональное программирование"
   ]
  },
  {
   "cell_type": "code",
   "execution_count": null,
   "metadata": {},
   "outputs": [],
   "source": []
  }
 ],
 "metadata": {
  "anaconda-cloud": {},
  "kernelspec": {
   "display_name": "Python 3",
   "language": "python",
   "name": "python3"
  },
  "language_info": {
   "codemirror_mode": {
    "name": "ipython",
    "version": 3
   },
   "file_extension": ".py",
   "mimetype": "text/x-python",
   "name": "python",
   "nbconvert_exporter": "python",
   "pygments_lexer": "ipython3",
   "version": "3.8.8"
  }
 },
 "nbformat": 4,
 "nbformat_minor": 1
}
