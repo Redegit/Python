{
 "cells": [
  {
   "cell_type": "markdown",
   "metadata": {},
   "source": [
    "## Объектно-ориентированное программирование\n",
    "Задания на семинар (выполняются в ipynb):\n",
    "\n",
    "1) Объявить класс фигуры (включает конструктор, принимающий координаты фигуры x, y)\n",
    "\n",
    "2) Создать объект фигуры\n",
    "\n",
    "3) Реализовать для фигуры метод draw (в виде псевдографики на поле 40 на 40 символов), для абстрактной фигуры рисуем * по заданным координатам\n",
    "\n",
    "4) Создать объект фигуры и нарисовать ее\n",
    "\n",
    "5) Изменить параметры объекта и перерисовать его\n",
    "\n",
    "6) Создать наследника класса фигура – класс прямоугольника, с соответствующим изменением конструктора (рисует в псевдографике звездочками прямоугольник)\n",
    "\n",
    "7) Создать объект прямоугольника и нарисовать его\n",
    "\n",
    "8) Изменить параметры объекта и перерисовать его\n",
    "\n",
    "9) Создать наследника класса фигура - треугольник (по сложности: 1)прямоуг с одинаковыми катетами 2)просто прямоуг 3)любой треуг)\n",
    "\n",
    "10) Создать наслединика класса прямоугольник - класс квадрат\n",
    "\n",
    "10) Создать несколько объектов класса треугольник, прямоугольник и фигура, поместить их в список и вызвать функцию рисования при обходе списка (пример полиморфизма).\n",
    "\n",
    "*11) Нарисовать ромб(через функцию рисования диагонали)\n",
    "\n",
    "12) Создать класс линии (не является наследником фигуры), имеющий метод draw аналогичный предыдущему\n",
    "\n",
    "13) Повторить 10 с участием линии (пример утиной типизации)\n",
    "\n",
    "14) Реализовать для всех объектов метод, позволяющий печатать объекты при помощи функции print()\n",
    "\n",
    "15) Реализовать для фигур функцию расчета площади.\n",
    "\n",
    "16) Создать несколько объектов класса треугольник, прямоугольник и фигура, поместить их в список. Расчитать суммарную площадь всех форм, находящихся в списке.\n",
    "\n",
    "17) Для 16 добавить в список объект линия (для которого не реализована функция площади). При помощи функции определения принадлежности объекта к классу модифицировать рассчет суммарной площади так, чтобы он не приводил к ошибке.\n",
    "\n",
    "18) При помощи декоратора @property превратить функцию площади в свойство. Модифицировать 17 в соответствии с новыми возможностями.\n",
    "\n",
    "17) Для 16 добавить в список объект линия (для которого не реализована функция площади). При помощи функции определения принадлежности объекта к классу модифицировать рассчет суммарной площади так, чтобы он не приводил к ошибке.\n",
    "\n",
    "18) При помощи декоратора @property превратить функцию площади в свойство. Модифицировать 17 в соответствии с новыми возможностиями.\n",
    "\n",
    "19) При помощи свойств сделать переменные объекта x, y, доступными для получения,но недоступными для изменения.\n",
    "\n",
    "21) Оформить доступ к буферу экрана (screen) через свойство.\n",
    "\n",
    "22.1) Модифицировать конструктор фигуры так, чтобы при создании объекта для него мог задаваться внешний буфер экрана.\n",
    "\n",
    "22.2) Модифицировать код фигур так, чтобы все фигуры рисовались на общем экране.\n"
   ]
  },
  {
   "cell_type": "code",
   "execution_count": 75,
   "metadata": {},
   "outputs": [],
   "source": [
    "class Field():\n",
    "    def __init__(self):\n",
    "        self.screen = [['.']*20 for _ in range(20)]\n",
    "    \n",
    "    def draw(self, screen):\n",
    "        new_screen = [['.']*20 for _ in range(20)]\n",
    "        for y in range(len(screen)):\n",
    "            x = 0\n",
    "            for i, j in zip(self.screen[y], screen[y]):\n",
    "                if i == \"*\" or j == \"*\":\n",
    "                    new_screen[y][x] = \"*\"\n",
    "                x += 1\n",
    "        self.screen = new_screen\n",
    "        \n",
    "    def print_screen(self):\n",
    "        for line in self.screen:\n",
    "            for symb in line:\n",
    "                print(symb, end='  ')\n",
    "            print()\n",
    "    \n",
    "    def clear(self):\n",
    "        self.screen = [['.']*20 for _ in range(20)]"
   ]
  },
  {
   "cell_type": "code",
   "execution_count": 93,
   "metadata": {},
   "outputs": [],
   "source": [
    "class Line(Field):\n",
    "    def __init__(self, st_point, end_point):\n",
    "        self.x = [None, None]\n",
    "        self.y = [None, None]\n",
    "        self.x[0], self.y[0] = st_point[0], st_point[1]\n",
    "        self.x[1], self.y[1] = end_point[0], end_point[1]\n",
    "        \n",
    "    def draw(self, master):\n",
    "        \n",
    "        "
   ]
  },
  {
   "cell_type": "code",
   "execution_count": 94,
   "metadata": {},
   "outputs": [],
   "source": []
  },
  {
   "cell_type": "code",
   "execution_count": 96,
   "metadata": {},
   "outputs": [
    {
     "name": "stdout",
     "output_type": "stream",
     "text": [
      "*  *  *  *  *  *  *  *  *  *  *  *  *  *  *  *  .  .  .  .  \n",
      "*  *  *  *  *  *  *  *  *  *  *  *  *  *  *  *  .  .  .  .  \n",
      "*  *  *  *  *  *  *  *  *  *  *  *  *  *  *  *  .  .  .  .  \n",
      "*  *  *  *  *  *  *  *  *  *  *  *  *  *  *  *  .  .  .  .  \n",
      ".  .  .  .  .  .  .  .  .  .  .  .  .  .  .  .  .  .  .  .  \n",
      ".  .  .  .  .  .  .  .  .  .  .  .  .  .  .  .  .  .  .  .  \n",
      ".  .  .  .  .  .  .  .  .  .  .  .  .  .  .  .  .  .  .  .  \n",
      ".  .  .  .  .  .  .  .  .  .  .  .  .  .  .  .  .  .  .  .  \n",
      ".  .  .  .  .  .  .  .  .  .  .  .  .  .  .  .  .  .  .  .  \n",
      ".  .  .  .  .  .  .  .  .  .  .  .  .  .  .  .  .  .  .  .  \n",
      ".  .  .  .  .  .  .  .  .  .  .  .  .  .  .  .  .  .  .  .  \n",
      ".  .  .  .  .  .  .  .  .  .  .  .  .  .  .  .  .  .  .  .  \n",
      ".  .  .  .  .  .  .  .  .  .  .  .  .  .  .  .  .  .  .  .  \n",
      ".  .  .  .  .  .  .  .  .  .  .  .  .  .  .  .  .  .  .  .  \n",
      ".  .  .  .  .  .  .  .  .  .  .  .  .  .  .  .  .  .  .  .  \n",
      ".  .  .  .  .  .  .  .  .  .  .  .  .  .  .  .  .  .  .  .  \n",
      ".  .  .  .  .  .  .  .  .  .  .  .  .  .  .  .  .  .  .  .  \n",
      ".  .  .  .  .  .  .  .  .  .  .  .  .  .  .  .  .  .  .  .  \n",
      ".  .  .  .  .  .  .  .  .  .  .  .  .  .  .  .  .  .  .  .  \n",
      ".  .  .  .  .  .  .  .  .  .  .  .  .  .  .  .  .  .  .  .  \n"
     ]
    }
   ],
   "source": [
    "field1.clear()\n",
    "v = Line((0,3), (15,0))\n",
    "v.draw(field1)\n",
    "field1.print_screen()"
   ]
  },
  {
   "cell_type": "code",
   "execution_count": 37,
   "metadata": {},
   "outputs": [],
   "source": [
    "class Rectangle(Field):\n",
    "    def __init__(self, *parameter):\n",
    "        self.__x = parameter[0]\n",
    "        self.__y = parameter[1]\n",
    "        self.__width = parameter[2]\n",
    "        self.__height = parameter[3]\n",
    "        \n",
    "    def draw(self, master): # отрисовка границы прямоугольника\n",
    "        self.screen=[['.']*20 for _ in range(20)]\n",
    "        for i in range(self.__y, self.__y + self.__height):\n",
    "            self.screen[i][self.__x]='*'\n",
    "        for i in range(self.__y, self.__y + self.__height):\n",
    "            self.screen[i][self.__x + self.__width - 1]='*'\n",
    "        for i in range(self.__x, self.__x + self.__width):\n",
    "            self.screen[self.__y][i]='*'\n",
    "        for i in range(self.__x, self.__x + self.__width):\n",
    "            self.screen[self.__y + self.__height - 1][i]='*'\n",
    "        master.draw(self.screen)\n",
    "        \n",
    "    def draw_fill(self, master): # отрисовка с заполнением \n",
    "        self.screen=[['.']*20 for _ in range(20)]\n",
    "        for j in range(self.__x, self.__x + self.__width):\n",
    "            for i in range(self.__y, self.__y + self.__height):\n",
    "                self.screen[i][j]='*'\n",
    "        master.draw(self.screen)\n"
   ]
  },
  {
   "cell_type": "code",
   "execution_count": 68,
   "metadata": {
    "scrolled": true
   },
   "outputs": [
    {
     "name": "stdout",
     "output_type": "stream",
     "text": [
      ".  .  .  .  .  .  .  .  .  .  .  .  .  .  .  .  .  .  .  .  \n",
      ".  .  .  .  .  .  .  .  .  .  *  *  *  *  *  .  .  .  .  .  \n",
      ".  .  .  .  .  .  .  .  .  .  *  *  *  *  *  .  .  .  .  .  \n",
      ".  .  .  .  .  .  .  .  .  .  *  *  *  *  *  .  .  .  .  .  \n",
      ".  .  .  .  .  .  .  .  .  .  *  *  *  *  *  .  .  .  .  .  \n",
      ".  .  .  .  .  .  .  .  .  .  .  .  .  .  .  .  .  .  .  .  \n",
      ".  .  .  .  .  .  .  .  .  .  .  .  .  .  .  .  .  .  .  .  \n",
      ".  .  .  .  .  .  .  .  .  .  .  .  .  .  .  .  .  .  .  .  \n",
      ".  .  .  .  .  .  .  .  .  .  .  .  .  .  .  .  .  .  .  .  \n",
      ".  .  .  .  .  .  .  .  .  .  .  .  .  .  .  .  .  .  .  .  \n",
      ".  *  *  *  .  .  .  .  .  .  .  .  .  .  .  .  .  .  .  .  \n",
      ".  *  .  *  .  .  .  .  .  .  .  .  .  .  .  .  .  .  .  .  \n",
      ".  *  .  *  .  .  .  .  .  .  .  .  .  .  .  .  .  .  .  .  \n",
      ".  *  *  *  .  .  .  .  .  .  .  .  .  .  .  .  .  .  .  .  \n",
      ".  .  .  .  .  .  .  .  .  .  .  .  .  .  .  .  .  .  .  .  \n",
      ".  .  .  .  .  .  .  .  .  .  .  .  .  .  .  .  .  .  .  .  \n",
      ".  .  .  .  .  .  .  .  .  .  .  .  .  .  .  .  .  .  .  .  \n",
      ".  .  .  .  .  .  .  .  .  .  .  .  .  .  .  .  .  .  .  .  \n",
      ".  .  .  .  .  .  .  .  .  .  .  .  .  .  .  .  .  .  .  .  \n",
      ".  .  .  .  .  .  .  .  .  .  .  .  .  .  .  .  .  .  .  .  \n"
     ]
    }
   ],
   "source": [
    "field1 = Field()\n",
    "rectangle = Rectangle(1, 10, 3, 4)\n",
    "rectangle1 = Rectangle(10, 1, 5, 4)\n",
    "\n",
    "rectangle.draw(master=field1)\n",
    "rectangle1.draw_fill(master=field1)\n",
    "field1.print_screen()\n"
   ]
  },
  {
   "cell_type": "code",
   "execution_count": null,
   "metadata": {},
   "outputs": [],
   "source": []
  },
  {
   "cell_type": "code",
   "execution_count": null,
   "metadata": {},
   "outputs": [],
   "source": [
    "# class Sharp(object):\n",
    "#     def __init__(self,x,y):\n",
    "#         self.__x = x\n",
    "#         self.__y = y\n",
    "#         self.screen=[['.']*20 for _ in range(20)]\n",
    "        \n",
    "#     def print_screen(self):\n",
    "#         for line in self.screen:\n",
    "#             for symb in line:\n",
    "#                 print(symb, end='')\n",
    "#             print()\n",
    "            \n",
    "#     @property\n",
    "#     def x(self):\n",
    "#         return self.__x\n",
    "    \n",
    "#     @property\n",
    "#     def y(self):\n",
    "#         return self.__y\n",
    "              \n",
    "#     def draw(self):\n",
    "#         self.screen=[['.']*20 for _ in range(20)]\n",
    "#         self.screen[self.__y][self.__x]='*'\n",
    "#         self.print_screen()\n",
    "        \n",
    "#     def __str__(self):\n",
    "#         return f'Это точка с координатами ({self.x};{self.y})'\n",
    "    \n",
    "#     def area(self):\n",
    "#         return 0"
   ]
  }
 ],
 "metadata": {
  "kernelspec": {
   "display_name": "Python 3",
   "language": "python",
   "name": "python3"
  },
  "language_info": {
   "codemirror_mode": {
    "name": "ipython",
    "version": 3
   },
   "file_extension": ".py",
   "mimetype": "text/x-python",
   "name": "python",
   "nbconvert_exporter": "python",
   "pygments_lexer": "ipython3",
   "version": "3.8.8"
  }
 },
 "nbformat": 4,
 "nbformat_minor": 2
}
