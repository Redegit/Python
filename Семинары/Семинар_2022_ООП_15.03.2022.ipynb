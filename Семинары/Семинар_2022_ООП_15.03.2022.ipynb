{
 "cells": [
  {
   "cell_type": "code",
   "execution_count": null,
   "metadata": {},
   "outputs": [],
   "source": []
  },
  {
   "cell_type": "markdown",
   "metadata": {},
   "source": [
    "## Семинар 15.07.2022"
   ]
  },
  {
   "cell_type": "markdown",
   "metadata": {},
   "source": [
    "### 1. Создайте класс Circle и класс Rect, в каждом классе будет метод нахождения периметра perim. Создайте функцию вывода информации об экземплярах класса print_info не являющуюся методом класса. Создайте экземпляры классов и выведите информацию о каждом их них в виде словаря с помощью оператора print."
   ]
  },
  {
   "cell_type": "code",
   "execution_count": 32,
   "metadata": {},
   "outputs": [],
   "source": [
    "from math import pi\n",
    "\n",
    "class Circle:\n",
    "    def __init__(self, R):\n",
    "        self.r = R\n",
    "\n",
    "    @property\n",
    "    def perim(self):\n",
    "        return {\"perimeter\": 2*pi*self.r}\n",
    "    \n",
    "    @property\n",
    "    def info(self):\n",
    "        return {\"radius\": self.r}\n",
    "    \n",
    "    \n",
    "class Rect:\n",
    "    def __init__(self, a, b):\n",
    "        self.a = a\n",
    "        self.b = b\n",
    "    \n",
    "    @property\n",
    "    def perim(self):\n",
    "        return {\"perimeter\": 2*(self.a + self.b)}\n",
    "    \n",
    "    @property\n",
    "    def info(self):\n",
    "        return {\"a\": self.a, \"b\": self.b}\n",
    "    \n",
    "    \n",
    "def print_info(fig):\n",
    "    info = fig.info\n",
    "    info.update(fig.perim)\n",
    "    return info"
   ]
  },
  {
   "cell_type": "code",
   "execution_count": 36,
   "metadata": {},
   "outputs": [
    {
     "name": "stdout",
     "output_type": "stream",
     "text": [
      "{'radius': 3, 'perimeter': 18.84955592153876}\n",
      "{'a': 2, 'b': 5, 'perimeter': 14}\n"
     ]
    }
   ],
   "source": [
    "circ = Circle(3)\n",
    "rec = Rect(2, 5)\n",
    "\n",
    "figures = [circ, rec]\n",
    "\n",
    "for _ in figures:\n",
    "    print(print_info(_))"
   ]
  },
  {
   "cell_type": "markdown",
   "metadata": {},
   "source": [
    "### 2. Создайте класс Money имеющий атрибуты rub и valuta для выполнения перевода рубли в укзанную валюту доллар или евро."
   ]
  },
  {
   "cell_type": "code",
   "execution_count": 3,
   "metadata": {},
   "outputs": [],
   "source": []
  },
  {
   "cell_type": "code",
   "execution_count": 4,
   "metadata": {},
   "outputs": [
    {
     "name": "stdout",
     "output_type": "stream",
     "text": [
      "0.37735849056603776\n",
      "0.3191489361702128\n"
     ]
    }
   ],
   "source": [
    "m = Money(20, 'dol')\n",
    "print(m.perevod())\n",
    "m = Money(30, 'eur')\n",
    "print(m.perevod())"
   ]
  },
  {
   "cell_type": "markdown",
   "metadata": {},
   "source": [
    "### 3. Используя класс People с атрибутами имя и возраст, имеющего метод вывода информации со значениями атрибутов, в качестве базового, создайте класс Teacher, имеющий свойства:\n",
    "    - зарплата (salary)\n",
    "    методы:\n",
    "    - __init__ – конструктор;\n",
    "    - __str__.\n",
    "\n",
    "     Используя класс People в качестве базового создайте класс Student с атрибутом оценки, имеющий:\n",
    "    - методы __init__ и __str__;\n",
    "\n",
    "Создайте список, содержащий по 2 объекта каждого класса (People, Teacher,Student). Для этого списка:\n",
    "- выведите информацию о каждом человеке с помощью метода info;\n",
    "- выведите фамилии тех, кто моложе 30 лет;\n",
    "- найдите среднее значение оценкок студентов и среднюю зарплату учителей;\n",
    "- продемонстрируйте работу со свойствами должность и зарплата и методами."
   ]
  },
  {
   "cell_type": "code",
   "execution_count": 45,
   "metadata": {},
   "outputs": [],
   "source": [
    "class People(object):\n",
    "    def __init__(self,name,age):\n",
    "        self.name = name\n",
    "        self.age = age\n",
    "    \n",
    "    def __str__(self):\n",
    "        return f\"Человек имеет имя {self.name}, возраст {self.age} лет\"\n",
    "    \n",
    "    \n",
    "class Teacher(People):\n",
    "    def __init__(self, name, age, salary):\n",
    "        super().__init__(name, age)\n",
    "        self.salary = salary\n",
    "    \n",
    "    def __str__(self):\n",
    "        return f\"Человек имеет имя {self.name}, возраст {self.age} лет зарплата {self.salary}\"\n",
    "        \n",
    "\n",
    "class Student(People):\n",
    "    def __init__(self, name, age, marks):\n",
    "        super().__init__(name, age)\n",
    "        self.marks = marks\n",
    "        \n",
    "    def __str__(self):\n",
    "        return f\"Человек имеет имя {self.name}, возраст {self.age} лет оценки {self.marks}\"\n",
    "        "
   ]
  },
  {
   "cell_type": "code",
   "execution_count": 48,
   "metadata": {},
   "outputs": [
    {
     "name": "stdout",
     "output_type": "stream",
     "text": [
      "Человек имеет имя Даша, возраст 18 лет оценки [5, 5, 5]\n",
      "Человек имеет имя Ваня, возраст 18 лет оценки [2, 2, 2]\n",
      "Человек имеет имя Денис, возраст 56 лет зарплата 30000\n",
      "Человек имеет имя Денис, возраст 80 лет зарплата 52000\n",
      "Человек имеет имя Юлий, возраст 8 лет\n",
      "Человек имеет имя Женя, возраст 22 лет\n"
     ]
    }
   ],
   "source": [
    "Даша = Student(\"Даша\", 18, [5, 5, 5])\n",
    "Ваня = Student(\"Ваня\", 18, [2, 2, 2])\n",
    "Денис = Teacher(\"Денис\", 56, 30000)\n",
    "Тамара = Teacher(\"Денис\", 80, 52000)\n",
    "Юлий = People(\"Юлий\", 8)\n",
    "Женя = People(\"Женя\", 22)\n",
    "\n",
    "люди = [Даша, Ваня, Денис, Тамара, Юлий, Женя]\n",
    "\n",
    "for человек in люди:\n",
    "    print(человек)"
   ]
  },
  {
   "cell_type": "code",
   "execution_count": 53,
   "metadata": {},
   "outputs": [
    {
     "name": "stdout",
     "output_type": "stream",
     "text": [
      "Человек имеет имя Даша, возраст 18 лет оценки [5, 5, 5]\n",
      "Человек имеет имя Ваня, возраст 18 лет оценки [2, 2, 2]\n",
      "Человек имеет имя Юлий, возраст 8 лет\n",
      "Человек имеет имя Женя, возраст 22 лет\n"
     ]
    }
   ],
   "source": [
    "for peop in люди:\n",
    "    if peop.age < 30:\n",
    "        print(peop)"
   ]
  },
  {
   "cell_type": "code",
   "execution_count": 55,
   "metadata": {},
   "outputs": [
    {
     "name": "stdout",
     "output_type": "stream",
     "text": [
      "41000.0\n"
     ]
    }
   ],
   "source": [
    "av_salary = 0\n",
    "k = 0\n",
    "for peop in люди:\n",
    "    if type(peop) == Teacher:\n",
    "        k += 1\n",
    "        av_salary += peop.salary\n",
    "av_salary /= k\n",
    "print(av_salary)"
   ]
  },
  {
   "cell_type": "code",
   "execution_count": 56,
   "metadata": {},
   "outputs": [
    {
     "name": "stdout",
     "output_type": "stream",
     "text": [
      "3.5\n"
     ]
    }
   ],
   "source": [
    "av_mark = 0\n",
    "k = 0\n",
    "for peop in люди:\n",
    "    if type(peop) == Student:\n",
    "        k += 1\n",
    "        av_mark += sum(peop.marks)/len(peop.marks)\n",
    "av_mark /= k\n",
    "print(av_mark)"
   ]
  },
  {
   "cell_type": "markdown",
   "metadata": {},
   "source": [
    "### 4. Для класса Teacher добавьте \n",
    "#### • закрытый атрибут дисциплины (disciplines), в котором хранятся названия дисциплин, которые ведет преподаватель;\n",
    "#### • методы добавить_дисциплину (add_dis) и удалить_дисциплину (delete_dis), которые позволяют изменять список дисциплин."
   ]
  },
  {
   "cell_type": "code",
   "execution_count": 69,
   "metadata": {},
   "outputs": [],
   "source": [
    "class People(object):\n",
    "    def __init__(self,name,age):\n",
    "        self.name = name\n",
    "        self.age = age\n",
    "    \n",
    "    def __str__(self):\n",
    "        return f\"Человек имеет имя {self.name}, возраст {self.age} лет\"\n",
    "    \n",
    "    \n",
    "class Teacher(People):\n",
    "    def __init__(self, name, age, salary, disciplines):\n",
    "        super().__init__(name, age)\n",
    "        self.salary = salary\n",
    "        self._dis = disciplines\n",
    "    \n",
    "    def add_dis(self, dis):\n",
    "        self._dis.append(dis)\n",
    "        \n",
    "    def del_dis(self, dis):\n",
    "        i = self._dis.index(dis)\n",
    "        del self._dis[i]\n",
    "\n",
    "    def __str__(self):\n",
    "        return f\"Человек имеет имя {self.name}, возраст {self.age} лет зарплата {self.salary}, \\\n",
    "преподающий слудующие дисциплины: {self._dis}\""
   ]
  },
  {
   "cell_type": "code",
   "execution_count": 70,
   "metadata": {},
   "outputs": [
    {
     "name": "stdout",
     "output_type": "stream",
     "text": [
      "Человек имеет имя Владислав, возраст 42 лет зарплата 50000, преподающий слудующие дисциплины: ['математика', 'русский язык']\n",
      "Человек имеет имя Владислав, возраст 42 лет зарплата 50000, преподающий слудующие дисциплины: ['математика', 'русский язык', 'физика']\n",
      "Человек имеет имя Владислав, возраст 42 лет зарплата 50000, преподающий слудующие дисциплины: ['русский язык', 'физика']\n"
     ]
    }
   ],
   "source": [
    "Владислав = Teacher(\"Владислав\", 42, 50000, ['математика', 'русский язык'])\n",
    "print(Владислав)\n",
    "Владислав.add_dis('физика')\n",
    "print(Владислав)\n",
    "Владислав.del_dis('математика')\n",
    "print(Владислав)"
   ]
  },
  {
   "cell_type": "code",
   "execution_count": 9,
   "metadata": {},
   "outputs": [
    {
     "name": "stdout",
     "output_type": "stream",
     "text": [
      "Работа с методами удалить и добавить дисциплину:\n",
      "Человек имеет имя Королева Дарья, возраст 50 лет и должность учитель с зарплатой 40000\n",
      "Человек имеет имя Королева Дарья, возраст 50 лет зарплата 40000, преподающий следующие дисциплины: ['математика', 'русский язык']\n",
      "Человек имеет имя Королева Дарья, возраст 50 лет зарплата 40000, преподающий следующие дисциплины: ['математика', 'русский язык', 'физика']\n",
      "Человек имеет имя Королева Дарья, возраст 50 лет зарплата 40000, преподающий следующие дисциплины: ['русский язык', 'физика']\n",
      "Человек имеет имя Дарья, возраст 16 лет\n",
      "Человек имеет имя Мария, возраст 17 лет\n",
      "Человек имеет имя Ольга, возраст 18 лет\n",
      "Человек имеет имя Ольга, возраст 18 лет и должность ученый с зарплатой 30000\n",
      "Человек имеет имя Иван, возраст 18 лет и должность разнорабочий с зарплатой 20000\n",
      "Человек имеет имя Петр, возраст 20 лет и должность повар с зарплатой 6000\n",
      "Человек имеет имя Иван, возраст 18 лет зарплата 4000, преподающий следующие дисциплины: ['математика', 'физика']\n",
      "Человек имеет имя Каролина, возраст 40 лет зарплата 60000, преподающий следующие дисциплины: ['математика', 'черчение']\n",
      "Человек имеет имя Соня, возраст 20 лет зарплата 50000, преподающий следующие дисциплины: ['математика', 'рисование']\n",
      "Человек имеет имя Настя, возраст 15 лет оценки [2, 3, 4]\n",
      "Человек имеет имя Никита, возраст 14 лет оценки [2, 5, 4]\n",
      "Человек имеет имя Ваня, возраст 15 лет оценки [2, 2, 4]\n",
      "Имена людей моложе 30:\n",
      "Дарья\n",
      "Мария\n",
      "Ольга\n",
      "Ольга\n",
      "Иван\n",
      "Петр\n",
      "Иван\n",
      "Соня\n",
      "Настя\n",
      "Никита\n",
      "Ваня\n",
      "Информация о дисциплинах:\n",
      "['математика', 'физика']\n",
      "['математика', 'черчение']\n",
      "['математика', 'рисование']\n",
      "Количество людей с зарплатой ниже среднего: 2\n"
     ]
    }
   ],
   "source": []
  },
  {
   "cell_type": "markdown",
   "metadata": {},
   "source": [
    "#### 5. Создайте класс Заказ(Order), у которого есть свойства код_товара(code), цена(price), количество(count) и методы __init__ и __str__.\n",
    "#### Создайте 2 класса-потомка: Опт(Opt) и Розница(Retail). В этих классах создайте методы __init__, __str__.и сумма_заказа(summa), позволяющий узнать стоимость заказа. Для опта стоимость единицы товара составляет 95% от цены, а при покупке более 500 штук – 90% цены. \n",
    "#### В розницу стоимость единицы товара составляет 100% цены. Стоимость заказа равна произведению цены на количество. Продемонстрируйте работу с классами, создав необходимые объекты и обратившись к их свойствам и методам."
   ]
  },
  {
   "cell_type": "code",
   "execution_count": 10,
   "metadata": {},
   "outputs": [],
   "source": [
    "# розница - до 10 единиц товара, опт - от 10\n",
    "\n",
    "class Order:\n",
    "    def __init__(self, code, price, count):\n",
    "        self.code = code\n",
    "        self.price = price\n",
    "        self.count = count\n",
    "    \n",
    "    def __str__(self):\n",
    "        return\n",
    "    \n",
    "class Opt(Order):\n",
    "    def __init__(self, code, price, count):"
   ]
  },
  {
   "cell_type": "code",
   "execution_count": 11,
   "metadata": {},
   "outputs": [
    {
     "name": "stdout",
     "output_type": "stream",
     "text": [
      "Заказ имеет код 32232342, цену 1, количество товаров 2\n",
      "Заказ имеет код 32345242, цену 100, количество товаров 15\n",
      "Заказ имеет код 77743242, цену 56, количество товаров 20\n",
      "Заказ имеет код 32243242, цену 10, количество товаров 5\n",
      "Заказ имеет код 843427, цену 10, количество товаров 502\n",
      "Заказ имеет код 8434827, цену 20, количество товаров 5\n",
      "Цена заказа составляет 1064.0\n",
      "Цена заказа составляет 47.5\n",
      "Цена заказа составляет 4518.0\n",
      "Цена заказа составляет 95.0\n"
     ]
    }
   ],
   "source": []
  }
 ],
 "metadata": {
  "kernelspec": {
   "display_name": "Python 3",
   "language": "python",
   "name": "python3"
  },
  "language_info": {
   "codemirror_mode": {
    "name": "ipython",
    "version": 3
   },
   "file_extension": ".py",
   "mimetype": "text/x-python",
   "name": "python",
   "nbconvert_exporter": "python",
   "pygments_lexer": "ipython3",
   "version": "3.8.5"
  }
 },
 "nbformat": 4,
 "nbformat_minor": 5
}
