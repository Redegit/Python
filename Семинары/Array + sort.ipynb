{
 "cells": [
  {
   "cell_type": "code",
   "execution_count": 1,
   "metadata": {},
   "outputs": [],
   "source": [
    "import sys"
   ]
  },
  {
   "cell_type": "code",
   "execution_count": 2,
   "metadata": {},
   "outputs": [],
   "source": [
    "import array"
   ]
  },
  {
   "cell_type": "code",
   "execution_count": 3,
   "metadata": {},
   "outputs": [
    {
     "name": "stdout",
     "output_type": "stream",
     "text": [
      "Length:   0; Size in bytes:   56\n",
      "Length:   1; Size in bytes:   88\n",
      "Length:   2; Size in bytes:   88\n",
      "Length:   3; Size in bytes:   88\n",
      "Length:   4; Size in bytes:   88\n",
      "Length:   5; Size in bytes:  120\n",
      "Length:   6; Size in bytes:  120\n",
      "Length:   7; Size in bytes:  120\n",
      "Length:   8; Size in bytes:  120\n",
      "Length:   9; Size in bytes:  184\n",
      "Length:  10; Size in bytes:  184\n",
      "Length:  11; Size in bytes:  184\n",
      "Length:  12; Size in bytes:  184\n",
      "Length:  13; Size in bytes:  184\n",
      "Length:  14; Size in bytes:  184\n",
      "[0, 1, 2, 3, 4, 5, 6, 7, 8, 9, 10, 11, 12, 13, 14]\n"
     ]
    }
   ],
   "source": [
    "data = []\n",
    "n = 15\n",
    "for k in range(n): \n",
    "    a = len(data) # количество элементов в списке\n",
    "    b = sys.getsizeof(data) # текущий размер списка в байтах \n",
    "    print(f'Length: {a:3d}; Size in bytes: {b:4d}')\n",
    "    data.append(k) # добавляем элемент в список\n",
    "print(data)"
   ]
  },
  {
   "cell_type": "code",
   "execution_count": 4,
   "metadata": {},
   "outputs": [],
   "source": [
    "a = array.array('i', [1, 2, 2, 3, 4, 1, 2])"
   ]
  },
  {
   "cell_type": "code",
   "execution_count": 6,
   "metadata": {},
   "outputs": [
    {
     "name": "stdout",
     "output_type": "stream",
     "text": [
      "4\n",
      "Число уже в массиве array('i', [1, 2, 2, 3, 4, 1, 2])\n"
     ]
    }
   ],
   "source": [
    "x = int(input())\n",
    "\n",
    "if x in a:\n",
    "    print(f'Число уже в массиве {a}')\n",
    "else:\n",
    "    a.append(x)\n",
    "    print(f'Число {x} добавлено в массив {a}')"
   ]
  },
  {
   "cell_type": "code",
   "execution_count": 7,
   "metadata": {},
   "outputs": [
    {
     "name": "stdout",
     "output_type": "stream",
     "text": [
      "5\n"
     ]
    }
   ],
   "source": [
    "x = int(input())\n",
    "\n",
    "if x in a:\n",
    "    try:\n",
    "        while True:\n",
    "            a.remove(x)\n",
    "    except:\n",
    "        pass\n",
    "    print(f'Все элементы {x} убраны из массива {a}')"
   ]
  },
  {
   "cell_type": "code",
   "execution_count": 8,
   "metadata": {},
   "outputs": [
    {
     "name": "stdout",
     "output_type": "stream",
     "text": [
      "3\n",
      "Все элементы 3 убраны из массива array('i', [1, 2, 2, 4, 1, 2])\n"
     ]
    }
   ],
   "source": [
    "from copy import copy\n",
    "\n",
    "x = int(input())\n",
    "b = copy(a)\n",
    "\n",
    "for i in a:\n",
    "    if i == x:\n",
    "        b.remove(x)\n",
    "print(f'Все элементы {x} убраны из массива {b}')"
   ]
  },
  {
   "cell_type": "code",
   "execution_count": 9,
   "metadata": {},
   "outputs": [
    {
     "data": {
      "text/plain": [
       "array('i', [8, -9, 3, 5, 8, -10, -4, 4, 5, -2, 10, -5, -9, 6, 5, 0, -8, -3, 1, -9])"
      ]
     },
     "execution_count": 9,
     "metadata": {},
     "output_type": "execute_result"
    }
   ],
   "source": [
    "# найти количество пар взаимно противоположных элементов и удалить их \n",
    "\n",
    "import random\n",
    "\n",
    "random.seed(10)\n",
    "\n",
    "c = array.array('i', [random.randint(-10, 10) for i in range(20)])\n",
    "\n",
    "c"
   ]
  },
  {
   "cell_type": "code",
   "execution_count": 10,
   "metadata": {},
   "outputs": [
    {
     "name": "stdout",
     "output_type": "stream",
     "text": [
      "4\n",
      "array('i', [4, 1, 2, 1, 2, 2, 3])\n"
     ]
    }
   ],
   "source": [
    "# прокрутитьмассик на k пунктов\n",
    "l = array.array('i', [1, 2, 2, 3, 4, 1, 2])\n",
    "\n",
    "k = int(input())\n",
    "\n",
    "l = l[k:] + l[:k]\n",
    "print(l)"
   ]
  },
  {
   "cell_type": "code",
   "execution_count": 11,
   "metadata": {},
   "outputs": [
    {
     "name": "stdout",
     "output_type": "stream",
     "text": [
      "5\n",
      "array('i', [1, 2, 1, 2, 2, 3, 4])\n"
     ]
    }
   ],
   "source": [
    "# прокрутитьмассик на k пунктов\n",
    "m = array.array('i', [1, 2, 2, 3, 4, 1, 2])\n",
    "\n",
    "k = int(input())\n",
    "\n",
    "for i in range(k):\n",
    "    m.append(m.pop(0))\n",
    "print(m)"
   ]
  },
  {
   "cell_type": "code",
   "execution_count": 12,
   "metadata": {},
   "outputs": [
    {
     "name": "stdout",
     "output_type": "stream",
     "text": [
      "Что удалить: 3\n",
      "Что вставить: 1\n",
      "Куда вставить: 2\n",
      "array('i', [1, 2, 1, 2, 4, 1, 2])\n"
     ]
    }
   ],
   "source": [
    "m = array.array('i', [1, 2, 2, 3, 4, 1, 2])\n",
    "\n",
    "k = int(input(\"Что удалить: \"))\n",
    "a = int(input(\"Что вставить: \"))\n",
    "l = int(input(\"Куда вставить: \"))\n",
    "\n",
    "m.pop(k)\n",
    "m.insert(l, a)\n",
    "\n",
    "print(m)"
   ]
  },
  {
   "cell_type": "markdown",
   "metadata": {},
   "source": [
    "##### Сортировка выбором"
   ]
  },
  {
   "cell_type": "code",
   "execution_count": 13,
   "metadata": {},
   "outputs": [],
   "source": [
    "from array import array\n",
    "\n",
    "def sorting(arr):\n",
    "    l = len(arr)\n",
    "    for i in range(l):\n",
    "        m = min(arr[i:])\n",
    "        temp_arr = arr[i:]\n",
    "        temp_arr.remove(m)\n",
    "        arr = arr[:i] + temp_arr\n",
    "        arr.insert(i, m)\n",
    "    return arr   "
   ]
  },
  {
   "cell_type": "code",
   "execution_count": 14,
   "metadata": {},
   "outputs": [
    {
     "data": {
      "text/plain": [
       "array('i', [1, 1, 2, 2, 2, 3, 4, 4, 6, 10])"
      ]
     },
     "execution_count": 14,
     "metadata": {},
     "output_type": "execute_result"
    }
   ],
   "source": [
    "arr = array('i', [1, 2, 2, 3, 10, 4, 1, 2, 6, 4])\n",
    "sorting(arr) "
   ]
  },
  {
   "cell_type": "markdown",
   "metadata": {},
   "source": [
    "##### Пузырьковая сортировка"
   ]
  },
  {
   "cell_type": "code",
   "execution_count": 15,
   "metadata": {},
   "outputs": [],
   "source": [
    "from array import array\n",
    "\n",
    "def bubble_sort(arr):\n",
    "    l = len(arr)\n",
    "    for _ in range(l-1):\n",
    "        for i in range(1, l):\n",
    "            if arr[i] < arr[i-1]:\n",
    "                arr[i], arr[i-1] = arr[i-1], arr[i]\n",
    "    return arr"
   ]
  },
  {
   "cell_type": "code",
   "execution_count": 16,
   "metadata": {},
   "outputs": [
    {
     "data": {
      "text/plain": [
       "array('i', [1, 1, 2, 2, 2, 3, 4, 4, 6, 10])"
      ]
     },
     "execution_count": 16,
     "metadata": {},
     "output_type": "execute_result"
    }
   ],
   "source": [
    "arr = array('i', [1, 2, 2, 3, 10, 4, 1, 2, 6, 4])\n",
    "bubble_sort(arr)"
   ]
  },
  {
   "cell_type": "markdown",
   "metadata": {},
   "source": [
    "##### Сортировка выбором (max)"
   ]
  },
  {
   "cell_type": "code",
   "execution_count": 17,
   "metadata": {},
   "outputs": [],
   "source": [
    "from array import array\n",
    "\n",
    "def selection_sort(arr):\n",
    "    l = len(arr)\n",
    "    for i in range(l-1, -1, -1):\n",
    "        m = max(arr[:i+1])\n",
    "        arr.remove(m)\n",
    "        arr.insert(i, m)\n",
    "    return arr"
   ]
  },
  {
   "cell_type": "code",
   "execution_count": 18,
   "metadata": {},
   "outputs": [
    {
     "data": {
      "text/plain": [
       "array('i', [1, 1, 2, 2, 2, 3, 4, 4, 6, 10])"
      ]
     },
     "execution_count": 18,
     "metadata": {},
     "output_type": "execute_result"
    }
   ],
   "source": [
    "arr = array('i', [1, 2, 2, 3, 10, 4, 1, 2, 6, 4])\n",
    "selection_sort(arr)"
   ]
  },
  {
   "cell_type": "markdown",
   "metadata": {},
   "source": [
    "##### Сортировка вставкой (включением)"
   ]
  },
  {
   "cell_type": "code",
   "execution_count": 5,
   "metadata": {},
   "outputs": [],
   "source": [
    "def insertion_sort(arr):\n",
    "    for index in range(1, len(arr)):\n",
    "        current_value = arr[index]\n",
    "        pos = index\n",
    "        while pos > 0 and arr[pos-1] > current_value:\n",
    "            arr[pos] = arr[pos-1]\n",
    "            pos -= 1\n",
    "            \n",
    "        arr[pos] = current_value\n",
    "    return arr"
   ]
  },
  {
   "cell_type": "code",
   "execution_count": 20,
   "metadata": {},
   "outputs": [
    {
     "data": {
      "text/plain": [
       "array('i', [1, 1, 2, 2, 2, 3, 4, 4, 6, 10])"
      ]
     },
     "execution_count": 20,
     "metadata": {},
     "output_type": "execute_result"
    }
   ],
   "source": [
    "arr = array('i', [1, 2, 2, 3, 10, 4, 1, 2, 6, 4])\n",
    "insertion_sort(arr)"
   ]
  },
  {
   "cell_type": "markdown",
   "metadata": {},
   "source": [
    "##### Сортировка Шелла "
   ]
  },
  {
   "cell_type": "code",
   "execution_count": 21,
   "metadata": {},
   "outputs": [],
   "source": [
    "# Модификация сортировки вставкой для подмассива с шагом gap и смещением start:\n",
    "def gap_insertion_sort(a_list, start, gap):\n",
    "    for i in range(start + gap, len(a_list), gap):\n",
    "        current_value = a_list[i]\n",
    "        position = i\n",
    "        \n",
    "        while position >= gap and a_list[position - gap] > current_value:\n",
    "            a_list[position] = a_list[position - gap]\n",
    "            position = position - gap\n",
    "\n",
    "        a_list[position] = current_value        "
   ]
  },
  {
   "cell_type": "code",
   "execution_count": 22,
   "metadata": {},
   "outputs": [],
   "source": [
    "def shell_sort(a_list):\n",
    "    report = ''\n",
    "    sublist_count = len(a_list) // 2\n",
    "    while sublist_count > 0:\n",
    "        for start_position in range(sublist_count):\n",
    "            gap_insertion_sort(a_list, start_position, sublist_count)\n",
    "\n",
    "        report += f\"After inc. of size, {sublist_count}, Lst: {a_list}\\n\"\n",
    "\n",
    "        sublist_count = sublist_count // 2\n",
    "        \n",
    "    return report"
   ]
  },
  {
   "cell_type": "code",
   "execution_count": 23,
   "metadata": {},
   "outputs": [
    {
     "name": "stdout",
     "output_type": "stream",
     "text": [
      "After inc. of size, 5, Lst: [31, 26, 55, 17, 65, 54, 44, 93, 20, 77]\n",
      "After inc. of size, 2, Lst: [20, 17, 31, 26, 44, 54, 55, 77, 65, 93]\n",
      "After inc. of size, 1, Lst: [17, 20, 26, 31, 44, 54, 55, 65, 77, 93]\n",
      "\n"
     ]
    }
   ],
   "source": [
    "arr = array('i', [54, 26, 93, 17, 77, 31, 44, 55, 20, 65])\n",
    "print(shell_sort(list(arr)))"
   ]
  },
  {
   "cell_type": "markdown",
   "metadata": {},
   "source": [
    "##### Быстрая сортировка (Quick Sort)"
   ]
  },
  {
   "cell_type": "code",
   "execution_count": 24,
   "metadata": {},
   "outputs": [],
   "source": [
    "def quick_sort(arr):\n",
    "    if len(arr) < 2:\n",
    "        return arr\n",
    "    else:\n",
    "        key_el = arr[0]\n",
    "        less  = [i for i in arr[1:] if i <= key_el]\n",
    "        greater = [i for i in arr[1:] if i > key_el]\n",
    "        return quick_sort(less) + [key_el] + quick_sort(greater)"
   ]
  },
  {
   "cell_type": "code",
   "execution_count": 25,
   "metadata": {},
   "outputs": [
    {
     "data": {
      "text/plain": [
       "[1, 1, 2, 2, 2, 3, 4, 4, 6, 10]"
      ]
     },
     "execution_count": 25,
     "metadata": {},
     "output_type": "execute_result"
    }
   ],
   "source": [
    "arr = array('i', [1, 2, 2, 3, 10, 4, 1, 2, 6, 4])\n",
    "quick_sort(arr)"
   ]
  },
  {
   "cell_type": "markdown",
   "metadata": {},
   "source": [
    "##### Сортировка слиянием (Merge Sort) "
   ]
  },
  {
   "cell_type": "code",
   "execution_count": 26,
   "metadata": {},
   "outputs": [],
   "source": [
    "def merge_sort(a_list):\n",
    "#     print(\"Splitting \", a_list)\n",
    "    if len(a_list) > 1:\n",
    "        mid = len(a_list) // 2\n",
    "        left_half = a_list[:mid]\n",
    "        right_half = a_list[mid:]\n",
    "\n",
    "        merge_sort(left_half)\n",
    "        merge_sort(right_half)\n",
    "\n",
    "        i = 0\n",
    "        j = 0\n",
    "        k = 0     \n",
    "        \n",
    "        while i < len(left_half) and j < len(right_half):\n",
    "            if left_half[i] < right_half[j]:\n",
    "                a_list[k] = left_half[i]\n",
    "                i += 1\n",
    "            else:\n",
    "                a_list[k] = right_half[j]\n",
    "                j += 1\n",
    "            k += 1\n",
    "\n",
    "        while i < len(left_half):\n",
    "            a_list[k] = left_half[i]\n",
    "            i += 1\n",
    "            k += 1\n",
    "\n",
    "        while j < len(right_half):\n",
    "            a_list[k] = right_half[j]\n",
    "            j += 1\n",
    "            k += 1  \n",
    "            \n",
    "#         print(\"Merging \", a_list)   \n",
    "    return a_list"
   ]
  },
  {
   "cell_type": "code",
   "execution_count": 27,
   "metadata": {},
   "outputs": [
    {
     "data": {
      "text/plain": [
       "array('i', [1, 1, 2, 2, 2, 3, 4, 4, 6, 10])"
      ]
     },
     "execution_count": 27,
     "metadata": {},
     "output_type": "execute_result"
    }
   ],
   "source": [
    "arr = array('i', [1, 2, 2, 3, 10, 4, 1, 2, 6, 4])\n",
    "merge_sort(arr)"
   ]
  },
  {
   "cell_type": "markdown",
   "metadata": {},
   "source": [
    "### Сравнение скорости работы алгоритмов"
   ]
  },
  {
   "cell_type": "code",
   "execution_count": 28,
   "metadata": {},
   "outputs": [],
   "source": [
    "from random import *\n",
    "\n",
    "seed(100)\n",
    "a = array('i', [randint(-100, 100) for i in range(1000)])"
   ]
  },
  {
   "cell_type": "code",
   "execution_count": 29,
   "metadata": {},
   "outputs": [],
   "source": [
    "func_list = [(\"sorting(a)\", \"Сортировка выбором 1\"),\n",
    "           ('bubble_sort(a)', \"Пузырьковая сортировка\"),\n",
    "           (\"selection_sort(a)\", \"Сортировка выбором 2\"),\n",
    "           (\"insertion_sort(a)\", \"Сортировка вставкой\"),\n",
    "           (\"shell_sort(a)\", \"Сортировка Шелла\"),\n",
    "           (\"sorted(a)\", \"sorted()\"),\n",
    "           (\"quick_sort(a)\", \"Быстрая сортировка (Quick Sort)\"),\n",
    "           (\"merge_sort(a)\", \"Сортировка слиянием (Merge Sort)\")\n",
    "          ]"
   ]
  },
  {
   "cell_type": "code",
   "execution_count": 30,
   "metadata": {
    "scrolled": true
   },
   "outputs": [
    {
     "name": "stdout",
     "output_type": "stream",
     "text": [
      "0.015860400000001107 Сортировка выбором 1\n",
      "0.22271999999999537 Пузырьковая сортировка\n",
      "0.021244799999998065 Сортировка выбором 2\n",
      "0.00031160000000340915 Сортировка вставкой\n",
      "0.003250500000000045 Сортировка Шелла\n",
      "4.7500000000866294e-05 sorted()\n",
      "0.01229099999999761 Быстрая сортировка (Quick Sort)\n",
      "0.0050553999999962684 Сортировка слиянием (Merge Sort)\n"
     ]
    }
   ],
   "source": [
    "import timeit\n",
    "\n",
    "\n",
    "for srt, name in func_list:\n",
    "    start_time = timeit.default_timer()\n",
    "    eval(srt)\n",
    "    print(timeit.default_timer() - start_time, name)"
   ]
  },
  {
   "cell_type": "markdown",
   "metadata": {},
   "source": [
    "### Задача 1"
   ]
  },
  {
   "cell_type": "code",
   "execution_count": 3,
   "metadata": {},
   "outputs": [],
   "source": [
    "from random import *"
   ]
  },
  {
   "cell_type": "code",
   "execution_count": 35,
   "metadata": {},
   "outputs": [
    {
     "name": "stdout",
     "output_type": "stream",
     "text": [
      "Введите k >> 10\n",
      "array('i', [18, 58, 58, 98, 22, 90, 50, 93, 44, 55, 64, 14, 68, 15, 10, 94, 58, 33, 6, 84])\n",
      "\n",
      "array('i', [98, 93, 90, 58, 58, 55, 50, 44, 22, 18, 6, 10, 14, 15, 33, 58, 64, 68, 84, 94])\n"
     ]
    }
   ],
   "source": [
    "# 20 эл массив с знач (0, 100), разбить на части по эл k и отсортировать левую по уб, правую по возр\n",
    "\n",
    "seed(100)\n",
    "ar = array('i', [randint(0, 100) for i in range(20)])\n",
    "\n",
    "\n",
    "k = int(input(\"Введите k >> \"))\n",
    "\n",
    "print(ar)\n",
    "\n",
    "result = array(\"i\", reversed(bubble_sort(ar[:k]))) + bubble_sort(ar[k:])\n",
    "\n",
    "print()\n",
    "print(result)"
   ]
  },
  {
   "cell_type": "markdown",
   "metadata": {},
   "source": [
    "### Задача 2"
   ]
  },
  {
   "cell_type": "code",
   "execution_count": 1,
   "metadata": {},
   "outputs": [],
   "source": [
    "def insertion_sort_rev(arr):\n",
    "    for index in range(1, len(arr)):\n",
    "        current_value = arr[index]\n",
    "        pos = index\n",
    "        while pos > 0 and arr[pos-1] < current_value:\n",
    "            arr[pos] = arr[pos-1]\n",
    "            pos -= 1\n",
    "            \n",
    "        arr[pos] = current_value\n",
    "    return arr"
   ]
  },
  {
   "cell_type": "code",
   "execution_count": 12,
   "metadata": {},
   "outputs": [
    {
     "name": "stdout",
     "output_type": "stream",
     "text": [
      "[-7, 0, 11, -8, 5, 6, 19, -10, 20, -8, 24, 6, 15, -6, -9, 22, 9, 6, 4, 25]\n",
      "\n",
      "[25, -10, 19, -8, 15, -8, 11, -6, 0, 4, 6, 6, 9, 6, 5, 20, -7, 22, 24, -9]\n"
     ]
    }
   ],
   "source": [
    "seed(111)\n",
    "ar = [randint(-20, 30) for i in range(20)]\n",
    "print(ar)\n",
    "\n",
    "even_ar = [i for i in ar if i % 2 == 0]\n",
    "odd_ar = [i for i in ar if i % 2 != 0]\n",
    "\n",
    "result = []\n",
    "\n",
    "even_ar = insertion_sort(even_ar)\n",
    "odd_ar = insertion_sort_rev(odd_ar)\n",
    "\n",
    "for i in range(len(ar)):\n",
    "    if ar[i] % 2 == 0:\n",
    "        ar[i] = even_ar.pop(0)\n",
    "    else:\n",
    "        ar[i] = odd_ar.pop(0)\n",
    "\n",
    "print()\n",
    "print(ar)"
   ]
  },
  {
   "cell_type": "code",
   "execution_count": null,
   "metadata": {},
   "outputs": [],
   "source": []
  }
 ],
 "metadata": {
  "kernelspec": {
   "display_name": "Python 3",
   "language": "python",
   "name": "python3"
  },
  "language_info": {
   "codemirror_mode": {
    "name": "ipython",
    "version": 3
   },
   "file_extension": ".py",
   "mimetype": "text/x-python",
   "name": "python",
   "nbconvert_exporter": "python",
   "pygments_lexer": "ipython3",
   "version": "3.8.5"
  }
 },
 "nbformat": 4,
 "nbformat_minor": 4
}
