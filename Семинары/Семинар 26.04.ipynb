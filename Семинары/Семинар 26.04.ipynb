{
 "cells": [
  {
   "cell_type": "code",
   "execution_count": 2,
   "metadata": {},
   "outputs": [],
   "source": [
    "import sys"
   ]
  },
  {
   "cell_type": "code",
   "execution_count": 3,
   "metadata": {},
   "outputs": [],
   "source": [
    "import array"
   ]
  },
  {
   "cell_type": "code",
   "execution_count": 14,
   "metadata": {},
   "outputs": [
    {
     "name": "stdout",
     "output_type": "stream",
     "text": [
      "Length:   0; Size in bytes:   56\n",
      "Length:   1; Size in bytes:   88\n",
      "Length:   2; Size in bytes:   88\n",
      "Length:   3; Size in bytes:   88\n",
      "Length:   4; Size in bytes:   88\n",
      "Length:   5; Size in bytes:  120\n",
      "Length:   6; Size in bytes:  120\n",
      "Length:   7; Size in bytes:  120\n",
      "Length:   8; Size in bytes:  120\n",
      "Length:   9; Size in bytes:  184\n",
      "Length:  10; Size in bytes:  184\n",
      "Length:  11; Size in bytes:  184\n",
      "Length:  12; Size in bytes:  184\n",
      "Length:  13; Size in bytes:  184\n",
      "Length:  14; Size in bytes:  184\n",
      "[0, 1, 2, 3, 4, 5, 6, 7, 8, 9, 10, 11, 12, 13, 14]\n"
     ]
    }
   ],
   "source": [
    "data = []\n",
    "n = 15\n",
    "for k in range(n): \n",
    "    a = len(data) # количество элементов в списке\n",
    "    b = sys.getsizeof(data) # текущий размер списка в байтах \n",
    "    print(f'Length: {a:3d}; Size in bytes: {b:4d}')\n",
    "    data.append(k) # добавляем элемент в список\n",
    "print(data)"
   ]
  },
  {
   "cell_type": "code",
   "execution_count": 4,
   "metadata": {},
   "outputs": [],
   "source": [
    "a = array.array('i', [1, 2, 2, 3, 4, 1, 2])"
   ]
  },
  {
   "cell_type": "code",
   "execution_count": 36,
   "metadata": {},
   "outputs": [
    {
     "name": "stdout",
     "output_type": "stream",
     "text": [
      "1\n",
      "Число уже в массиве array('i', [1, 2, 3, 4, 1])\n"
     ]
    }
   ],
   "source": [
    "x = int(input())\n",
    "\n",
    "if x in a:\n",
    "    print(f'Число уже в массиве {a}')\n",
    "else:\n",
    "    a.append(x)\n",
    "    print(f'Число {x} добавлено в массив {a}')"
   ]
  },
  {
   "cell_type": "code",
   "execution_count": 43,
   "metadata": {},
   "outputs": [
    {
     "name": "stdout",
     "output_type": "stream",
     "text": [
      "2\n",
      "Все элементы 2 убраны из массива array('i', [1, 3, 4, 1])\n"
     ]
    }
   ],
   "source": [
    "x = int(input())\n",
    "\n",
    "if x in a:\n",
    "    try:\n",
    "        while True:\n",
    "            a.remove(x)\n",
    "    except:\n",
    "        pass\n",
    "    print(f'Все элементы {x} убраны из массива {a}')"
   ]
  },
  {
   "cell_type": "code",
   "execution_count": 56,
   "metadata": {},
   "outputs": [
    {
     "name": "stdout",
     "output_type": "stream",
     "text": [
      "2\n",
      "Все элементы 2 убраны из массива array('i', [1, 3, 4, 1])\n"
     ]
    }
   ],
   "source": [
    "from copy import copy\n",
    "\n",
    "x = int(input())\n",
    "b = copy(a)\n",
    "\n",
    "for i in a:\n",
    "    if i == x:\n",
    "        b.remove(x)\n",
    "print(f'Все элементы {x} убраны из массива {b}')"
   ]
  },
  {
   "cell_type": "code",
   "execution_count": 1,
   "metadata": {},
   "outputs": [
    {
     "ename": "NameError",
     "evalue": "name 'array' is not defined",
     "output_type": "error",
     "traceback": [
      "\u001b[1;31m---------------------------------------------------------------------------\u001b[0m",
      "\u001b[1;31mNameError\u001b[0m                                 Traceback (most recent call last)",
      "\u001b[1;32m<ipython-input-1-eba4f228a216>\u001b[0m in \u001b[0;36m<module>\u001b[1;34m\u001b[0m\n\u001b[0;32m      5\u001b[0m \u001b[0mrandom\u001b[0m\u001b[1;33m.\u001b[0m\u001b[0mseed\u001b[0m\u001b[1;33m(\u001b[0m\u001b[1;36m10\u001b[0m\u001b[1;33m)\u001b[0m\u001b[1;33m\u001b[0m\u001b[1;33m\u001b[0m\u001b[0m\n\u001b[0;32m      6\u001b[0m \u001b[1;33m\u001b[0m\u001b[0m\n\u001b[1;32m----> 7\u001b[1;33m \u001b[0mc\u001b[0m \u001b[1;33m=\u001b[0m \u001b[0marray\u001b[0m\u001b[1;33m.\u001b[0m\u001b[0marray\u001b[0m\u001b[1;33m(\u001b[0m\u001b[1;34m'i'\u001b[0m\u001b[1;33m,\u001b[0m \u001b[1;33m[\u001b[0m\u001b[0mrandom\u001b[0m\u001b[1;33m.\u001b[0m\u001b[0mrandint\u001b[0m\u001b[1;33m(\u001b[0m\u001b[1;33m-\u001b[0m\u001b[1;36m10\u001b[0m\u001b[1;33m,\u001b[0m \u001b[1;36m10\u001b[0m\u001b[1;33m)\u001b[0m \u001b[1;32mfor\u001b[0m \u001b[0mi\u001b[0m \u001b[1;32min\u001b[0m \u001b[0mrange\u001b[0m\u001b[1;33m(\u001b[0m\u001b[1;36m20\u001b[0m\u001b[1;33m)\u001b[0m\u001b[1;33m]\u001b[0m\u001b[1;33m)\u001b[0m\u001b[1;33m\u001b[0m\u001b[1;33m\u001b[0m\u001b[0m\n\u001b[0m\u001b[0;32m      8\u001b[0m \u001b[1;33m\u001b[0m\u001b[0m\n\u001b[0;32m      9\u001b[0m \u001b[0mc\u001b[0m\u001b[1;33m\u001b[0m\u001b[1;33m\u001b[0m\u001b[0m\n",
      "\u001b[1;31mNameError\u001b[0m: name 'array' is not defined"
     ]
    }
   ],
   "source": [
    "# найти количество пар взаимно противоположных элементов и удалить их \n",
    "\n",
    "import random\n",
    "\n",
    "random.seed(10)\n",
    "\n",
    "c = array.array('i', [random.randint(-10, 10) for i in range(20)])\n",
    "\n",
    "c"
   ]
  },
  {
   "cell_type": "code",
   "execution_count": 15,
   "metadata": {},
   "outputs": [
    {
     "name": "stdout",
     "output_type": "stream",
     "text": [
      "4\n",
      "array('i', [4, 1, 2, 1, 2, 2, 3])\n"
     ]
    }
   ],
   "source": [
    "# прокрутитьмассик на k пунктов\n",
    "l = array.array('i', [1, 2, 2, 3, 4, 1, 2])\n",
    "\n",
    "k = int(input())\n",
    "\n",
    "l = l[k:] + l[:k]\n",
    "print(l)"
   ]
  },
  {
   "cell_type": "code",
   "execution_count": 17,
   "metadata": {},
   "outputs": [
    {
     "name": "stdout",
     "output_type": "stream",
     "text": [
      "4\n",
      "array('i', [4, 1, 2, 1, 2, 2, 3])\n"
     ]
    }
   ],
   "source": [
    "# прокрутитьмассик на k пунктов\n",
    "m = array.array('i', [1, 2, 2, 3, 4, 1, 2])\n",
    "\n",
    "k = int(input())\n",
    "\n",
    "for i in range(k):\n",
    "    m.append(m.pop(0))\n",
    "print(m)"
   ]
  },
  {
   "cell_type": "code",
   "execution_count": 20,
   "metadata": {},
   "outputs": [
    {
     "name": "stdout",
     "output_type": "stream",
     "text": [
      "Что удалить: 1\n",
      "Что вставить: 10\n",
      "Куда вставить: 3\n",
      "array('i', [1, 2, 3, 10, 4, 1, 2])\n"
     ]
    }
   ],
   "source": [
    "m = array.array('i', [1, 2, 2, 3, 4, 1, 2])\n",
    "\n",
    "k = int(input(\"Что удалить: \"))\n",
    "a = int(input(\"Что вставить: \"))\n",
    "l = int(input(\"Куда вставить: \"))\n",
    "\n",
    "m.pop(k)\n",
    "m.insert(l, a)\n",
    "\n",
    "print(m)"
   ]
  },
  {
   "cell_type": "markdown",
   "metadata": {},
   "source": [
    "##### Сортировка выбором"
   ]
  },
  {
   "cell_type": "code",
   "execution_count": 37,
   "metadata": {},
   "outputs": [
    {
     "name": "stdout",
     "output_type": "stream",
     "text": [
      "array('i', [1, 2, 2, 3, 10, 4, 1, 2, 6, 4]) 1\n",
      "array('i', [2, 1, 2, 3, 10, 4, 1, 2, 6, 4]) 1\n",
      "array('i', [2, 2, 1, 3, 10, 4, 1, 2, 6, 4]) 1\n",
      "array('i', [2, 2, 3, 1, 10, 4, 1, 2, 6, 4]) 1\n",
      "array('i', [2, 2, 3, 10, 1, 4, 1, 2, 6, 4]) 1\n",
      "array('i', [2, 2, 3, 10, 4, 1, 1, 2, 6, 4]) 1\n",
      "array('i', [2, 2, 3, 10, 4, 1, 1, 2, 6, 4]) 1\n",
      "array('i', [2, 3, 10, 4, 1, 1, 2, 2, 6, 4]) 2\n",
      "array('i', [2, 3, 10, 1, 1, 2, 2, 6, 4, 4]) 4\n",
      "array('i', [2, 3, 10, 1, 1, 2, 2, 6, 4, 4]) 4\n",
      "array('i', [2, 3, 10, 1, 1, 2, 2, 6, 4, 4])\n"
     ]
    }
   ],
   "source": [
    "def sorting(arr):\n",
    "    l = len(arr)\n",
    "    for i in range(l):\n",
    "        m = min(arr[i:])\n",
    "        arr.remove(m)\n",
    "        arr.insert(i, m)\n",
    "        print(arr, m)\n",
    "    return arr\n",
    "\n",
    "\n",
    "arr = array.array('i', [1, 2, 2, 3, 10, 4, 1, 2, 6, 4])\n",
    "arr = sorting(arr)      \n",
    "print(arr)\n",
    "            "
   ]
  }
 ],
 "metadata": {
  "kernelspec": {
   "display_name": "Python 3",
   "language": "python",
   "name": "python3"
  },
  "language_info": {
   "codemirror_mode": {
    "name": "ipython",
    "version": 3
   },
   "file_extension": ".py",
   "mimetype": "text/x-python",
   "name": "python",
   "nbconvert_exporter": "python",
   "pygments_lexer": "ipython3",
   "version": "3.8.10"
  }
 },
 "nbformat": 4,
 "nbformat_minor": 4
}
