{
 "cells": [
  {
   "cell_type": "markdown",
   "metadata": {},
   "source": [
    "## Объектно-ориентированное программирование\n",
    "Задания на семинар (выполняются в ipynb):\n",
    "\n",
    "1) Объявить класс фигуры (включает конструктор, принимающий координаты фигуры x, y)\n",
    "\n",
    "2) Создать объект фигуры\n",
    "\n",
    "3) Реализовать для фигуры метод draw (в виде псевдографики на поле 40 на 40 символов), для абстрактной фигуры рисуем * по заданным координатам\n",
    "\n",
    "4) Создать объект фигуры и нарисовать ее\n",
    "\n",
    "5) Изменить параметры объекта и перерисовать его\n",
    "\n",
    "6) Создать наследника класса фигура – класс прямоугольника, с соответствующим изменением конструктора (рисует в псевдографике звездочками прямоугольник)\n",
    "\n",
    "7) Создать объект прямоугольника и нарисовать его\n",
    "\n",
    "8) Изменить параметры объекта и перерисовать его\n",
    "\n",
    "9) Создать наследника класса фигура - треугольник (по сложности: 1)прямоуг с одинаковыми катетами 2)просто прямоуг 3)любой треуг)\n",
    "\n",
    "10) Создать наслединика класса прямоугольник - класс квадрат\n",
    "\n",
    "10) Создать несколько объектов класса треугольник, прямоугольник и фигура, поместить их в список и вызвать функцию рисования при обходе списка (пример полиморфизма).\n",
    "\n",
    "*11) Нарисовать ромб(через функцию рисования диагонали)\n",
    "\n",
    "12) Создать класс линии (не является наследником фигуры), имеющий метод draw аналогичный предыдущему\n",
    "\n",
    "13) Повторить 10 с участием линии (пример утиной типизации)\n",
    "\n",
    "14) Реализовать для всех объектов метод, позволяющий печатать объекты при помощи функции print()\n",
    "\n",
    "15) Реализовать для фигур функцию расчета площади.\n",
    "\n",
    "16) Создать несколько объектов класса треугольник, прямоугольник и фигура, поместить их в список. Расчитать суммарную площадь всех форм, находящихся в списке.\n",
    "\n",
    "17) Для 16 добавить в список объект линия (для которого не реализована функция площади). При помощи функции определения принадлежности объекта к классу модифицировать рассчет суммарной площади так, чтобы он не приводил к ошибке.\n",
    "\n",
    "18) При помощи декоратора @property превратить функцию площади в свойство. Модифицировать 17 в соответствии с новыми возможностями.\n",
    "\n",
    "19) При помощи свойств сделать переменные объекта x, y, доступными для получения,но недоступными для изменения.\n",
    "\n",
    "21) Оформить доступ к буферу экрана (screen) через свойство.\n",
    "\n",
    "22.1) Модифицировать конструктор фигуры так, чтобы при создании объекта для него мог задаваться внешний буфер экрана.\n",
    "\n",
    "22.2) Модифицировать код фигур так, чтобы все фигуры рисовались на общем экране.\n"
   ]
  },
  {
   "cell_type": "raw",
   "metadata": {},
   "source": []
  },
  {
   "cell_type": "code",
   "execution_count": 2,
   "metadata": {},
   "outputs": [],
   "source": [
    "from copy import deepcopy\n",
    "import numpy as np\n",
    "from random import choice\n",
    "from math import sqrt"
   ]
  },
  {
   "cell_type": "markdown",
   "metadata": {},
   "source": [
    "##### Класс поля, на котором размещаются фигуры"
   ]
  },
  {
   "cell_type": "code",
   "execution_count": 3,
   "metadata": {},
   "outputs": [],
   "source": [
    "class Field():\n",
    "    def __init__(self, char=\"o\", space='·', size=20):\n",
    "        self._space = space\n",
    "        self.char = char\n",
    "        self.size = size\n",
    "        self.screen = [[self._space]*size for _ in range(self.size)]\n",
    "        self.default_screen = deepcopy(self.screen)\n",
    "        \n",
    "    def draw(self, screen, area=0):\n",
    "        for y in range(len(screen)):\n",
    "            for x, i in enumerate(screen[y], 0):\n",
    "                if i != self._space:\n",
    "                    self.screen[y][x] = self.char\n",
    "        \n",
    "    def print_screen(self):\n",
    "        for line in self.screen:\n",
    "            for symb in line:\n",
    "                print(symb, end='  ')\n",
    "            print()\n",
    "    \n",
    "    def clear(self):\n",
    "        self.screen = deepcopy(self.default_screen)\n",
    "    \n",
    "    def __str__(self):\n",
    "        return f\"Это поле размером {self.size}x{self.size} для размещения на нем фигур\""
   ]
  },
  {
   "cell_type": "code",
   "execution_count": 4,
   "metadata": {},
   "outputs": [
    {
     "name": "stdout",
     "output_type": "stream",
     "text": [
      "Это поле размером 15x15 для размещения на нем фигур\n",
      "(:  (:  (:  (:  (:  (:  (:  (:  (:  (:  (:  (:  (:  (:  (:  \n",
      "(:  (:  (:  (:  (:  (:  (:  (:  (:  (:  (:  (:  (:  (:  (:  \n",
      "(:  (:  (:  (:  (:  (:  (:  (:  (:  (:  (:  (:  (:  (:  (:  \n",
      "(:  (:  (:  (:  (:  (:  (:  (:  (:  (:  (:  (:  (:  (:  (:  \n",
      "(:  (:  (:  (:  (:  (:  (:  (:  (:  (:  (:  (:  (:  (:  (:  \n",
      "(:  (:  (:  (:  (:  (:  (:  (:  (:  (:  (:  (:  (:  (:  (:  \n",
      "(:  (:  (:  (:  (:  (:  (:  (:  (:  (:  (:  (:  (:  (:  (:  \n",
      "(:  (:  (:  (:  (:  (:  (:  (:  (:  (:  (:  (:  (:  (:  (:  \n",
      "(:  (:  (:  (:  (:  (:  (:  (:  (:  (:  (:  (:  (:  (:  (:  \n",
      "(:  (:  (:  (:  (:  (:  (:  (:  (:  (:  (:  (:  (:  (:  (:  \n",
      "(:  (:  (:  (:  (:  (:  (:  (:  (:  (:  (:  (:  (:  (:  (:  \n",
      "(:  (:  (:  (:  (:  (:  (:  (:  (:  (:  (:  (:  (:  (:  (:  \n",
      "(:  (:  (:  (:  (:  (:  (:  (:  (:  (:  (:  (:  (:  (:  (:  \n",
      "(:  (:  (:  (:  (:  (:  (:  (:  (:  (:  (:  (:  (:  (:  (:  \n",
      "(:  (:  (:  (:  (:  (:  (:  (:  (:  (:  (:  (:  (:  (:  (:  \n"
     ]
    }
   ],
   "source": [
    "field = Field(size=15, space=\"(:\")\n",
    "\n",
    "print(field)\n",
    "field.print_screen()"
   ]
  },
  {
   "cell_type": "markdown",
   "metadata": {},
   "source": [
    "##### Класс Charp (точка)"
   ]
  },
  {
   "cell_type": "code",
   "execution_count": 25,
   "metadata": {},
   "outputs": [],
   "source": [
    "class Sharp(Field): \n",
    "    def __init__(self,x,y):\n",
    "        self.__x = x\n",
    "        self.__y = y\n",
    "    \n",
    "    def draw(self, master):\n",
    "        self.screen = deepcopy(master.default_screen)\n",
    "        self.screen[self.__y][self.__x] = master.char\n",
    "        master.draw(self.screen)\n",
    "        \n",
    "    def up(self, range_ = 1):\n",
    "        self.__y -= range_\n",
    "    \n",
    "    def left(self, range_ = 1):\n",
    "        self.__x -= range_\n",
    "        \n",
    "    def right(self, range_ = 1):\n",
    "        self.__x += range_\n",
    "        \n",
    "    def down(self, range_ = 1):\n",
    "        self.__y += range_ \n",
    "        \n",
    "    @property\n",
    "    def area(self):\n",
    "        return 0\n",
    "    \n",
    "    @property\n",
    "    def x(self):\n",
    "        return self.__x\n",
    "\n",
    "    @property\n",
    "    def y(self):\n",
    "        return self.__y\n",
    "    \n",
    "    def __str__(self):\n",
    "        return f\"Это точка с координатами ({self.__x}, {self.__y})\""
   ]
  },
  {
   "cell_type": "code",
   "execution_count": 28,
   "metadata": {},
   "outputs": [
    {
     "name": "stdout",
     "output_type": "stream",
     "text": [
      "Это точка с координатами (2, 2)\n",
      "·  ·  ·  ·  ·  \n",
      "·  ·  ·  ·  ·  \n",
      "·  ·  o  ·  ·  \n",
      "·  ·  ·  ·  ·  \n",
      "·  ·  ·  ·  ·  \n"
     ]
    }
   ],
   "source": [
    "field0 = Field(size=5)\n",
    "sh = Sharp(1, 3)\n",
    "sh.up()\n",
    "sh.right()\n",
    "sh.draw(field0)\n",
    "print(sh)\n",
    "field0.print_screen()"
   ]
  },
  {
   "cell_type": "markdown",
   "metadata": {},
   "source": [
    "##### Класс линии"
   ]
  },
  {
   "cell_type": "code",
   "execution_count": 7,
   "metadata": {},
   "outputs": [],
   "source": [
    "class Line(Field):\n",
    "    def __init__(self, st_point, end_point):\n",
    "        self.x = [st_point[0], end_point[0]]\n",
    "        self.y = [st_point[1], end_point[1]]\n",
    "        \n",
    "    def draw(self, master):\n",
    "        self.screen = deepcopy(master.default_screen)\n",
    "        if self.x[0] <= self.x[1]:\n",
    "            left_x = self.x[0]\n",
    "            left_y = self.y[0]\n",
    "            right_x = self.x[1]\n",
    "            right_y = self.y[1]\n",
    "        else:\n",
    "            left_x = self.x[1]\n",
    "            left_y = self.y[1]\n",
    "            right_x = self.x[0]\n",
    "            right_y = self.y[0]\n",
    "        left_is_higher = True if left_y < right_y else False\n",
    "        self.x_range = right_x - left_x + 1\n",
    "        self.y_range = abs(right_y - left_y) + 1\n",
    "        if self.x_range == 1:\n",
    "            if left_y > right_y:\n",
    "                left_y = right_y\n",
    "        if self.x_range < self.y_range:\n",
    "            needs_transpose = True\n",
    "            self.x_range, self.y_range = self.y_range, self.x_range\n",
    "            if left_is_higher:\n",
    "                left_y, left_x = left_x, left_y\n",
    "            else: \n",
    "                left_y, left_x = right_x, right_y\n",
    "        else:\n",
    "            needs_transpose = False\n",
    "        len_list = [self.x_range // self.y_range for _ in range(self.y_range)]\n",
    "        remainder = self.x_range % self.y_range\n",
    "        # блок с распределением остатков ПЕРЕПИСАТЬ\n",
    "        while remainder > 0:\n",
    "            choicer = choice([i for i in range(len(len_list))])\n",
    "            if len_list[choicer] == self.x_range // self.y_range:\n",
    "                len_list[choicer] += 1\n",
    "                remainder -= 1 \n",
    "        #\n",
    "        points_lost = 0\n",
    "        for r in len_list:\n",
    "            for x in range(r):\n",
    "                try:\n",
    "                    self.screen[left_y][x+left_x] = master.char\n",
    "                except IndexError:\n",
    "                    points_lost += 1\n",
    "            left_y = left_y + 1 if left_is_higher else left_y - 1\n",
    "            left_x += r\n",
    "        if points_lost:\n",
    "            print(f\"Фигура выходит за границу поля\")\n",
    "        if needs_transpose:\n",
    "            self.screen = np.transpose(self.screen)\n",
    "        master.draw(self.screen)\n",
    "    \n",
    "    def __str__(self):\n",
    "        return(f\"Линия длиной {self.length()}\")\n",
    "    \n",
    "    def length(self):\n",
    "        x_range = abs(self.x[0] - self.x[1]) + 1\n",
    "        y_range = abs(self.y[0] - self.y[1]) + 1\n",
    "        l = sqrt((x_range**2 if x_range != 1 else 0) + \\\n",
    "                 (y_range**2 if y_range != 1 else 0))\n",
    "        return l\n",
    "    \n",
    "    def __str__(self):\n",
    "        return f\"Это отрезок с точкам ({self.x[0]}, {self.y[0]}) и ({self.x[1]}, {self.y[1]})\""
   ]
  },
  {
   "cell_type": "code",
   "execution_count": 8,
   "metadata": {},
   "outputs": [
    {
     "name": "stdout",
     "output_type": "stream",
     "text": [
      "Это отрезок с точкам (2, 2) и (18, 5)\n",
      "·  ·  ·  ·  ·  ·  ·  ·  ·  ·  ·  ·  ·  ·  ·  ·  ·  ·  ·  ·  \n",
      "·  ·  ·  ·  ·  ·  ·  ·  ·  ·  ·  ·  ·  ·  ·  ·  ·  ·  ·  ·  \n",
      "·  ·  o  o  o  o  o  ·  ·  ·  ·  ·  ·  ·  ·  ·  ·  ·  ·  ·  \n",
      "·  ·  ·  ·  ·  ·  ·  o  o  o  o  ·  ·  ·  ·  ·  ·  ·  ·  ·  \n",
      "·  ·  ·  ·  ·  ·  ·  ·  ·  ·  ·  o  o  o  o  ·  ·  ·  ·  ·  \n",
      "·  ·  ·  ·  ·  ·  ·  ·  ·  ·  ·  ·  ·  ·  ·  o  o  o  o  ·  \n",
      "·  ·  ·  ·  ·  ·  ·  ·  ·  ·  ·  ·  ·  ·  ·  ·  ·  ·  ·  ·  \n",
      "·  ·  ·  ·  ·  ·  ·  ·  ·  ·  ·  ·  ·  ·  ·  ·  ·  ·  ·  ·  \n",
      "·  ·  ·  ·  ·  ·  ·  ·  ·  ·  ·  ·  ·  ·  ·  ·  ·  ·  ·  ·  \n",
      "·  ·  ·  ·  ·  ·  ·  ·  ·  ·  ·  ·  ·  ·  ·  ·  ·  ·  ·  ·  \n",
      "·  ·  ·  ·  ·  ·  ·  ·  ·  ·  ·  ·  ·  ·  ·  ·  ·  ·  ·  ·  \n",
      "·  ·  ·  ·  ·  ·  ·  ·  ·  ·  ·  ·  ·  ·  ·  ·  ·  ·  ·  ·  \n",
      "·  ·  ·  ·  ·  ·  ·  ·  ·  ·  ·  ·  ·  ·  ·  ·  ·  ·  ·  ·  \n",
      "·  ·  ·  ·  ·  ·  ·  ·  ·  ·  ·  ·  ·  ·  ·  ·  ·  ·  ·  ·  \n",
      "·  ·  ·  ·  ·  ·  ·  ·  ·  ·  ·  ·  ·  ·  ·  ·  ·  ·  ·  ·  \n",
      "·  ·  ·  ·  ·  ·  ·  ·  ·  ·  ·  ·  ·  ·  ·  ·  ·  ·  ·  ·  \n",
      "·  ·  ·  ·  ·  ·  ·  ·  ·  ·  ·  ·  ·  ·  ·  ·  ·  ·  ·  ·  \n",
      "·  ·  ·  ·  ·  ·  ·  ·  ·  ·  ·  ·  ·  ·  ·  ·  ·  ·  ·  ·  \n",
      "·  ·  ·  ·  ·  ·  ·  ·  ·  ·  ·  ·  ·  ·  ·  ·  ·  ·  ·  ·  \n",
      "·  ·  ·  ·  ·  ·  ·  ·  ·  ·  ·  ·  ·  ·  ·  ·  ·  ·  ·  ·  \n"
     ]
    }
   ],
   "source": [
    "field1 = Field()\n",
    "l = Line((2, 2), (18,5))\n",
    "\n",
    "l.draw(master=field1)\n",
    "print(str(l))\n",
    "field1.print_screen()"
   ]
  },
  {
   "cell_type": "markdown",
   "metadata": {},
   "source": [
    "##### Класс прямоугольника"
   ]
  },
  {
   "cell_type": "code",
   "execution_count": 9,
   "metadata": {},
   "outputs": [],
   "source": [
    "class Rectangle(Sharp): # класс прямоугольника \n",
    "    def __init__(self, x, y, w, h):\n",
    "        super().__init__(x, y)\n",
    "        self.__x = x\n",
    "        self.__y = y\n",
    "        self.__width = w\n",
    "        self.__height = h\n",
    "        \n",
    "    def draw(self, master): # отрисовка границы прямоугольника\n",
    "        self.screen = deepcopy(master.default_screen)\n",
    "        for i in range(self.__y, self.__y + self.__height):\n",
    "            self.screen[i][self.__x]=master.char\n",
    "        for i in range(self.__y, self.__y + self.__height):\n",
    "            self.screen[i][self.__x + self.__width - 1]=master.char\n",
    "        for i in range(self.__x, self.__x + self.__width):\n",
    "            self.screen[self.__y][i]=master.char\n",
    "        for i in range(self.__x, self.__x + self.__width):\n",
    "            self.screen[self.__y + self.__height - 1][i]=master.char\n",
    "        master.draw(self.screen)\n",
    "        \n",
    "    def draw_fill(self, master): # отрисовка с заполнением \n",
    "        self.screen=deepcopy(master.default_screen)\n",
    "        for j in range(self.__x, self.__x + self.__width):\n",
    "            for i in range(self.__y, self.__y + self.__height):\n",
    "                self.screen[i][j]=master.char\n",
    "        master.draw(self.screen)\n",
    "    \n",
    "    @property\n",
    "    def area(self):\n",
    "        return self.__width * self.__height\n",
    "    \n",
    "    @property\n",
    "    def width(self):\n",
    "        return self.__width\n",
    "\n",
    "    @property\n",
    "    def height(self):\n",
    "        return self.__height\n",
    "    \n",
    "    def __str__(self):\n",
    "        return f\"Это прямоугольник с левой верхней точкой ({self.__x}, {self.__y}), \\\n",
    "шириной {self.__width} и высотой {self.__height}\""
   ]
  },
  {
   "cell_type": "code",
   "execution_count": 33,
   "metadata": {
    "scrolled": true
   },
   "outputs": [
    {
     "name": "stdout",
     "output_type": "stream",
     "text": [
      "Это прямоугольник с левой верхней точкой (1, 10), шириной 3 и высотой 4\n",
      "Это прямоугольник с левой верхней точкой (10, 1), шириной 5 и высотой 4\n",
      "·  ·  ·  ·  ·  ·  ·  ·  ·  ·  ·  ·  ·  ·  ·  ·  ·  ·  ·  ·  \n",
      "·  ·  ·  ·  ·  ·  ·  ·  ·  ·  o  o  o  o  o  ·  ·  ·  ·  ·  \n",
      "·  ·  ·  ·  ·  ·  ·  ·  ·  ·  o  o  o  o  o  ·  ·  ·  ·  ·  \n",
      "·  ·  ·  ·  ·  ·  ·  ·  ·  ·  o  o  o  o  o  ·  ·  ·  ·  ·  \n",
      "·  ·  ·  ·  ·  ·  ·  ·  ·  ·  o  o  o  o  o  ·  ·  ·  ·  ·  \n",
      "·  ·  ·  ·  ·  ·  ·  ·  ·  ·  ·  ·  ·  ·  ·  ·  ·  ·  ·  ·  \n",
      "·  ·  ·  ·  ·  ·  ·  ·  ·  ·  ·  ·  ·  ·  ·  ·  ·  ·  ·  ·  \n",
      "·  ·  ·  ·  ·  ·  ·  ·  ·  ·  ·  ·  ·  ·  ·  ·  ·  ·  ·  ·  \n",
      "·  ·  ·  ·  ·  ·  ·  ·  ·  ·  ·  ·  ·  ·  ·  ·  ·  ·  ·  ·  \n",
      "·  ·  ·  ·  ·  ·  ·  ·  ·  ·  ·  ·  ·  ·  ·  ·  ·  ·  ·  ·  \n",
      "·  o  o  o  ·  ·  ·  ·  ·  ·  ·  ·  ·  ·  ·  ·  ·  ·  ·  ·  \n",
      "·  o  ·  o  ·  ·  ·  ·  ·  ·  ·  ·  ·  ·  ·  ·  ·  ·  ·  ·  \n",
      "·  o  ·  o  ·  ·  ·  ·  ·  ·  ·  ·  ·  ·  ·  ·  ·  ·  ·  ·  \n",
      "·  o  o  o  ·  ·  ·  ·  ·  ·  ·  ·  ·  ·  ·  ·  ·  ·  ·  ·  \n",
      "·  ·  ·  ·  ·  ·  ·  ·  ·  ·  ·  ·  ·  ·  ·  ·  ·  ·  ·  ·  \n",
      "·  ·  ·  ·  ·  ·  ·  ·  ·  ·  ·  ·  ·  ·  ·  ·  ·  ·  ·  ·  \n",
      "·  ·  ·  ·  ·  ·  ·  ·  ·  ·  ·  ·  ·  ·  ·  ·  ·  ·  ·  ·  \n",
      "·  ·  ·  ·  ·  ·  ·  ·  ·  ·  ·  ·  ·  ·  ·  ·  ·  ·  ·  ·  \n",
      "·  ·  ·  ·  ·  ·  ·  ·  ·  ·  ·  ·  ·  ·  ·  ·  ·  ·  ·  ·  \n",
      "·  ·  ·  ·  ·  ·  ·  ·  ·  ·  ·  ·  ·  ·  ·  ·  ·  ·  ·  ·  \n"
     ]
    }
   ],
   "source": [
    "field2 = Field()\n",
    "rectangle = Rectangle(1, 10, 3, 4)\n",
    "rectangle1 = Rectangle(10, 1, 5, 4)\n",
    "\n",
    "rectangle.draw(master=field2)\n",
    "rectangle1.draw_fill(master=field2)\n",
    "print(str(rectangle))\n",
    "print(str(rectangle1))\n",
    "field2.print_screen()"
   ]
  },
  {
   "cell_type": "markdown",
   "metadata": {},
   "source": [
    "##### Класс квадрата (наследник прямоугольника)"
   ]
  },
  {
   "cell_type": "code",
   "execution_count": 11,
   "metadata": {},
   "outputs": [],
   "source": [
    "class Square(Rectangle): # класс квадрата\n",
    "    def __init__(self, x,y,w):\n",
    "        super().__init__(x,y,w,w)\n",
    "    \n",
    "    def __str__(self):\n",
    "        return f\"Это квадрат с левой верхней точкой \\\n",
    "({self._Rectangle__x}, {self._Rectangle__y}) и стороной {self._Rectangle__width}\""
   ]
  },
  {
   "cell_type": "code",
   "execution_count": 13,
   "metadata": {},
   "outputs": [
    {
     "name": "stdout",
     "output_type": "stream",
     "text": [
      "Это квадрат с левой верхней точкой (1, 2) и стороной 5\n",
      "·  ·  ·  ·  ·  ·  ·  ·  ·  ·  \n",
      "·  ·  ·  ·  ·  ·  ·  ·  ·  ·  \n",
      "·  o  o  o  o  o  ·  ·  ·  ·  \n",
      "·  o  ·  ·  ·  o  ·  ·  ·  ·  \n",
      "·  o  ·  ·  ·  o  ·  ·  ·  ·  \n",
      "·  o  ·  ·  ·  o  ·  ·  ·  ·  \n",
      "·  o  o  o  o  o  ·  ·  ·  ·  \n",
      "·  ·  ·  ·  ·  ·  ·  ·  ·  ·  \n",
      "·  ·  ·  ·  ·  ·  ·  ·  ·  ·  \n",
      "·  ·  ·  ·  ·  ·  ·  ·  ·  ·  \n"
     ]
    }
   ],
   "source": [
    "field3 = Field(size=10)\n",
    "sq = Square(1,2,5)\n",
    "sq.draw(field3)\n",
    "print(str(sq))\n",
    "field3.print_screen()"
   ]
  },
  {
   "cell_type": "markdown",
   "metadata": {},
   "source": [
    "##### Класс треугольника "
   ]
  },
  {
   "cell_type": "code",
   "execution_count": 13,
   "metadata": {},
   "outputs": [],
   "source": [
    "class Triangle(Sharp):\n",
    "    def __init__(self, *coord):\n",
    "        self.A = coord[0]\n",
    "        self.B = coord[1]\n",
    "        self.C = coord[2]\n",
    "        self.a = Line(self.B, self.C)\n",
    "        self.b = Line(self.A, self.C)\n",
    "        self.c = Line(self.A, self.B)        \n",
    "    \n",
    "    def draw(self, master):\n",
    "        for _ in [self.a, self.b, self.c]:\n",
    "            _.draw(master)\n",
    "            \n",
    "    def area(self):\n",
    "        a_len = self.a.length()\n",
    "        b_len = self.b.length()\n",
    "        c_len = self.c.length()\n",
    "        p = (a_len + b_len + c_len) / 2\n",
    "        area = sqrt(p*(p-a_len)*(p-b_len)*(p-c_len))\n",
    "        return area \n",
    "    \n",
    "    def __str__(self):\n",
    "        return f\"Это треугольник с вершинами {self.A}, {self.B}, {self.C}\""
   ]
  },
  {
   "cell_type": "code",
   "execution_count": 46,
   "metadata": {},
   "outputs": [
    {
     "name": "stdout",
     "output_type": "stream",
     "text": [
      "364.60800868878357\n",
      "Это треугольник с вершинами (1, 1), (27, 6), (8, 28)\n",
      "·  ·  ·  ·  ·  ·  ·  ·  ·  ·  ·  ·  ·  ·  ·  ·  ·  ·  ·  ·  ·  ·  ·  ·  ·  ·  ·  ·  ·  ·  \n",
      "·  o  o  o  o  o  ·  ·  ·  ·  ·  ·  ·  ·  ·  ·  ·  ·  ·  ·  ·  ·  ·  ·  ·  ·  ·  ·  ·  ·  \n",
      "·  o  ·  ·  ·  ·  o  o  o  o  ·  ·  ·  ·  ·  ·  ·  ·  ·  ·  ·  ·  ·  ·  ·  ·  ·  ·  ·  ·  \n",
      "·  o  ·  ·  ·  ·  ·  ·  ·  ·  o  o  o  o  ·  ·  ·  ·  ·  ·  ·  ·  ·  ·  ·  ·  ·  ·  ·  ·  \n",
      "·  ·  o  ·  ·  ·  ·  ·  ·  ·  ·  ·  ·  ·  o  o  o  o  o  ·  ·  ·  ·  ·  ·  ·  ·  ·  ·  ·  \n",
      "·  ·  o  ·  ·  ·  ·  ·  ·  ·  ·  ·  ·  ·  ·  ·  ·  ·  ·  o  o  o  o  ·  ·  ·  ·  ·  ·  ·  \n",
      "·  ·  o  ·  ·  ·  ·  ·  ·  ·  ·  ·  ·  ·  ·  ·  ·  ·  ·  ·  ·  ·  ·  o  o  o  o  o  ·  ·  \n",
      "·  ·  ·  o  ·  ·  ·  ·  ·  ·  ·  ·  ·  ·  ·  ·  ·  ·  ·  ·  ·  ·  ·  ·  ·  ·  o  ·  ·  ·  \n",
      "·  ·  ·  o  ·  ·  ·  ·  ·  ·  ·  ·  ·  ·  ·  ·  ·  ·  ·  ·  ·  ·  ·  ·  ·  o  ·  ·  ·  ·  \n",
      "·  ·  ·  o  ·  ·  ·  ·  ·  ·  ·  ·  ·  ·  ·  ·  ·  ·  ·  ·  ·  ·  ·  ·  o  ·  ·  ·  ·  ·  \n",
      "·  ·  ·  ·  o  ·  ·  ·  ·  ·  ·  ·  ·  ·  ·  ·  ·  ·  ·  ·  ·  ·  ·  o  ·  ·  ·  ·  ·  ·  \n",
      "·  ·  ·  ·  o  ·  ·  ·  ·  ·  ·  ·  ·  ·  ·  ·  ·  ·  ·  ·  ·  ·  o  ·  ·  ·  ·  ·  ·  ·  \n",
      "·  ·  ·  ·  o  ·  ·  ·  ·  ·  ·  ·  ·  ·  ·  ·  ·  ·  ·  ·  ·  o  ·  ·  ·  ·  ·  ·  ·  ·  \n",
      "·  ·  ·  ·  o  ·  ·  ·  ·  ·  ·  ·  ·  ·  ·  ·  ·  ·  ·  ·  o  ·  ·  ·  ·  ·  ·  ·  ·  ·  \n",
      "·  ·  ·  ·  ·  o  ·  ·  ·  ·  ·  ·  ·  ·  ·  ·  ·  ·  ·  o  ·  ·  ·  ·  ·  ·  ·  ·  ·  ·  \n",
      "·  ·  ·  ·  ·  o  ·  ·  ·  ·  ·  ·  ·  ·  ·  ·  ·  ·  ·  o  ·  ·  ·  ·  ·  ·  ·  ·  ·  ·  \n",
      "·  ·  ·  ·  ·  o  ·  ·  ·  ·  ·  ·  ·  ·  ·  ·  ·  ·  o  ·  ·  ·  ·  ·  ·  ·  ·  ·  ·  ·  \n",
      "·  ·  ·  ·  ·  o  ·  ·  ·  ·  ·  ·  ·  ·  ·  ·  ·  o  ·  ·  ·  ·  ·  ·  ·  ·  ·  ·  ·  ·  \n",
      "·  ·  ·  ·  ·  ·  o  ·  ·  ·  ·  ·  ·  ·  ·  ·  o  ·  ·  ·  ·  ·  ·  ·  ·  ·  ·  ·  ·  ·  \n",
      "·  ·  ·  ·  ·  ·  o  ·  ·  ·  ·  ·  ·  ·  ·  o  ·  ·  ·  ·  ·  ·  ·  ·  ·  ·  ·  ·  ·  ·  \n",
      "·  ·  ·  ·  ·  ·  o  ·  ·  ·  ·  ·  ·  ·  o  ·  ·  ·  ·  ·  ·  ·  ·  ·  ·  ·  ·  ·  ·  ·  \n",
      "·  ·  ·  ·  ·  ·  o  ·  ·  ·  ·  ·  ·  o  ·  ·  ·  ·  ·  ·  ·  ·  ·  ·  ·  ·  ·  ·  ·  ·  \n",
      "·  ·  ·  ·  ·  ·  ·  o  ·  ·  ·  ·  o  ·  ·  ·  ·  ·  ·  ·  ·  ·  ·  ·  ·  ·  ·  ·  ·  ·  \n",
      "·  ·  ·  ·  ·  ·  ·  o  ·  ·  ·  o  ·  ·  ·  ·  ·  ·  ·  ·  ·  ·  ·  ·  ·  ·  ·  ·  ·  ·  \n",
      "·  ·  ·  ·  ·  ·  ·  o  ·  ·  ·  o  ·  ·  ·  ·  ·  ·  ·  ·  ·  ·  ·  ·  ·  ·  ·  ·  ·  ·  \n",
      "·  ·  ·  ·  ·  ·  ·  ·  o  ·  o  ·  ·  ·  ·  ·  ·  ·  ·  ·  ·  ·  ·  ·  ·  ·  ·  ·  ·  ·  \n",
      "·  ·  ·  ·  ·  ·  ·  ·  o  ·  o  ·  ·  ·  ·  ·  ·  ·  ·  ·  ·  ·  ·  ·  ·  ·  ·  ·  ·  ·  \n",
      "·  ·  ·  ·  ·  ·  ·  ·  o  o  ·  ·  ·  ·  ·  ·  ·  ·  ·  ·  ·  ·  ·  ·  ·  ·  ·  ·  ·  ·  \n",
      "·  ·  ·  ·  ·  ·  ·  ·  o  ·  ·  ·  ·  ·  ·  ·  ·  ·  ·  ·  ·  ·  ·  ·  ·  ·  ·  ·  ·  ·  \n",
      "·  ·  ·  ·  ·  ·  ·  ·  ·  ·  ·  ·  ·  ·  ·  ·  ·  ·  ·  ·  ·  ·  ·  ·  ·  ·  ·  ·  ·  ·  \n"
     ]
    }
   ],
   "source": [
    "field4 = Field(size=30)\n",
    "tri = Triangle((1,1), (27,6), (8,28))\n",
    "\n",
    "print(tri.area)\n",
    "tri.draw(field4)\n",
    "print(str(tri))\n",
    "field4.print_screen()"
   ]
  },
  {
   "cell_type": "markdown",
   "metadata": {},
   "source": [
    "##### Пример размещения нескольких фигур в одном поле"
   ]
  },
  {
   "cell_type": "code",
   "execution_count": 47,
   "metadata": {},
   "outputs": [
    {
     "name": "stdout",
     "output_type": "stream",
     "text": [
      "Это точка с координатами (5, 16)\n",
      "Это отрезок с точкам (1, 3) и (13, 1)\n",
      "Это прямоугольник с левой верхней точкой (2, 7), шириной 5 и высотой 3\n",
      "Это треугольник с вершинами (9, 6), (18, 10), (10, 19)\n",
      "·  ·  ·  ·  ·  ·  ·  ·  ·  ·  ·  ·  ·  ·  ·  ·  ·  ·  ·  ·  \n",
      "·  ·  ·  ·  ·  ·  ·  ·  ·  o  o  o  o  o  ·  ·  ·  ·  ·  ·  \n",
      "·  ·  ·  ·  ·  o  o  o  o  ·  ·  ·  ·  ·  ·  ·  ·  ·  ·  ·  \n",
      "·  o  o  o  o  ·  ·  ·  ·  ·  ·  ·  ·  ·  ·  ·  ·  ·  ·  ·  \n",
      "·  ·  ·  ·  ·  ·  ·  ·  ·  ·  ·  ·  ·  ·  ·  ·  ·  ·  ·  ·  \n",
      "·  ·  ·  ·  ·  ·  ·  ·  ·  ·  ·  ·  ·  ·  ·  ·  ·  ·  ·  ·  \n",
      "·  ·  ·  ·  ·  ·  ·  ·  ·  o  o  ·  ·  ·  ·  ·  ·  ·  ·  ·  \n",
      "·  ·  o  o  o  o  o  ·  ·  o  ·  o  o  ·  ·  ·  ·  ·  ·  ·  \n",
      "·  ·  o  ·  ·  ·  o  ·  ·  o  ·  ·  ·  o  o  ·  ·  ·  ·  ·  \n",
      "·  ·  o  o  o  o  o  ·  ·  o  ·  ·  ·  ·  ·  o  o  ·  ·  ·  \n",
      "·  ·  ·  ·  ·  ·  ·  ·  ·  o  ·  ·  ·  ·  ·  ·  ·  o  o  ·  \n",
      "·  ·  ·  ·  ·  ·  ·  ·  ·  o  ·  ·  ·  ·  ·  ·  ·  ·  o  ·  \n",
      "·  ·  ·  ·  ·  ·  ·  ·  ·  o  ·  ·  ·  ·  ·  ·  ·  o  ·  ·  \n",
      "·  ·  ·  ·  ·  ·  ·  ·  ·  ·  o  ·  ·  ·  ·  ·  o  ·  ·  ·  \n",
      "·  ·  ·  ·  ·  ·  ·  ·  ·  ·  o  ·  ·  ·  ·  o  ·  ·  ·  ·  \n",
      "·  ·  ·  ·  ·  ·  ·  ·  ·  ·  o  ·  ·  ·  o  ·  ·  ·  ·  ·  \n",
      "·  ·  ·  ·  ·  o  ·  ·  ·  ·  o  ·  ·  o  ·  ·  ·  ·  ·  ·  \n",
      "·  ·  ·  ·  ·  ·  ·  ·  ·  ·  o  ·  o  ·  ·  ·  ·  ·  ·  ·  \n",
      "·  ·  ·  ·  ·  ·  ·  ·  ·  ·  o  o  ·  ·  ·  ·  ·  ·  ·  ·  \n",
      "·  ·  ·  ·  ·  ·  ·  ·  ·  ·  o  ·  ·  ·  ·  ·  ·  ·  ·  ·  \n"
     ]
    }
   ],
   "source": [
    "f = Field()\n",
    "s1 = Sharp(5,16)\n",
    "s2 = Line((1,3), (13, 1))\n",
    "s3 = Rectangle(2, 7, 5, 3)\n",
    "s4 = Triangle((9,6), (18,10), (10,19))\n",
    "\n",
    "for _ in [s1, s2, s3, s4]:\n",
    "    _.draw(f)\n",
    "    print(_)\n",
    "f.print_screen()"
   ]
  },
  {
   "cell_type": "markdown",
   "metadata": {},
   "source": [
    "##### Нахождение суммы площадей нескольких фигур"
   ]
  },
  {
   "cell_type": "code",
   "execution_count": 63,
   "metadata": {},
   "outputs": [
    {
     "name": "stdout",
     "output_type": "stream",
     "text": [
      "145.0\n"
     ]
    }
   ],
   "source": [
    "a1 = Triangle((0,0),(0,9),(4,9)) # area = 25.0\n",
    "a2 = Rectangle(0,0,5,4) # area = 20\n",
    "a3 = Square(0,0,10) # area = 100\n",
    "a4 = Sharp(0,0) # area = 0\n",
    "\n",
    "a_area = 0\n",
    "a = [a1, a2, a3, a4]\n",
    "for _ in a:\n",
    "    a_area += _.area\n",
    "print(a_area)"
   ]
  },
  {
   "cell_type": "markdown",
   "metadata": {},
   "source": [
    "##### Проверка принадлежности к классу Sharp и его подклассам"
   ]
  },
  {
   "cell_type": "code",
   "execution_count": 49,
   "metadata": {},
   "outputs": [
    {
     "name": "stdout",
     "output_type": "stream",
     "text": [
      "145.0\n"
     ]
    }
   ],
   "source": [
    "b1 = Triangle((5,4),(5,13),(9,13)) # area = 25.0\n",
    "b2 = Rectangle(0,0,5,4) # area = 20\n",
    "b3 = Square(0,0,10) # area = 100\n",
    "b4 = Sharp(0,0) # area = 0\n",
    "line = Line((0,0), (1,1)) # no attribute area\n",
    "\n",
    "b_area = 0\n",
    "b = [b1, b2, b3, b4, line]\n",
    "for _ in b:\n",
    "    if isinstance(_, Sharp):\n",
    "        b_area += _.area\n",
    "print(b_area)"
   ]
  },
  {
   "cell_type": "markdown",
   "metadata": {},
   "source": [
    "##### Класс ромба"
   ]
  },
  {
   "cell_type": "code",
   "execution_count": 127,
   "metadata": {},
   "outputs": [],
   "source": [
    "class Rhomb(Rectangle):\n",
    "    def __init__(self, x, y, width, height):\n",
    "        super().__init__(x, y, width, height)\n",
    "\n",
    "    def draw(self, master):\n",
    "        self.A = (self.x, self.y)\n",
    "        self.C = (self.x+self.width-1, self.y)\n",
    "        self.B = (self.x+(self.width//2), self.y-(self.height//2))\n",
    "        self.D = (self.x+(self.width//2), self.y+(self.height//2))\n",
    "        a = Line(self.A, self.B)\n",
    "        b = Line(self.B, self.C)\n",
    "        c = Line(self.C, self.D)\n",
    "        d = Line(self.D, self.A)\n",
    "        for _ in [a, b, c, d]:\n",
    "            _.draw(master)\n",
    "            \n",
    "    @property\n",
    "    def area(self):\n",
    "        return self.width * self.height / 2\n",
    "    \n",
    "    def __str__(self):\n",
    "        return f\"Это ромб с диагоналями {self.width} и {self.height} и площадью {self.area}\""
   ]
  },
  {
   "cell_type": "code",
   "execution_count": 128,
   "metadata": {},
   "outputs": [
    {
     "name": "stdout",
     "output_type": "stream",
     "text": [
      "·  ·  ·  ·  ·  ·  ·  ·  ·  ·  ·  ·  ·  ·  ·  ·  ·  ·  ·  ·  \n",
      "·  ·  ·  ·  ·  ·  ·  ·  ·  ·  ·  ·  ·  ·  ·  ·  ·  ·  ·  ·  \n",
      "·  ·  ·  ·  ·  ·  ·  ·  ·  ·  ·  ·  ·  ·  ·  ·  ·  ·  ·  ·  \n",
      "·  ·  ·  ·  ·  ·  ·  ·  ·  ·  ·  ·  ·  ·  ·  ·  ·  ·  ·  ·  \n",
      "·  ·  ·  ·  ·  ·  ·  ·  ·  o  ·  ·  ·  ·  ·  ·  ·  ·  ·  ·  \n",
      "·  ·  ·  ·  ·  ·  ·  ·  o  ·  o  ·  ·  ·  ·  ·  ·  ·  ·  ·  \n",
      "·  ·  ·  ·  ·  ·  ·  o  ·  ·  ·  o  ·  ·  ·  ·  ·  ·  ·  ·  \n",
      "·  ·  ·  ·  ·  ·  o  ·  ·  ·  ·  ·  o  ·  ·  ·  ·  ·  ·  ·  \n",
      "·  ·  ·  ·  ·  o  ·  ·  ·  ·  ·  ·  ·  o  ·  ·  ·  ·  ·  ·  \n",
      "·  ·  ·  ·  o  ·  ·  ·  ·  ·  ·  ·  ·  ·  o  ·  ·  ·  ·  ·  \n",
      "·  ·  ·  ·  ·  o  ·  ·  ·  ·  ·  ·  ·  o  ·  ·  ·  ·  ·  ·  \n",
      "·  ·  ·  ·  ·  ·  o  ·  ·  ·  ·  ·  o  ·  ·  ·  ·  ·  ·  ·  \n",
      "·  ·  ·  ·  ·  ·  ·  o  ·  ·  ·  o  ·  ·  ·  ·  ·  ·  ·  ·  \n",
      "·  ·  ·  ·  ·  ·  ·  ·  o  ·  o  ·  ·  ·  ·  ·  ·  ·  ·  ·  \n",
      "·  ·  ·  ·  ·  ·  ·  ·  ·  o  ·  ·  ·  ·  ·  ·  ·  ·  ·  ·  \n",
      "·  ·  ·  ·  ·  ·  ·  ·  ·  ·  ·  ·  ·  ·  ·  ·  ·  ·  ·  ·  \n",
      "·  ·  ·  ·  ·  ·  ·  ·  ·  ·  ·  ·  ·  ·  ·  ·  ·  ·  ·  ·  \n",
      "·  ·  ·  ·  ·  ·  ·  ·  ·  ·  ·  ·  ·  ·  ·  ·  ·  ·  ·  ·  \n",
      "·  ·  ·  ·  ·  ·  ·  ·  ·  ·  ·  ·  ·  ·  ·  ·  ·  ·  ·  ·  \n",
      "·  ·  ·  ·  ·  ·  ·  ·  ·  ·  ·  ·  ·  ·  ·  ·  ·  ·  ·  ·  \n",
      "Это ромб с диагоналями 11 и 11 и площадью 60.5\n"
     ]
    }
   ],
   "source": [
    "field5 = Field()\n",
    "rh = Rhomb(4, 9, 11, 11)\n",
    "rh.draw(field5)\n",
    "field5.print_screen()\n",
    "print(rh)"
   ]
  },
  {
   "cell_type": "code",
   "execution_count": null,
   "metadata": {},
   "outputs": [],
   "source": [
    "# class Sharp(object):\n",
    "#     def __init__(self,x,y):\n",
    "#         self.__x = x\n",
    "#         self.__y = y\n",
    "#         self.screen=[['.']*20 for _ in range(20)]\n",
    "        \n",
    "#     def print_screen(self):\n",
    "#         for line in self.screen:\n",
    "#             for symb in line:\n",
    "#                 print(symb, end='')\n",
    "#             print()\n",
    "            \n",
    "#     @property\n",
    "#     def x(self):\n",
    "#         return self.__x\n",
    "    \n",
    "#     @property\n",
    "#     def y(self):\n",
    "#         return self.__y\n",
    "              \n",
    "#     def draw(self):\n",
    "#         self.screen=[['.']*20 for _ in range(20)]\n",
    "#         self.screen[self.__y][self.__x]='*'\n",
    "#         self.print_screen()\n",
    "        \n",
    "#     def __str__(self):\n",
    "#         return f'Это точка с координатами ({self.x};{self.y})'\n",
    "    \n",
    "#     def area(self):\n",
    "#         return 0"
   ]
  }
 ],
 "metadata": {
  "kernelspec": {
   "display_name": "Python 3",
   "language": "python",
   "name": "python3"
  },
  "language_info": {
   "codemirror_mode": {
    "name": "ipython",
    "version": 3
   },
   "file_extension": ".py",
   "mimetype": "text/x-python",
   "name": "python",
   "nbconvert_exporter": "python",
   "pygments_lexer": "ipython3",
   "version": "3.8.8"
  }
 },
 "nbformat": 4,
 "nbformat_minor": 2
}
