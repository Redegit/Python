{
 "cells": [
  {
   "cell_type": "markdown",
   "id": "4f4a5d3e",
   "metadata": {},
   "source": [
    "# Лекция 11"
   ]
  },
  {
   "cell_type": "markdown",
   "id": "45539154",
   "metadata": {},
   "source": [
    "## Объектно-ориентированное программирование"
   ]
  },
  {
   "cell_type": "markdown",
   "id": "29999f53",
   "metadata": {},
   "source": [
    "### Создание классов и объектов"
   ]
  },
  {
   "cell_type": "markdown",
   "id": "544a1b5f",
   "metadata": {},
   "source": [
    " Создание классов"
   ]
  },
  {
   "cell_type": "code",
   "execution_count": 3,
   "id": "c3eb7452",
   "metadata": {},
   "outputs": [],
   "source": [
    "class Car(object):\n",
    "    \"\"\"Class information\"\"\"\n",
    "    pass"
   ]
  },
  {
   "cell_type": "code",
   "execution_count": 10,
   "id": "dae78663",
   "metadata": {},
   "outputs": [
    {
     "name": "stdout",
     "output_type": "stream",
     "text": [
      "<__main__.Car object at 0x000001AF4FD1AF40>\n"
     ]
    }
   ],
   "source": [
    "Tesla=Car()\n",
    "print(Tesla)"
   ]
  },
  {
   "cell_type": "code",
   "execution_count": 11,
   "id": "dc5052e7",
   "metadata": {},
   "outputs": [],
   "source": [
    "Car?"
   ]
  },
  {
   "cell_type": "code",
   "execution_count": 12,
   "id": "5b4297d7",
   "metadata": {},
   "outputs": [],
   "source": [
    "Tesla?"
   ]
  },
  {
   "cell_type": "code",
   "execution_count": 24,
   "id": "f25543b1",
   "metadata": {},
   "outputs": [],
   "source": [
    "class Car(object):\n",
    "    \"\"\"Базовый класс для автомобилей\"\"\"\n",
    "    def __init__(self, x): # конструктор класса\n",
    "        self.x = x # сщздаем аттрибут класса\n",
    "    def is_near(self, x2):\n",
    "        return abs(self.x - x2) < 2.0"
   ]
  },
  {
   "cell_type": "code",
   "execution_count": 18,
   "id": "f20c3738",
   "metadata": {},
   "outputs": [
    {
     "name": "stdout",
     "output_type": "stream",
     "text": [
      "True\n"
     ]
    }
   ],
   "source": [
    "some_car = Car(3)\n",
    "print(some_car.is_near(2))"
   ]
  },
  {
   "cell_type": "code",
   "execution_count": 19,
   "id": "26b342d9",
   "metadata": {},
   "outputs": [
    {
     "data": {
      "text/plain": [
       "__main__.Car"
      ]
     },
     "execution_count": 19,
     "metadata": {},
     "output_type": "execute_result"
    }
   ],
   "source": [
    "type(some_car)"
   ]
  },
  {
   "cell_type": "code",
   "execution_count": 20,
   "id": "40ba25be",
   "metadata": {},
   "outputs": [
    {
     "data": {
      "text/plain": [
       "3"
      ]
     },
     "execution_count": 20,
     "metadata": {},
     "output_type": "execute_result"
    }
   ],
   "source": [
    "some_car.x"
   ]
  },
  {
   "cell_type": "code",
   "execution_count": 21,
   "id": "b799aad2",
   "metadata": {},
   "outputs": [
    {
     "data": {
      "text/plain": [
       "2"
      ]
     },
     "execution_count": 21,
     "metadata": {},
     "output_type": "execute_result"
    }
   ],
   "source": [
    "some_car.x = 2\n",
    "some_car.x"
   ]
  },
  {
   "cell_type": "code",
   "execution_count": 22,
   "id": "512f612b",
   "metadata": {},
   "outputs": [
    {
     "name": "stdout",
     "output_type": "stream",
     "text": [
      "True\n"
     ]
    }
   ],
   "source": [
    "print(some_car.is_near(2))"
   ]
  },
  {
   "cell_type": "markdown",
   "id": "23709733",
   "metadata": {},
   "source": [
    "Наследование"
   ]
  },
  {
   "cell_type": "code",
   "execution_count": 25,
   "id": "ca92b4ad",
   "metadata": {},
   "outputs": [],
   "source": [
    "class CargoCar(Car):\n",
    "    \"\"\"Подкласс Car для грузовых автомобилей\"\"\"\n",
    "    def __init__(self, x, max_load, load): # конструктор класса\n",
    "        self.x = x # сщздаем аттрибут класса\n",
    "        self.max_load = max_load\n",
    "        self.load = load\n",
    "    \n",
    "    def is_overloaded(self):\n",
    "        return self.load > self.max_load"
   ]
  },
  {
   "cell_type": "code",
   "execution_count": 28,
   "id": "d08040a0",
   "metadata": {},
   "outputs": [
    {
     "data": {
      "text/plain": [
       "True"
      ]
     },
     "execution_count": 28,
     "metadata": {},
     "output_type": "execute_result"
    }
   ],
   "source": [
    "cargo = CargoCar(6.0, 10, 2)\n",
    "cargo.is_near(5)"
   ]
  },
  {
   "cell_type": "code",
   "execution_count": 29,
   "id": "54b641af",
   "metadata": {},
   "outputs": [
    {
     "data": {
      "text/plain": [
       "False"
      ]
     },
     "execution_count": 29,
     "metadata": {},
     "output_type": "execute_result"
    }
   ],
   "source": [
    "cargo.is_overloaded()"
   ]
  },
  {
   "cell_type": "markdown",
   "id": "b7fb0150",
   "metadata": {},
   "source": [
    "Полиморфизм (один из принципов ООП, позволяющий вызовом переопределённого метода через переменную класса-родителя получить поведение, которое будет соответствовать реальному классу-потомку, на который ссылается эта переменная)"
   ]
  },
  {
   "cell_type": "code",
   "execution_count": 33,
   "id": "a59a4597",
   "metadata": {},
   "outputs": [],
   "source": [
    "class CargoCarWithTrailer(CargoCar):\n",
    "    def __init__(self, x, max_load, load, trailer_length):\n",
    "        super().__init__(x, max_load, load) # задаем аттрибуты, которые уже объявлялись в материнском классе\n",
    "        self.trailer_length = trailer_length\n",
    "    \n",
    "    def is_near(self, x2): # переопределяем метод определения близости\n",
    "        return self.x - self.trailer_length - 2.0 < x2 < self.x + 2.0\n",
    "    \n",
    "    def is_near_old(self, x2):\n",
    "        return super().is_near(x2) "
   ]
  },
  {
   "cell_type": "code",
   "execution_count": 1,
   "id": "182344c5",
   "metadata": {},
   "outputs": [],
   "source": [
    "super?"
   ]
  },
  {
   "cell_type": "code",
   "execution_count": 35,
   "id": "d68ffa43",
   "metadata": {},
   "outputs": [],
   "source": [
    "trailer = CargoCarWithTrailer(6.0, 10, 2, 3)"
   ]
  },
  {
   "cell_type": "code",
   "execution_count": 37,
   "id": "8e683a5b",
   "metadata": {},
   "outputs": [
    {
     "data": {
      "text/plain": [
       "(6.0, 6.0)"
      ]
     },
     "execution_count": 37,
     "metadata": {},
     "output_type": "execute_result"
    }
   ],
   "source": [
    "cargo.x, trailer.x"
   ]
  },
  {
   "cell_type": "code",
   "execution_count": 38,
   "id": "446c3e3a",
   "metadata": {},
   "outputs": [
    {
     "data": {
      "text/plain": [
       "(False, True)"
      ]
     },
     "execution_count": 38,
     "metadata": {},
     "output_type": "execute_result"
    }
   ],
   "source": [
    "cargo.is_near(3.0), trailer.is_near(3.0)"
   ]
  },
  {
   "cell_type": "markdown",
   "id": "6e197316",
   "metadata": {},
   "source": [
    "Утиная типизация (работа с объектами, не связанными наследованием, но поддерживающими необходимый набор методов) "
   ]
  },
  {
   "cell_type": "code",
   "execution_count": 39,
   "id": "a5895080",
   "metadata": {},
   "outputs": [],
   "source": [
    "class Man(object):\n",
    "    def __init__(self, name, position):\n",
    "        self.name = name\n",
    "        self.position = position\n",
    "    \n",
    "    def is_near(self, pos2):\n",
    "        return abs(self.position - pos2) < 1.0"
   ]
  },
  {
   "cell_type": "code",
   "execution_count": 40,
   "id": "b156a61d",
   "metadata": {},
   "outputs": [],
   "source": [
    "m1 = Man(\"Ivan\", 9.5)"
   ]
  },
  {
   "cell_type": "code",
   "execution_count": 41,
   "id": "d3866b71",
   "metadata": {},
   "outputs": [],
   "source": [
    "different_objects = [some_car, cargo, trailer, m1]"
   ]
  },
  {
   "cell_type": "code",
   "execution_count": 45,
   "id": "a2c892ca",
   "metadata": {},
   "outputs": [
    {
     "name": "stdout",
     "output_type": "stream",
     "text": [
      "False\n",
      "True\n",
      "True\n",
      "False\n"
     ]
    }
   ],
   "source": [
    "for ob in different_objects:\n",
    "    print(ob.is_near(6.2))"
   ]
  },
  {
   "cell_type": "markdown",
   "id": "cf126c68",
   "metadata": {},
   "source": [
    "Функция super()"
   ]
  },
  {
   "cell_type": "code",
   "execution_count": 46,
   "id": "d571fd31",
   "metadata": {},
   "outputs": [],
   "source": [
    "class Point2D():\n",
    "    def __init__(self, x, y):\n",
    "        self.x = x\n",
    "        self.y = y\n",
    "\n",
    "class Point3D(Point2D):\n",
    "    def __init__(self, x, y, z):\n",
    "        super().__init__(x, y)\n",
    "        self.z = z"
   ]
  },
  {
   "cell_type": "code",
   "execution_count": 49,
   "id": "486d93e1",
   "metadata": {},
   "outputs": [
    {
     "data": {
      "text/plain": [
       "{'x': 1, 'y': 2, 'z': 3}"
      ]
     },
     "execution_count": 49,
     "metadata": {},
     "output_type": "execute_result"
    }
   ],
   "source": [
    "point = Point3D(1, 2, 3)\n",
    "point.__dict__"
   ]
  }
 ],
 "metadata": {
  "kernelspec": {
   "display_name": "Python 3",
   "language": "python",
   "name": "python3"
  },
  "language_info": {
   "codemirror_mode": {
    "name": "ipython",
    "version": 3
   },
   "file_extension": ".py",
   "mimetype": "text/x-python",
   "name": "python",
   "nbconvert_exporter": "python",
   "pygments_lexer": "ipython3",
   "version": "3.8.8"
  }
 },
 "nbformat": 4,
 "nbformat_minor": 5
}
