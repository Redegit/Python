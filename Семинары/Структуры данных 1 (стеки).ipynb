{
 "cells": [
  {
   "cell_type": "markdown",
   "metadata": {},
   "source": [
    "1) При помощи стека (можно использовать любую реализацию стека, например, из лекции) проверить, что в строке, содержащей большой фрагмент кода на python, корректно открываются и закрываются скобки '(' и ')'. \n",
    "\n",
    "Например, в следующей строке корректное количество скобок:\n",
    "\n",
    "'((dsasdas((das(d)das)d)asd)da)'\n",
    "\n",
    "А вот в следующей закрывающих больше, чем открывающих:\n",
    "\n",
    "'(f(gfhd((hgfdg((fghh)dads)das))ds)ad)d(ads())))'"
   ]
  },
  {
   "cell_type": "code",
   "execution_count": 25,
   "metadata": {},
   "outputs": [],
   "source": [
    "class Stack:\n",
    "    def __init__(self, stroka, maxl):\n",
    "        self.st = []\n",
    "        self.maxl = maxl\n",
    "        for i in list(stroka):\n",
    "            self.push(i)\n",
    "\n",
    "    @property\n",
    "    def length(self):\n",
    "        return len(self.st)\n",
    "    \n",
    "    @property\n",
    "    def isEmpty(self):\n",
    "        if self.length == 0:\n",
    "            return 1\n",
    "        else:\n",
    "            return 0\n",
    "    \n",
    "    def top(self):\n",
    "        if self.isEmpty:\n",
    "            raise Exception('Стек пустой')\n",
    "        else:\n",
    "            return self.st[-1]\n",
    "        \n",
    "    def pop(self):\n",
    "        if self.isEmpty:\n",
    "            raise Exception('Стек пустой')\n",
    "        else:\n",
    "            return self.st.pop()\n",
    "\n",
    "    def push(self, a):\n",
    "        if len(self.st) >= self.maxl:\n",
    "            raise Exception('Превышена максимальная длина списка')\n",
    "        self.st.append(a)\n",
    "        return self.st\n",
    "\n",
    "    def skob(self):\n",
    "        counter = 0\n",
    "        while not self.isEmpty:\n",
    "            el = self.st.pop()\n",
    "            if el == '(':\n",
    "                counter += 1\n",
    "                print('+1')\n",
    "            elif el == ')':\n",
    "                counter -= 1\n",
    "                print('-1')\n",
    "        if counter > 0:\n",
    "            result = f'\\'(\\' больше на {abs(counter)}' \n",
    "        elif counter < 0:\n",
    "            result = f'\\')\\' больше на {abs(counter)}'\n",
    "        else:\n",
    "            result = 'поровну'\n",
    "        return result\n",
    "    \n",
    "    def __str__(self):\n",
    "        return f'Stack({self.st})'\n",
    "    \n",
    "    #1\n",
    "    def exchange(self):\n",
    "        self.st[0], self.st[-1] = self.st[-1], self.st[0]\n",
    "    \n",
    "    #2\n",
    "    def reverse(self):\n",
    "        self.st = self.st[::-1]\n",
    "    \n",
    "    #3\n",
    "    def del_mid(self):\n",
    "        l = self.length\n",
    "        if l % 2 == 0:\n",
    "            del self.st[int(l/2-1):int(l/2)]\n",
    "        else:\n",
    "            del self.st[l//2]\n",
    "    \n",
    "    #4\n",
    "    def del_even(self):\n",
    "        tmp = []\n",
    "        for i in range(0, self.length, 2):\n",
    "                tmp.append(self.st[i])\n",
    "        self.st = tmp\n",
    "    \n",
    "    #5\n",
    "    def ins_star(self):\n",
    "        l = self.length\n",
    "        if l % 2 == 0:\n",
    "            self.st.insert(l//2, '*')\n",
    "        else:\n",
    "            self.st.insert(l//2+1, '*')\n",
    "    \n",
    "    #6\n",
    "    def min_add_zero(self):\n",
    "        m = self.st[0]\n",
    "        index = None\n",
    "        for i in range(self.length):\n",
    "            if self.st[i] < m:\n",
    "                index = i\n",
    "                m = self.st[i]\n",
    "        self.st.insert(index+1, '0')\n",
    "    \n",
    "    #7\n",
    "    def max_add_zero(self):\n",
    "        m = self.st[0]\n",
    "        index = None\n",
    "        for i in range(self.length):\n",
    "            if self.st[i] > m:\n",
    "                index = i\n",
    "                m = self.st[i]\n",
    "        self.st.insert(index+1, '0')\n",
    "        \n",
    "    #8\n",
    "    def del_min(self):\n",
    "        m = self.st[0]\n",
    "        index = None\n",
    "        for i in range(self.length):\n",
    "            if self.st[i] < m:\n",
    "                index = i\n",
    "                m = self.st[i]\n",
    "        del self.st[index]\n",
    "    \n",
    "    #9\n",
    "    def del_eq_first(self):\n",
    "        first = self.st[0]\n",
    "        tmp = []\n",
    "        for i in self.st:\n",
    "            if i != first:\n",
    "                tmp.append(i)\n",
    "        self.st = tmp\n",
    "    \n",
    "    #10\n",
    "    def del_eq_last(self):\n",
    "        last = self.st[0]\n",
    "        tmp = []\n",
    "        for i in self.st:\n",
    "            if i != last:\n",
    "                tmp.append(i)\n",
    "        self.st = tmp\n",
    "        \n",
    "    #11\n",
    "    def del_max(self):\n",
    "        m = self.st[0]\n",
    "        index = None\n",
    "        for i in range(self.length):\n",
    "            if self.st[i] > m:\n",
    "                index = i\n",
    "                m = self.st[i]\n",
    "        del self.st[index]\n",
    "    \n",
    "    #12\n",
    "    def ch_min_zero(self):\n",
    "        m = self.st[0]\n",
    "        index = None\n",
    "        for i in range(self.length):\n",
    "            if self.st[i] < m:\n",
    "                index = i\n",
    "                m = self.st[i]\n",
    "        self.st.insert(index+1, '0')"
   ]
  },
  {
   "cell_type": "markdown",
   "metadata": {},
   "source": [
    "Д/з стеки:\n",
    "1.\tПоменять местами первый и последний эле-\n",
    "менты стека.\n",
    "2.\tРазвернуть стек (\"дно\" стека сделать вершиной,\n",
    "а вершину - \"дном\").\n",
    "3.\tУдалить элемент, который находится в середине сте-ка, если нечетное число элементов, а если четное, то два сред-них.\n",
    "4.\tУдалить каждый второй элемент стека.\n",
    "5.\tВставить символ «*» в середину стека, если четное число элементов, а если нечетное, то после среднего элемента.\n",
    "6.\tНайти минимальный элемент и вставить после\n",
    "него «0».\n",
    "7.\tНайти максимальный элемент и вставить после\n",
    "него «0».\n",
    "8.\tУдалить минимальный элемент.\n",
    "9.\tУдалить все элементы, равные первому.\n",
    "10.\tУдалить все элементы, равные последнему.\n",
    "11.\tУдалить максимальный элемент. \n",
    "12.\tНайти минимальный элемент и вставить на его\n",
    "место «0».\n"
   ]
  },
  {
   "cell_type": "code",
   "execution_count": 26,
   "metadata": {},
   "outputs": [
    {
     "name": "stdout",
     "output_type": "stream",
     "text": [
      "Stack(['1', '2', '3', '4', '5', '6', '7', '8', '9'])\n",
      "Stack(['9', '2', '3', '4', '5', '6', '7', '8', '1'])\n",
      "Stack(['1', '8', '7', '6', '5', '4', '3', '2', '9'])\n",
      "Stack(['1', '8', '7', '6', '4', '3', '2', '9'])\n",
      "Stack(['1', '7', '4', '2'])\n",
      "Stack(['1', '7', '*', '4', '2'])\n",
      "Stack(['1', '7', '*', '0', '4', '2'])\n",
      "Stack(['1', '7', '0', '*', '0', '4', '2'])\n",
      "Stack(['7', '0', '*', '0', '4', '2'])\n",
      "Stack(['0', '*', '0', '4', '2'])\n",
      "Stack(['0', '*', '0', '2'])\n",
      "Stack(['0', '*', '0', '0', '2'])\n"
     ]
    }
   ],
   "source": [
    "t = Stack('123456789', 50)\n",
    "print(t)\n",
    "t.exchange()\n",
    "print(t)\n",
    "t.reverse()\n",
    "print(t)\n",
    "t.del_mid()\n",
    "print(t)\n",
    "t.del_even()\n",
    "print(t)\n",
    "t.ins_star()\n",
    "print(t)\n",
    "t.min_add_zero()\n",
    "print(t)\n",
    "t.max_add_zero()\n",
    "print(t)\n",
    "t.del_eq_first()\n",
    "print(t)\n",
    "t.del_eq_last()\n",
    "print(t)\n",
    "t.del_max()\n",
    "print(t)\n",
    "t.ch_min_zero()\n",
    "print(t)"
   ]
  },
  {
   "cell_type": "code",
   "execution_count": 3,
   "metadata": {},
   "outputs": [
    {
     "name": "stdout",
     "output_type": "stream",
     "text": [
      "{'st': ['(', 'f', '(', 'g', 'f', 'h', 'd', '(', '(', 'h', 'g', ')', ')', 'd', 's', ')', 'a', 'd', '(', '(', '(', ')', 'd', '(', 'a', 'd', 's', '(', ')', ')', ')', ')'], 'maxl': 50} \n",
      "\n",
      "-1\n",
      "-1\n",
      "-1\n",
      "-1\n",
      "+1\n",
      "+1\n",
      "-1\n",
      "+1\n",
      "+1\n",
      "+1\n",
      "-1\n",
      "-1\n",
      "-1\n",
      "+1\n",
      "+1\n",
      "+1\n",
      "+1\n",
      "'(' больше на 1\n",
      "\n",
      " {'st': [], 'maxl': 50}\n"
     ]
    }
   ],
   "source": [
    "s1 = Stack('(f(gfhd((hg))ds)ad((()d(ads())))', 50)\n",
    "print(s1.__dict__,'\\n')\n",
    "\n",
    "# s1.push('123')\n",
    "# print(s1.isEmpty)\n",
    "# if s1.isEmpty():\n",
    "#     print(\"empty\")\n",
    "\n",
    "print(s1.skob())\n",
    "print('\\n', s1.__dict__)"
   ]
  },
  {
   "cell_type": "markdown",
   "metadata": {},
   "source": [
    "2) С помощью списка (list) реализовать стек. При создании стека нужно передать максимальную длину стека. В случае попытки добавления элемента, приводящего к превышению емкости стека возвращать ошибку.\n",
    "\n",
    "Стек должен поддерживать следующие операции:\n",
    "\n",
    "S.push(e): добавление элемента e на вершину стека S.\n",
    "\n",
    "S.pop(): удаляет и возвращает верхний элемент стека S. Если стек пуст, то возникает ошибка.\n",
    "\n",
    "S.top(): возвращает верхний элемент стека S, не удаляя его. Если стек пуст, то возникает ошибка.\n",
    "\n",
    "S.is_empty( ): возвращает True если стек S не содержит ни одного элемента.\n",
    "\n",
    "len(S): возвращает текущеее количество элементов в стеке S."
   ]
  },
  {
   "cell_type": "code",
   "execution_count": 13,
   "metadata": {},
   "outputs": [],
   "source": []
  },
  {
   "cell_type": "code",
   "execution_count": 14,
   "metadata": {},
   "outputs": [
    {
     "data": {
      "text/plain": [
       "'Стек пуст. Удалять нельзя'"
      ]
     },
     "execution_count": 14,
     "metadata": {},
     "output_type": "execute_result"
    }
   ],
   "source": []
  },
  {
   "cell_type": "code",
   "execution_count": 16,
   "metadata": {},
   "outputs": [
    {
     "name": "stdout",
     "output_type": "stream",
     "text": [
      "{'strr': [1, 3, 8, 9, -3, 1]}\n",
      "-3\n",
      "{'strr': [1, 3, 8, 9, 1]}\n"
     ]
    }
   ],
   "source": [
    "\n",
    "#8 удалить минимальный элемент\n"
   ]
  },
  {
   "cell_type": "code",
   "execution_count": 17,
   "metadata": {},
   "outputs": [
    {
     "name": "stdout",
     "output_type": "stream",
     "text": [
      "{'strr': [1, 10, 16, 1, 9, 1, 10]}\n",
      "1\n",
      "{'strr': [1, 10, 16, 9, 10]}\n"
     ]
    }
   ],
   "source": [
    "#9 удалить все элементы равные первому\n"
   ]
  },
  {
   "cell_type": "code",
   "execution_count": 19,
   "metadata": {},
   "outputs": [
    {
     "name": "stdout",
     "output_type": "stream",
     "text": [
      "Stack([1, 2, 3, 4, 6, 7, 8, 9])\n",
      "Stack([1, 2, 3, 4, 7, 8, 9, 10])\n"
     ]
    }
   ],
   "source": [
    "from collections import deque\n",
    "class Stack(deque):\n",
    "    def push(self, a):\n",
    "        self.append(a)\n",
    "#Удалить элемент, который находится в середине сте-ка, если нечетное число элементов, а если четное, то два сред-них.\n",
    "#3\n"
   ]
  },
  {
   "cell_type": "code",
   "execution_count": null,
   "metadata": {},
   "outputs": [],
   "source": []
  }
 ],
 "metadata": {
  "kernelspec": {
   "display_name": "Python 3",
   "language": "python",
   "name": "python3"
  },
  "language_info": {
   "codemirror_mode": {
    "name": "ipython",
    "version": 3
   },
   "file_extension": ".py",
   "mimetype": "text/x-python",
   "name": "python",
   "nbconvert_exporter": "python",
   "pygments_lexer": "ipython3",
   "version": "3.8.5"
  }
 },
 "nbformat": 4,
 "nbformat_minor": 4
}
