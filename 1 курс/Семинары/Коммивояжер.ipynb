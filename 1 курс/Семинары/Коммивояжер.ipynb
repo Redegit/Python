{
 "cells": [
  {
   "cell_type": "code",
   "execution_count": 3,
   "metadata": {},
   "outputs": [],
   "source": [
    "import matplotlib.pyplot as plt\n",
    "import random as rn\n",
    "from math import sqrt"
   ]
  },
  {
   "cell_type": "code",
   "execution_count": 4,
   "metadata": {},
   "outputs": [],
   "source": [
    "class City:\n",
    "    def __init__(self, number):\n",
    "        self.coord = (rn.randint(1, 100), rn.randint(1, 100))\n",
    "        self.paths = []\n",
    "        self.number = number"
   ]
  },
  {
   "cell_type": "code",
   "execution_count": 5,
   "metadata": {},
   "outputs": [
    {
     "name": "stdout",
     "output_type": "stream",
     "text": [
      "(0, {1: 45.221676218380054, 2: 87.09190547921202, 3: 70.9365914038728, 4: 51.85556864985669, 5: 31.016124838541646, 6: 86.97700845625813, 7: 27.784887978899608, 8: 61.91122676865643, 9: 47.01063709417264})\n",
      "(1, {0: 45.221676218380054, 2: 86.82165628459296, 3: 97.57561170702442, 4: 80.32434251209281, 5: 45.31004303683677, 6: 97.58073580374356, 7: 67.0, 8: 40.52159917870962, 9: 75.58438992278762})\n",
      "(2, {0: 87.09190547921202, 1: 86.82165628459296, 3: 53.41348144429457, 4: 55.226805085936306, 5: 56.22277118748239, 6: 22.360679774997898, 7: 75.69015788066504, 8: 49.51767361255979, 9: 55.90169943749474})\n",
      "(3, {0: 70.9365914038728, 1: 97.57561170702442, 2: 53.41348144429457, 4: 19.1049731745428, 5: 52.32590180780452, 6: 35.22782990761707, 7: 45.65084884205331, 8: 78.00640999302557, 9: 24.041630560342615})\n",
      "(4, {0: 51.85556864985669, 1: 80.32434251209281, 2: 55.226805085936306, 3: 19.1049731745428, 5: 35.17101079013795, 6: 43.56604182158393, 7: 27.51363298439521, 8: 66.2872536767062, 9: 5.0})\n",
      "(5, {0: 31.016124838541646, 1: 45.31004303683677, 2: 56.22277118748239, 3: 52.32590180780452, 4: 35.17101079013795, 6: 58.59180830116101, 7: 30.23243291566195, 8: 38.01315561749642, 9: 30.59411708155671})\n",
      "(6, {0: 86.97700845625813, 1: 97.58073580374356, 2: 22.360679774997898, 3: 35.22782990761707, 4: 43.56604182158393, 5: 58.59180830116101, 7: 69.02897942168927, 8: 65.29931086925804, 9: 46.09772228646444})\n",
      "(7, {0: 27.784887978899608, 1: 67.0, 2: 75.69015788066504, 3: 45.65084884205331, 4: 27.51363298439521, 5: 30.23243291566195, 6: 69.02897942168927, 8: 68.24221567329127, 9: 23.53720459187964})\n",
      "(8, {0: 61.91122676865643, 1: 40.52159917870962, 2: 49.51767361255979, 3: 78.00640999302557, 4: 66.2872536767062, 5: 38.01315561749642, 6: 65.29931086925804, 7: 68.24221567329127, 9: 63.06346010171025})\n",
      "(9, {0: 47.01063709417264, 1: 75.58438992278762, 2: 55.90169943749474, 3: 24.041630560342615, 4: 5.0, 5: 30.59411708155671, 6: 46.09772228646444, 7: 23.53720459187964, 8: 63.06346010171025})\n"
     ]
    }
   ],
   "source": [
    "def ln(coord1, coord2):\n",
    "    return sqrt((coord1[0]-coord2[0])**2 + (coord1[1]-coord2[1])**2)\n",
    "\n",
    "n = 10\n",
    "cities = []\n",
    "graph = {}\n",
    "rn.seed(1000)\n",
    "\n",
    "for i in range(n):\n",
    "    cities.append(City(i))\n",
    "    \n",
    "for i in range(n):\n",
    "    graph[i] = {_: ln(cities[i].coord, cities[_].coord) for _ in range(n) if _ != i}\n",
    "\n",
    "\n",
    "for g in graph.items():\n",
    "    print(g)"
   ]
  },
  {
   "cell_type": "code",
   "execution_count": 13,
   "metadata": {},
   "outputs": [
    {
     "data": {
      "image/png": "[encoded data removed]",
      "text/plain": [
       "<Figure size 432x288 with 1 Axes>"
      ]
     },
     "metadata": {
      "needs_background": "light"
     },
     "output_type": "display_data"
    }
   ],
   "source": [
    "line = plt.plot([city.coord[0] for city in cities], [city.coord[1] for city in cities])\n",
    "plt.setp(line, color=\"blue\", linewidth=0, marker='o')\n",
    "plt.show()"
   ]
  },
  {
   "cell_type": "code",
   "execution_count": 7,
   "metadata": {},
   "outputs": [],
   "source": [
    "min_way = []\n",
    "min_len = float(\"inf\")\n",
    "\n",
    "choose_city(visited):\n",
    "    \n",
    "\n",
    "for i in range(n):\n",
    "    visited = [i]\n",
    "    "
   ]
  },
  {
   "cell_type": "code",
   "execution_count": null,
   "metadata": {},
   "outputs": [],
   "source": []
  }
 ],
 "metadata": {
  "kernelspec": {
   "display_name": "Python 3",
   "language": "python",
   "name": "python3"
  },
  "language_info": {
   "codemirror_mode": {
    "name": "ipython",
    "version": 3
   },
   "file_extension": ".py",
   "mimetype": "text/x-python",
   "name": "python",
   "nbconvert_exporter": "python",
   "pygments_lexer": "ipython3",
   "version": "3.8.5"
  }
 },
 "nbformat": 4,
 "nbformat_minor": 4
}
