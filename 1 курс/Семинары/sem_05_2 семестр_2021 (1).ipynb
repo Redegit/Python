{
 "cells": [
  {
   "cell_type": "markdown",
   "metadata": {},
   "source": [
    "## Функциональное программирование\n",
    "### Занятие 5\n",
    "\n",
    "\n",
    "1) Реализовать функцию factorial(n) двумя способами: с помощью цикла и рекурсии.\n",
    "\n",
    "1.1) С использованием глобальной переменной реализовать вывод на экран отладочной информации о вызовах функции factorial(n) печатающий с отступами, соответствующими глубине рекурсии.\n",
    "\n",
    "Пример:\n",
    "\n",
    "In: factorial(4)\n",
    "    \n",
    "    factorial(4)\n",
    "\n",
    "        factorial(3)\n",
    "        \n",
    "            factorial(2)\n",
    "\n",
    "                factorial(1)\n",
    "      \n",
    "                    factorial(0)\n",
    "                    \n",
    "1.2) Реализовать функции printIn(s) и printOut(s), которые выводят строки s с отступами, при этом каждый вывод printIn(s) приводит к увеличению отсутпа, а  каждый вывод printOut(s) приводит к уменьшению отсутпа.\n",
    "\n",
    "1.3) С использованием printIn(s) и printOut(s) реализовать отладочный вывод работы factorial(n) как для вызовов функций, так и для возвращаемых значений.\n",
    "\n",
    "Пример:\n",
    "\n",
    "In: factorial(4)\n",
    "\n",
    "    factorial(4)\n",
    "\n",
    "        factorial(3)\n",
    "        \n",
    "            factorial(2)\n",
    "    \n",
    "                factorial(1)\n",
    "      \n",
    "                    factorial(0)\n",
    "                    \n",
    "                    1\n",
    "                    \n",
    "                1\n",
    "                \n",
    "            2\n",
    "            \n",
    "        6\n",
    "        \n",
    "    24\n",
    "\n",
    "\n"
   ]
  },
  {
   "cell_type": "code",
   "execution_count": null,
   "metadata": {},
   "outputs": [],
   "source": []
  },
  {
   "cell_type": "code",
   "execution_count": 10,
   "metadata": {},
   "outputs": [
    {
     "name": "stdout",
     "output_type": "stream",
     "text": [
      "    factorial(5)\n",
      "        factorial(4)\n",
      "            factorial(3)\n",
      "                factorial(2)\n",
      "                    factorial(1)\n",
      "                        factorial(0)\n",
      "                    1\n",
      "                1\n",
      "            2\n",
      "        6\n",
      "    24\n",
      "120\n"
     ]
    },
    {
     "data": {
      "text/plain": [
       "120"
      ]
     },
     "execution_count": 10,
     "metadata": {},
     "output_type": "execute_result"
    }
   ],
   "source": [
    "factorial_r(5)"
   ]
  },
  {
   "cell_type": "markdown",
   "metadata": {},
   "source": [
    "\n",
    "\n",
    "2) Рекурсивно реализовать функцию fib(n) вычисляющую значение n-го числа Фибоначи. Учесть возможность вычисления числа с отрицательным индексом.\n",
    "\n",
    "2.1) С использованием printIn(s) и printOut(s) реализовать отладочный вывод работы fib(n)\n",
    "\n"
   ]
  },
  {
   "cell_type": "code",
   "execution_count": 28,
   "metadata": {},
   "outputs": [
    {
     "name": "stdout",
     "output_type": "stream",
     "text": [
      "(0)\n",
      "     (1)\n",
      "          (1)\n",
      "               (2)\n",
      "                    (3)\n",
      "                         (5)\n",
      "                              (8)\n",
      "                                   (13)\n",
      "                                        (21)\n",
      "                                             (34)\n",
      "                                                  (55)\n",
      "                                                       (89)\n",
      "                                                            (144)\n",
      "                                                                 (233)\n",
      "                                                                      (377)\n",
      "                                                                      >fib(15)\n",
      "                                                                 >fib(14)\n",
      "                                                            >fib(13)\n",
      "                                                       >fib(12)\n",
      "                                                  >fib(11)\n",
      "                                             >fib(10)\n",
      "                                        >fib(9)\n",
      "                                   >fib(8)\n",
      "                              >fib(7)\n",
      "                         >fib(6)\n",
      "                    >fib(5)\n",
      "               >fib(4)\n",
      "          >fib(3)\n",
      "     >fib(2)\n",
      ">fib(1)\n"
     ]
    }
   ],
   "source": [
    "s = 0\n",
    "i = 0\n",
    "def printIn(v):\n",
    "    \"\"\"In prints value\"\"\"\n",
    "    \n",
    "    global s\n",
    "    print(\" \"*s + f'({v})')\n",
    "    s += 5\n",
    "    \n",
    "def printOut(v):\n",
    "    \"\"\"Out prints function\"\"\"\n",
    "    \n",
    "    global s\n",
    "    s -= 5\n",
    "    print(\" \"*s + f\">{v}\")\n",
    "    \n",
    "def fib(n, k1 = 0, k2 = 0):\n",
    "    \"\"\"Calculates fibonacci\"\"\"\n",
    "    \n",
    "    k = k1 + k2\n",
    "    global i\n",
    "    while n > 0:\n",
    "        i += 1\n",
    "        printIn(f\"{k}\")\n",
    "        n -= 1\n",
    "        if i in [1, 2]:\n",
    "            return fib(n, 0, 1)\n",
    "        else:\n",
    "            return fib(n, k2, k)\n",
    "    while n < i:\n",
    "        printOut(f\"fib({i-n})\")\n",
    "        n += 1\n",
    "    return\n",
    "\n",
    "\n",
    "fib(15)"
   ]
  },
  {
   "cell_type": "code",
   "execution_count": null,
   "metadata": {},
   "outputs": [],
   "source": [
    "# s = 0\n",
    "# i = 0\n",
    "# def printIn(v):\n",
    "#     global s\n",
    "#     print(\"  \"*s + f'({v})')\n",
    "#     s -= 5\n",
    "    \n",
    "# def printOut(v):\n",
    "#     global s\n",
    "#     s += 5\n",
    "#     print(\"  \"*s + f\">{v}\")\n",
    "    \n",
    "# def fib(n, k1 = 0, k2 = 1):\n",
    "#     k = k1 + k2\n",
    "#     global i\n",
    "#     if i == 0:\n",
    "#         for _ in range(n):\n",
    "#             printOut(f\"fib({_+1})\")\n",
    "#             n -= 1\n",
    "#     while n > 0:\n",
    "#         printIn(f\"{k}\")\n",
    "#         n -= 1\n",
    "#         if n == 1:\n",
    "#             return fib(n, 0, 1)\n",
    "#         else:\n",
    "#             return fib(n, k2, k)\n",
    "#     return\n",
    "\n",
    "\n",
    "# fib(10)"
   ]
  },
  {
   "cell_type": "markdown",
   "metadata": {},
   "source": [
    "3) Реализовать функцию, принимающую на вход итерируемый объект функций и возвращающую словарь, в котором ключ - это первое слово из аннотации функции, а значение - ссылка на функцию.\n",
    "\n"
   ]
  },
  {
   "cell_type": "code",
   "execution_count": 100,
   "metadata": {},
   "outputs": [
    {
     "name": "stdout",
     "output_type": "stream",
     "text": [
      "Pretty printing has been turned ON\n"
     ]
    }
   ],
   "source": [
    "%pprint"
   ]
  },
  {
   "cell_type": "code",
   "execution_count": 95,
   "metadata": {},
   "outputs": [],
   "source": [
    "f_names = (printIn, printOut, fib)\n",
    "\n",
    "\n",
    "def names2dict(*func):\n",
    "    return {f.__doc__.split()[0]: f for f in func}"
   ]
  },
  {
   "cell_type": "code",
   "execution_count": 101,
   "metadata": {},
   "outputs": [
    {
     "data": {
      "text/plain": [
       "{'In': <function __main__.printIn(v)>,\n",
       " 'Out': <function __main__.printOut(v)>,\n",
       " 'Calculates': <function __main__.fib(n, k1=0, k2=0)>}"
      ]
     },
     "execution_count": 101,
     "metadata": {},
     "output_type": "execute_result"
    }
   ],
   "source": [
    "func_dict = names2dict(*f_names)\n",
    "func_dict"
   ]
  },
  {
   "cell_type": "markdown",
   "metadata": {},
   "source": [
    "4) Создать функцию реализующую REPL для словаря, созданного в задаче 3. Отдельно должен предусматриваться выход из цикла REPL."
   ]
  },
  {
   "cell_type": "code",
   "execution_count": 104,
   "metadata": {},
   "outputs": [
    {
     "name": "stderr",
     "output_type": "stream",
     "text": [
      "UsageError: Line magic function `%python3` not found (But cell magic `%%python3` exists, did you mean that instead?).\n"
     ]
    }
   ],
   "source": []
  },
  {
   "cell_type": "markdown",
   "metadata": {},
   "source": [
    "4.1) Доработать REPL из задачи 4 так, чтобы пользователь мог передвать произвольное количество аргументов в функцию (при вводе пользователя аргументы разделяются пробелами).\n",
    "\n",
    "Пример:\n",
    "\n",
    "ввод пользователя>СКЛЕИТЬ текст1 текст2 текст3\n",
    "\n",
    "результат>текст1текст2текст3"
   ]
  },
  {
   "cell_type": "markdown",
   "metadata": {},
   "source": [
    "4.2) Доработать REPL из задачи 4 так, чтобы пользователь мог передвать  аргументы в функцию по их имени(при вводе пользователя именованные аргументы опредлеяются как ИМЯ=ЗНАЧЕНИЕ). \n",
    "\n",
    "Пример:\n",
    "\n",
    "ввод пользователя>БРОСИТЬ расстояние=5 \n",
    "\n",
    "\n",
    "результат>Предмет брошен на расстояние 5"
   ]
  }
 ],
 "metadata": {
  "anaconda-cloud": {},
  "kernelspec": {
   "display_name": "Python 3",
   "language": "python",
   "name": "python3"
  },
  "language_info": {
   "codemirror_mode": {
    "name": "ipython",
    "version": 3
   },
   "file_extension": ".py",
   "mimetype": "text/x-python",
   "name": "python",
   "nbconvert_exporter": "python",
   "pygments_lexer": "ipython3",
   "version": "3.8.8"
  }
 },
 "nbformat": 4,
 "nbformat_minor": 1
}
