{
 "cells": [
  {
   "cell_type": "markdown",
   "metadata": {},
   "source": [
    "1) При помощи стека (можно использовать любую реализацию стека, например, из лекции) проверить, что в строке, содержащей большой фрагмент кода на python, корректно открываются и закрываются скобки '(' и ')'. \n",
    "\n",
    "Например, в следующей строке корректное количество скобок:\n",
    "\n",
    "'((dsasdas((das(d)das)d)asd)da)'\n",
    "\n",
    "А вот в следующей закрывающих больше, чем открывающих:\n",
    "\n",
    "'(f(gfhd((hgfdg((fghh)dads)das))ds)ad)d(ads())))'"
   ]
  },
  {
   "cell_type": "code",
   "execution_count": 142,
   "metadata": {},
   "outputs": [],
   "source": [
    "class Stack:\n",
    "    def __init__(self, stroka, maxl):\n",
    "        self.st = []\n",
    "        self.maxl = maxl\n",
    "        for i in list(stroka):\n",
    "            self.push(i)\n",
    "\n",
    "    @property\n",
    "    def isEmpty(self):\n",
    "        if len(self.st) == 0:\n",
    "            return 1\n",
    "        else:\n",
    "            return 0\n",
    "    \n",
    "    def top(self):\n",
    "        if self.isEmpty:\n",
    "            raise Exception('Стек пустой')\n",
    "        else:\n",
    "            return self.st[-1]\n",
    "        \n",
    "    def pop(self):\n",
    "        if self.isEmpty:\n",
    "            raise Exception('Стек пустой')\n",
    "        else:\n",
    "            return self.st.pop()\n",
    "\n",
    "    def push(self, a):\n",
    "        if len(self.st) >= self.maxl:\n",
    "            raise Exception('Превышена максимальная длина списка')\n",
    "        self.st.append(a)\n",
    "        return self.st\n",
    "\n",
    "    def skob(self):\n",
    "        counter = 0\n",
    "        while not self.isEmpty:\n",
    "            el = self.st.pop()\n",
    "            if el == '(':\n",
    "                counter += 1\n",
    "                print('+1')\n",
    "            elif el == ')':\n",
    "                counter -= 1\n",
    "                print('-1')\n",
    "        if counter > 0:\n",
    "            result = f'\\'(\\' больше на {abs(counter)}' \n",
    "        elif counter < 0:\n",
    "            result = f'\\')\\' больше на {abs(counter)}'\n",
    "        else:\n",
    "            result = 'поровну'\n",
    "        return result"
   ]
  },
  {
   "cell_type": "code",
   "execution_count": 144,
   "metadata": {},
   "outputs": [
    {
     "name": "stdout",
     "output_type": "stream",
     "text": [
      "{'st': ['(', 'f', '(', 'g', 'f', 'h', 'd', '(', '(', 'h', 'g', ')', ')', 'd', 's', ')', 'a', 'd', '(', '(', '(', ')', 'd', '(', 'a', 'd', 's', '(', ')', ')', ')', ')'], 'maxl': 50} \n",
      "\n",
      "-1\n",
      "-1\n",
      "-1\n",
      "-1\n",
      "+1\n",
      "+1\n",
      "-1\n",
      "+1\n",
      "+1\n",
      "+1\n",
      "-1\n",
      "-1\n",
      "-1\n",
      "+1\n",
      "+1\n",
      "+1\n",
      "+1\n",
      "'(' больше на 1\n",
      "\n",
      " {'st': [], 'maxl': 50}\n"
     ]
    }
   ],
   "source": [
    "s1 = Stack('(f(gfhd((hg))ds)ad((()d(ads())))', 50)\n",
    "print(s1.__dict__,'\\n')\n",
    "\n",
    "# s1.push('123')\n",
    "# print(s1.isEmpty)\n",
    "# if s1.isEmpty():\n",
    "#     print(\"empty\")\n",
    "\n",
    "print(s1.skob())\n",
    "print('\\n', s1.__dict__)"
   ]
  },
  {
   "cell_type": "markdown",
   "metadata": {},
   "source": [
    "2) С помощью списка (list) реализовать стек. При создании стека нужно передать максимальную длину стека. В случае попытки добавления элемента, приводящего к превышению емкости стека возвращать ошибку.\n",
    "\n",
    "Стек должен поддерживать следующие операции:\n",
    "\n",
    "S.push(e): добавление элемента e на вершину стека S.\n",
    "\n",
    "S.pop(): удаляет и возвращает верхний элемент стека S. Если стек пуст, то возникает ошибка.\n",
    "\n",
    "S.top(): возвращает верхний элемент стека S, не удаляя его. Если стек пуст, то возникает ошибка.\n",
    "\n",
    "S.is_empty( ): возвращает True если стек S не содержит ни одного элемента.\n",
    "\n",
    "len(S): возвращает текущеее количество элементов в стеке S."
   ]
  },
  {
   "cell_type": "code",
   "execution_count": 13,
   "metadata": {},
   "outputs": [],
   "source": []
  },
  {
   "cell_type": "code",
   "execution_count": 14,
   "metadata": {},
   "outputs": [
    {
     "data": {
      "text/plain": [
       "'Стек пуст. Удалять нельзя'"
      ]
     },
     "execution_count": 14,
     "metadata": {},
     "output_type": "execute_result"
    }
   ],
   "source": []
  },
  {
   "cell_type": "markdown",
   "metadata": {},
   "source": [
    "Д/з стеки:\n",
    "1.\tПоменять местами первый и последний эле-\n",
    "менты стека.\n",
    "2.\tРазвернуть стек (\"дно\" стека сделать вершиной,\n",
    "а вершину - \"дном\").\n",
    "3.\tУдалить элемент, который находится в середине сте-ка, если нечетное число элементов, а если четное, то два сред-них.\n",
    "4.\tУдалить каждый второй элемент стека.\n",
    "5.\tВставить символ «*» в середину стека, если четное число элементов, а если нечетное, то после среднего элемента.\n",
    "6.\tНайти минимальный элемент и вставить после\n",
    "него «0».\n",
    "7.\tНайти максимальный элемент и вставить после\n",
    "него «0».\n",
    "8.\tУдалить минимальный элемент.\n",
    "9.\tУдалить все элементы, равные первому.\n",
    "10.\tУдалить все элементы, равные последнему.\n",
    "11.\tУдалить максимальный элемент. \n",
    "12.\tНайти минимальный элемент и вставить на его\n",
    "место «0».\n"
   ]
  },
  {
   "cell_type": "code",
   "execution_count": 16,
   "metadata": {},
   "outputs": [
    {
     "name": "stdout",
     "output_type": "stream",
     "text": [
      "{'strr': [1, 3, 8, 9, -3, 1]}\n",
      "-3\n",
      "{'strr': [1, 3, 8, 9, 1]}\n"
     ]
    }
   ],
   "source": [
    "\n",
    "#8 удалить минимальный элемент\n"
   ]
  },
  {
   "cell_type": "code",
   "execution_count": 17,
   "metadata": {},
   "outputs": [
    {
     "name": "stdout",
     "output_type": "stream",
     "text": [
      "{'strr': [1, 10, 16, 1, 9, 1, 10]}\n",
      "1\n",
      "{'strr': [1, 10, 16, 9, 10]}\n"
     ]
    }
   ],
   "source": [
    "#9 удалить все элементы равные первому\n"
   ]
  },
  {
   "cell_type": "code",
   "execution_count": 19,
   "metadata": {},
   "outputs": [
    {
     "name": "stdout",
     "output_type": "stream",
     "text": [
      "Stack([1, 2, 3, 4, 6, 7, 8, 9])\n",
      "Stack([1, 2, 3, 4, 7, 8, 9, 10])\n"
     ]
    }
   ],
   "source": [
    "from collections import deque\n",
    "class Stack(deque):\n",
    "    def push(self, a):\n",
    "        self.append(a)\n",
    "#Удалить элемент, который находится в середине сте-ка, если нечетное число элементов, а если четное, то два сред-них.\n",
    "#3\n"
   ]
  },
  {
   "cell_type": "code",
   "execution_count": null,
   "metadata": {},
   "outputs": [],
   "source": []
  }
 ],
 "metadata": {
  "kernelspec": {
   "display_name": "Python 3",
   "language": "python",
   "name": "python3"
  },
  "language_info": {
   "codemirror_mode": {
    "name": "ipython",
    "version": 3
   },
   "file_extension": ".py",
   "mimetype": "text/x-python",
   "name": "python",
   "nbconvert_exporter": "python",
   "pygments_lexer": "ipython3",
   "version": "3.8.5"
  }
 },
 "nbformat": 4,
 "nbformat_minor": 4
}
