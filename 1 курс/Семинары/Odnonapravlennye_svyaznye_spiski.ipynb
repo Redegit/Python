{
 "cells": [
  {
   "cell_type": "markdown",
   "metadata": {},
   "source": [
    "#### Создать класс однонаправленных связных списков. Осуществить добавление элементов слева, справа, между элементами (узлами) списка."
   ]
  },
  {
   "cell_type": "code",
   "execution_count": 2,
   "metadata": {},
   "outputs": [],
   "source": [
    "class Node:\n",
    "    def __init__(self, value=None, nxt=None):\n",
    "        self.value = value\n",
    "        self.nxt = nxt\n",
    "        \n",
    "    def __str__(self):\n",
    "        return f'{self.value}'"
   ]
  },
  {
   "cell_type": "code",
   "execution_count": null,
   "metadata": {},
   "outputs": [],
   "source": [
    "class SingleLinkedList:\n",
    "    def __init__(self):\n",
    "        self.head = None\n",
    "        self.tail = None\n",
    "    \n",
    "    def append(self, obj):\n",
    "        new_obj = Node(obj)\n",
    "        if self.is_empty():\n",
    "            self.head = new_obj\n",
    "            self.tail = new_obj\n",
    "        elif self.head == self.tail:\n",
    "            self.tail = new_obj\n",
    "            self.head.nxt = self.tail\n",
    "        else:\n",
    "            self.tail.nxt = new_obj\n",
    "            self.tail = new_obj\n",
    "    \n",
    "    def append\n",
    "    "
   ]
  },
  {
   "cell_type": "code",
   "execution_count": 3,
   "metadata": {},
   "outputs": [],
   "source": [
    "\n"
   ]
  },
  {
   "cell_type": "code",
   "execution_count": 4,
   "metadata": {},
   "outputs": [
    {
     "name": "stdout",
     "output_type": "stream",
     "text": [
      "LinkedList[\n",
      "5\n",
      "6\n",
      "10\n",
      "11\n",
      "7\n",
      "16\n",
      "]\n"
     ]
    }
   ],
   "source": []
  },
  {
   "cell_type": "code",
   "execution_count": 5,
   "metadata": {},
   "outputs": [
    {
     "name": "stdout",
     "output_type": "stream",
     "text": [
      "LinkedList[\n",
      "6\n",
      "7\n",
      "6\n",
      "6\n",
      "6\n",
      "5\n",
      "]\n"
     ]
    }
   ],
   "source": []
  },
  {
   "cell_type": "code",
   "execution_count": 6,
   "metadata": {},
   "outputs": [
    {
     "name": "stdout",
     "output_type": "stream",
     "text": [
      "LinkedList[\n",
      "25\n",
      "15\n",
      "6\n",
      "5\n",
      "]\n"
     ]
    }
   ],
   "source": [
    "sllb =  SingleLinkedList()\n",
    "sllb.append_left(5)\n",
    "sllb.append_left(15)\n",
    "sllb.append_left(25)\n",
    "sllb.append_sr(6,15)\n",
    "print(sllb)"
   ]
  },
  {
   "cell_type": "markdown",
   "metadata": {},
   "source": [
    "Варианты заданий по однонаправленным связным спискам\n",
    " \n",
    "1.\tНаписать программу передвижения элемента на\n",
    "n позиций.\n",
    "2.\tВставить элемент после n-го элемента списка.\n",
    "3.\tДобавить элемент в начало списка.\n",
    "4.\tСоединить два списка.\n",
    "5.\tУдалить n-ый элемент из списка.\n",
    "6.\tСоздать копию списка.\n",
    "7.\tСоздать список, содержащий элементы общие для двух списков.\n",
    "8.\tУпорядочить элементы списка по возрастанию.\n",
    "9.\tУдалить каждый второй элемент списка.\n",
    "10.\tУдалить каждый третий элемент списка.\n",
    "11.\tУпорядочить элементы списка по убыванию.\n",
    "12.\tОчистить список.\n"
   ]
  },
  {
   "cell_type": "code",
   "execution_count": 7,
   "metadata": {},
   "outputs": [
    {
     "name": "stdout",
     "output_type": "stream",
     "text": [
      "qqq 5\n",
      "6\n",
      "ssilka 10\n",
      "ssilkanxt 11\n",
      "ssilka 11\n",
      "ssilkanxt 7\n",
      "wwww 11\n",
      "ssilka.nxt  6\n",
      "qqq 6\n",
      "qqq 7\n",
      "5\n",
      "10\n",
      "11\n",
      "6\n",
      "7\n"
     ]
    },
    {
     "data": {
      "text/plain": [
       "'LinkedList[\\n5\\n10\\n11\\n6\\n7\\n16\\n]'"
      ]
     },
     "execution_count": 7,
     "metadata": {},
     "output_type": "execute_result"
    }
   ],
   "source": [
    "#1.Написать программу передвижения элемента на n позиций ВПРАВО\n",
    "# реализовано не для всех случаев\n"
   ]
  },
  {
   "cell_type": "code",
   "execution_count": null,
   "metadata": {},
   "outputs": [],
   "source": []
  }
 ],
 "metadata": {
  "kernelspec": {
   "display_name": "Python 3",
   "language": "python",
   "name": "python3"
  },
  "language_info": {
   "codemirror_mode": {
    "name": "ipython",
    "version": 3
   },
   "file_extension": ".py",
   "mimetype": "text/x-python",
   "name": "python",
   "nbconvert_exporter": "python",
   "pygments_lexer": "ipython3",
   "version": "3.8.5"
  }
 },
 "nbformat": 4,
 "nbformat_minor": 5
}
