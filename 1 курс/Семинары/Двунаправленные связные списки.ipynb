{
 "cells": [
  {
   "cell_type": "code",
   "execution_count": 2,
   "metadata": {},
   "outputs": [],
   "source": [
    "\n",
    "        "
   ]
  },
  {
   "cell_type": "code",
   "execution_count": 46,
   "metadata": {},
   "outputs": [],
   "source": []
  },
  {
   "cell_type": "code",
   "execution_count": 47,
   "metadata": {},
   "outputs": [
    {
     "name": "stdout",
     "output_type": "stream",
     "text": [
      "[11 10 1 2 3 4 5 6 ]\n",
      "[11 10 1000 1 2 3 4 5 6 ]\n"
     ]
    }
   ],
   "source": [
    "s1=SingleLinkedList()\n",
    "s1.appendR(1)\n",
    "s1.appendR(2)\n",
    "s1.appendR(3)\n",
    "s1.appendR(4)\n",
    "s1.appendR(5)\n",
    "s1.appendR(6)\n",
    "s1.appendL(10)\n",
    "s1.appendL(11)\n",
    "print(s1)\n",
    "s1.appendS(1000,3)  #  (что, на какую позицию)\n",
    "print(s1)"
   ]
  },
  {
   "cell_type": "code",
   "execution_count": null,
   "metadata": {},
   "outputs": [],
   "source": []
  }
 ],
 "metadata": {
  "kernelspec": {
   "display_name": "Python 3",
   "language": "python",
   "name": "python3"
  },
  "language_info": {
   "codemirror_mode": {
    "name": "ipython",
    "version": 3
   },
   "file_extension": ".py",
   "mimetype": "text/x-python",
   "name": "python",
   "nbconvert_exporter": "python",
   "pygments_lexer": "ipython3",
   "version": "3.8.5"
  }
 },
 "nbformat": 4,
 "nbformat_minor": 5
}
